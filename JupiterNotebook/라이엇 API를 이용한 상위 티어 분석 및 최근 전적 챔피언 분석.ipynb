{
 "cells": [
  {
   "cell_type": "code",
   "execution_count": 235,
   "metadata": {},
   "outputs": [],
   "source": [
    "import requests # 웹 페이지 소스를 얻기 위한 패키지\n",
    "from bs4 import BeautifulSoup # 웹 페이지 소스를 얻기 위한 패키지, 더 간단히 얻을 수 있다는 장점\n",
    "from datetime import datetime                              \n",
    "import pandas as pd # 데이터를 처리하기 위한 가장 기본적인 패키지\n",
    "import time # 사이트를 불러올 때, 작업 지연시간을 지정해주기 위한 패키지(사이트가 늦게 켜지면 에러가 발생하기 때문)\n",
    "import urllib.request #\n",
    "from selenium.webdriver import Chrome\n",
    "import json\n",
    "import re     \n",
    "from selenium.webdriver.chrome.options import Options\n",
    "from selenium.webdriver.common.keys import Keys\n",
    "import datetime as dt\n",
    "import numpy as np\n",
    "import pickle\n",
    "import matplotlib\n",
    "%matplotlib inline \n",
    "import matplotlib.pyplot as plt\n",
    "import matplotlib.font_manager as fm\n",
    "import seaborn as sns\n",
    "from konlpy.tag import Twitter\n",
    "from collections import Counter\n",
    "\n",
    "import numpy as np\n",
    "import nltk\n",
    "from nltk.corpus import stopwords\n",
    "\n"
   ]
  },
  {
   "cell_type": "code",
   "execution_count": 2,
   "metadata": {},
   "outputs": [],
   "source": [
    "plt.style.use('ggplot')"
   ]
  },
  {
   "cell_type": "code",
   "execution_count": 4,
   "metadata": {},
   "outputs": [],
   "source": [
    "api_key = 'RGAPI-6db437cb-0544-4676-aff9-7e92664b273a'"
   ]
  },
  {
   "cell_type": "code",
   "execution_count": 5,
   "metadata": {},
   "outputs": [],
   "source": [
    "sohwan_name = \"https://kr.api.riotgames.com/lol/summoner/v4/summoners/by-name/babytonight\"+ '?api_key=' + api_key"
   ]
  },
  {
   "cell_type": "code",
   "execution_count": 6,
   "metadata": {},
   "outputs": [],
   "source": [
    "r = requests.get(sohwan_name)"
   ]
  },
  {
   "cell_type": "code",
   "execution_count": 7,
   "metadata": {},
   "outputs": [
    {
     "data": {
      "text/plain": [
       "<Response [200]>"
      ]
     },
     "execution_count": 7,
     "metadata": {},
     "output_type": "execute_result"
    }
   ],
   "source": [
    "r"
   ]
  },
  {
   "cell_type": "raw",
   "metadata": {},
   "source": [
    "r.json()"
   ]
  },
  {
   "cell_type": "code",
   "execution_count": 9,
   "metadata": {},
   "outputs": [
    {
     "data": {
      "text/plain": [
       "'0oQ4VFVifP1HtOWDxDCzaWLdGd9l9AxbaXpIC-GbrY3hjw'"
      ]
     },
     "execution_count": 9,
     "metadata": {},
     "output_type": "execute_result"
    }
   ],
   "source": [
    "r.json()['id']"
   ]
  },
  {
   "cell_type": "code",
   "execution_count": 19,
   "metadata": {},
   "outputs": [],
   "source": [
    "sohwan_tier = \"https://kr.api.riotgames.com/lol/league/v4/entries/by-summoner/\" + r.json()['id'] +'?api_key=' + api_key"
   ]
  },
  {
   "cell_type": "code",
   "execution_count": 20,
   "metadata": {},
   "outputs": [],
   "source": [
    "r2 = requests.get(sohwan_tier)"
   ]
  },
  {
   "cell_type": "code",
   "execution_count": 21,
   "metadata": {},
   "outputs": [
    {
     "data": {
      "text/plain": [
       "<Response [200]>"
      ]
     },
     "execution_count": 21,
     "metadata": {},
     "output_type": "execute_result"
    }
   ],
   "source": [
    "r2"
   ]
  },
  {
   "cell_type": "code",
   "execution_count": 22,
   "metadata": {},
   "outputs": [
    {
     "data": {
      "text/plain": [
       "[{'leagueId': '843ae9d0-727e-11e9-93a8-c81f66e41892',\n",
       "  'queueType': 'RANKED_SOLO_5x5',\n",
       "  'tier': 'GOLD',\n",
       "  'rank': 'III',\n",
       "  'summonerId': '0oQ4VFVifP1HtOWDxDCzaWLdGd9l9AxbaXpIC-GbrY3hjw',\n",
       "  'summonerName': 'babytonight',\n",
       "  'leaguePoints': 45,\n",
       "  'wins': 167,\n",
       "  'losses': 168,\n",
       "  'veteran': False,\n",
       "  'inactive': False,\n",
       "  'freshBlood': False,\n",
       "  'hotStreak': False}]"
      ]
     },
     "execution_count": 22,
     "metadata": {},
     "output_type": "execute_result"
    }
   ],
   "source": [
    "r2.json()"
   ]
  },
  {
   "cell_type": "code",
   "execution_count": 23,
   "metadata": {},
   "outputs": [],
   "source": [
    "sohwan_grandmaster = 'https://kr.api.riotgames.com/lol/league/v4/grandmasterleagues/by-queue/RANKED_SOLO_5x5?api_key=' + api_key"
   ]
  },
  {
   "cell_type": "code",
   "execution_count": 24,
   "metadata": {},
   "outputs": [],
   "source": [
    "r3 = requests.get(sohwan_grandmaster)"
   ]
  },
  {
   "cell_type": "code",
   "execution_count": 25,
   "metadata": {},
   "outputs": [
    {
     "data": {
      "text/plain": [
       "<Response [200]>"
      ]
     },
     "execution_count": 25,
     "metadata": {},
     "output_type": "execute_result"
    }
   ],
   "source": [
    "r3"
   ]
  },
  {
   "cell_type": "code",
   "execution_count": 73,
   "metadata": {},
   "outputs": [],
   "source": [
    "grand_df = pd.DataFrame(r3.json())"
   ]
  },
  {
   "cell_type": "code",
   "execution_count": 74,
   "metadata": {},
   "outputs": [
    {
     "data": {
      "text/html": [
       "<div>\n",
       "<style scoped>\n",
       "    .dataframe tbody tr th:only-of-type {\n",
       "        vertical-align: middle;\n",
       "    }\n",
       "\n",
       "    .dataframe tbody tr th {\n",
       "        vertical-align: top;\n",
       "    }\n",
       "\n",
       "    .dataframe thead th {\n",
       "        text-align: right;\n",
       "    }\n",
       "</style>\n",
       "<table border=\"1\" class=\"dataframe\">\n",
       "  <thead>\n",
       "    <tr style=\"text-align: right;\">\n",
       "      <th></th>\n",
       "      <th>tier</th>\n",
       "      <th>leagueId</th>\n",
       "      <th>queue</th>\n",
       "      <th>name</th>\n",
       "      <th>entries</th>\n",
       "    </tr>\n",
       "  </thead>\n",
       "  <tbody>\n",
       "    <tr>\n",
       "      <td>0</td>\n",
       "      <td>GRANDMASTER</td>\n",
       "      <td>b82a4a63-6fe0-34c1-96c5-bd9a7b8b8201</td>\n",
       "      <td>RANKED_SOLO_5x5</td>\n",
       "      <td>Syndra's Masterminds</td>\n",
       "      <td>{'summonerId': 'fQrh0QFG5LxuZs6jYwVegs6TiYHx_j...</td>\n",
       "    </tr>\n",
       "    <tr>\n",
       "      <td>1</td>\n",
       "      <td>GRANDMASTER</td>\n",
       "      <td>b82a4a63-6fe0-34c1-96c5-bd9a7b8b8201</td>\n",
       "      <td>RANKED_SOLO_5x5</td>\n",
       "      <td>Syndra's Masterminds</td>\n",
       "      <td>{'summonerId': 'eiVknWDFk_92S2OYJA7d1cMr-FVHWT...</td>\n",
       "    </tr>\n",
       "    <tr>\n",
       "      <td>2</td>\n",
       "      <td>GRANDMASTER</td>\n",
       "      <td>b82a4a63-6fe0-34c1-96c5-bd9a7b8b8201</td>\n",
       "      <td>RANKED_SOLO_5x5</td>\n",
       "      <td>Syndra's Masterminds</td>\n",
       "      <td>{'summonerId': 'xlZhfdH3qsTe1L-_uJYhoq7VRZTmaD...</td>\n",
       "    </tr>\n",
       "    <tr>\n",
       "      <td>3</td>\n",
       "      <td>GRANDMASTER</td>\n",
       "      <td>b82a4a63-6fe0-34c1-96c5-bd9a7b8b8201</td>\n",
       "      <td>RANKED_SOLO_5x5</td>\n",
       "      <td>Syndra's Masterminds</td>\n",
       "      <td>{'summonerId': 'RtrJBpyO4LNj6SLFkSXjeSPBaZiuAS...</td>\n",
       "    </tr>\n",
       "    <tr>\n",
       "      <td>4</td>\n",
       "      <td>GRANDMASTER</td>\n",
       "      <td>b82a4a63-6fe0-34c1-96c5-bd9a7b8b8201</td>\n",
       "      <td>RANKED_SOLO_5x5</td>\n",
       "      <td>Syndra's Masterminds</td>\n",
       "      <td>{'summonerId': 'jwQ-uIN9QeOechT-KDMiqkOm92afKJ...</td>\n",
       "    </tr>\n",
       "  </tbody>\n",
       "</table>\n",
       "</div>"
      ],
      "text/plain": [
       "          tier                              leagueId            queue  \\\n",
       "0  GRANDMASTER  b82a4a63-6fe0-34c1-96c5-bd9a7b8b8201  RANKED_SOLO_5x5   \n",
       "1  GRANDMASTER  b82a4a63-6fe0-34c1-96c5-bd9a7b8b8201  RANKED_SOLO_5x5   \n",
       "2  GRANDMASTER  b82a4a63-6fe0-34c1-96c5-bd9a7b8b8201  RANKED_SOLO_5x5   \n",
       "3  GRANDMASTER  b82a4a63-6fe0-34c1-96c5-bd9a7b8b8201  RANKED_SOLO_5x5   \n",
       "4  GRANDMASTER  b82a4a63-6fe0-34c1-96c5-bd9a7b8b8201  RANKED_SOLO_5x5   \n",
       "\n",
       "                   name                                            entries  \n",
       "0  Syndra's Masterminds  {'summonerId': 'fQrh0QFG5LxuZs6jYwVegs6TiYHx_j...  \n",
       "1  Syndra's Masterminds  {'summonerId': 'eiVknWDFk_92S2OYJA7d1cMr-FVHWT...  \n",
       "2  Syndra's Masterminds  {'summonerId': 'xlZhfdH3qsTe1L-_uJYhoq7VRZTmaD...  \n",
       "3  Syndra's Masterminds  {'summonerId': 'RtrJBpyO4LNj6SLFkSXjeSPBaZiuAS...  \n",
       "4  Syndra's Masterminds  {'summonerId': 'jwQ-uIN9QeOechT-KDMiqkOm92afKJ...  "
      ]
     },
     "execution_count": 74,
     "metadata": {},
     "output_type": "execute_result"
    }
   ],
   "source": [
    "grand_df.head()"
   ]
  },
  {
   "cell_type": "code",
   "execution_count": 75,
   "metadata": {},
   "outputs": [
    {
     "name": "stdout",
     "output_type": "stream",
     "text": [
      "<class 'pandas.core.frame.DataFrame'>\n",
      "RangeIndex: 700 entries, 0 to 699\n",
      "Data columns (total 10 columns):\n",
      "tier            700 non-null object\n",
      "summonerId      700 non-null object\n",
      "summonerName    700 non-null object\n",
      "leaguePoints    700 non-null object\n",
      "wins            700 non-null object\n",
      "losses          700 non-null object\n",
      "veteran         700 non-null object\n",
      "inactive        700 non-null object\n",
      "freshBlood      700 non-null object\n",
      "hotStreak       700 non-null object\n",
      "dtypes: object(10)\n",
      "memory usage: 54.8+ KB\n"
     ]
    }
   ],
   "source": [
    "grand_df.reset_index(inplace=True)\n",
    "grand_entries_df = pd.DataFrame(dict(grand_df['entries'])).T\n",
    "grand_df = pd.concat([grand_df, grand_entries_df], axis=1)\n",
    "grand_df = grand_df.drop(['index', 'queue', 'name', 'leagueId', 'entries', 'rank'], axis=1)\n",
    "grand_df.info()"
   ]
  },
  {
   "cell_type": "code",
   "execution_count": 76,
   "metadata": {},
   "outputs": [],
   "source": [
    "grand_df.to_csv('그랜드마스터.csv', index=False, encoding = 'utf-8')"
   ]
  },
  {
   "cell_type": "code",
   "execution_count": 79,
   "metadata": {},
   "outputs": [],
   "source": [
    "grand_df.sort_values(by='leaguePoints',ascending=False,inplace=True)\n",
    "grand_df.head(10)\n",
    "grand_df.to_csv('그랜드마스터_정렬.csv', index=False, encoding = 'utf-8')"
   ]
  },
  {
   "cell_type": "code",
   "execution_count": 80,
   "metadata": {},
   "outputs": [
    {
     "data": {
      "text/html": [
       "<div>\n",
       "<style scoped>\n",
       "    .dataframe tbody tr th:only-of-type {\n",
       "        vertical-align: middle;\n",
       "    }\n",
       "\n",
       "    .dataframe tbody tr th {\n",
       "        vertical-align: top;\n",
       "    }\n",
       "\n",
       "    .dataframe thead th {\n",
       "        text-align: right;\n",
       "    }\n",
       "</style>\n",
       "<table border=\"1\" class=\"dataframe\">\n",
       "  <thead>\n",
       "    <tr style=\"text-align: right;\">\n",
       "      <th></th>\n",
       "      <th>tier</th>\n",
       "      <th>summonerId</th>\n",
       "      <th>summonerName</th>\n",
       "      <th>leaguePoints</th>\n",
       "      <th>wins</th>\n",
       "      <th>losses</th>\n",
       "      <th>veteran</th>\n",
       "      <th>inactive</th>\n",
       "      <th>freshBlood</th>\n",
       "      <th>hotStreak</th>\n",
       "    </tr>\n",
       "  </thead>\n",
       "  <tbody>\n",
       "    <tr>\n",
       "      <td>23</td>\n",
       "      <td>GRANDMASTER</td>\n",
       "      <td>trqBxu_PqMDOLI63ffqhJsNJFj3Go2_uLnN3_6jXhBoAIbY</td>\n",
       "      <td>CS놓치면근손실</td>\n",
       "      <td>861</td>\n",
       "      <td>1263</td>\n",
       "      <td>1204</td>\n",
       "      <td>False</td>\n",
       "      <td>False</td>\n",
       "      <td>False</td>\n",
       "      <td>True</td>\n",
       "    </tr>\n",
       "    <tr>\n",
       "      <td>262</td>\n",
       "      <td>GRANDMASTER</td>\n",
       "      <td>kVO6dHmrwwQibX6ev4yTR_J1tPcUU-40D8rS-N_7Cfq3x0s</td>\n",
       "      <td>juhan1</td>\n",
       "      <td>846</td>\n",
       "      <td>703</td>\n",
       "      <td>584</td>\n",
       "      <td>False</td>\n",
       "      <td>False</td>\n",
       "      <td>True</td>\n",
       "      <td>False</td>\n",
       "    </tr>\n",
       "    <tr>\n",
       "      <td>674</td>\n",
       "      <td>GRANDMASTER</td>\n",
       "      <td>mAAVRhqPYImyNIFuwv5adTCY2vDB8AmlRgSm6Bz7nzpHAxo</td>\n",
       "      <td>콩알벌래</td>\n",
       "      <td>842</td>\n",
       "      <td>512</td>\n",
       "      <td>448</td>\n",
       "      <td>False</td>\n",
       "      <td>False</td>\n",
       "      <td>True</td>\n",
       "      <td>False</td>\n",
       "    </tr>\n",
       "    <tr>\n",
       "      <td>631</td>\n",
       "      <td>GRANDMASTER</td>\n",
       "      <td>xZqoPShP4ZQaBrLjab8kP9UjaIVAvmhzQ-jqOzVPrP84RNE</td>\n",
       "      <td>PRG Fnb</td>\n",
       "      <td>840</td>\n",
       "      <td>262</td>\n",
       "      <td>190</td>\n",
       "      <td>False</td>\n",
       "      <td>False</td>\n",
       "      <td>True</td>\n",
       "      <td>True</td>\n",
       "    </tr>\n",
       "    <tr>\n",
       "      <td>614</td>\n",
       "      <td>GRANDMASTER</td>\n",
       "      <td>Yz3GXnhwJXJ03aMLJFsT3aJwJ0-iYQ4ZYeiND1sP2S8sbg</td>\n",
       "      <td>eren헌터</td>\n",
       "      <td>831</td>\n",
       "      <td>930</td>\n",
       "      <td>878</td>\n",
       "      <td>False</td>\n",
       "      <td>False</td>\n",
       "      <td>True</td>\n",
       "      <td>False</td>\n",
       "    </tr>\n",
       "  </tbody>\n",
       "</table>\n",
       "</div>"
      ],
      "text/plain": [
       "            tier                                       summonerId  \\\n",
       "23   GRANDMASTER  trqBxu_PqMDOLI63ffqhJsNJFj3Go2_uLnN3_6jXhBoAIbY   \n",
       "262  GRANDMASTER  kVO6dHmrwwQibX6ev4yTR_J1tPcUU-40D8rS-N_7Cfq3x0s   \n",
       "674  GRANDMASTER  mAAVRhqPYImyNIFuwv5adTCY2vDB8AmlRgSm6Bz7nzpHAxo   \n",
       "631  GRANDMASTER  xZqoPShP4ZQaBrLjab8kP9UjaIVAvmhzQ-jqOzVPrP84RNE   \n",
       "614  GRANDMASTER   Yz3GXnhwJXJ03aMLJFsT3aJwJ0-iYQ4ZYeiND1sP2S8sbg   \n",
       "\n",
       "    summonerName leaguePoints  wins losses veteran inactive freshBlood  \\\n",
       "23      CS놓치면근손실          861  1263   1204   False    False      False   \n",
       "262       juhan1          846   703    584   False    False       True   \n",
       "674         콩알벌래          842   512    448   False    False       True   \n",
       "631      PRG Fnb          840   262    190   False    False       True   \n",
       "614       eren헌터          831   930    878   False    False       True   \n",
       "\n",
       "    hotStreak  \n",
       "23       True  \n",
       "262     False  \n",
       "674     False  \n",
       "631      True  \n",
       "614     False  "
      ]
     },
     "execution_count": 80,
     "metadata": {},
     "output_type": "execute_result"
    }
   ],
   "source": [
    "grand_df.head()"
   ]
  },
  {
   "cell_type": "code",
   "execution_count": 54,
   "metadata": {},
   "outputs": [],
   "source": [
    "match_info_df = pd.DataFrame()"
   ]
  },
  {
   "cell_type": "code",
   "execution_count": 56,
   "metadata": {},
   "outputs": [],
   "source": [
    "challenge = 'https://kr.api.riotgames.com/lol/league/v4/challengerleagues/by-queue/RANKED_SOLO_5x5?api_key=' + api_key"
   ]
  },
  {
   "cell_type": "code",
   "execution_count": 57,
   "metadata": {},
   "outputs": [],
   "source": [
    "r4 = requests.get(challenge)"
   ]
  },
  {
   "cell_type": "code",
   "execution_count": 58,
   "metadata": {},
   "outputs": [
    {
     "data": {
      "text/plain": [
       "<Response [200]>"
      ]
     },
     "execution_count": 58,
     "metadata": {},
     "output_type": "execute_result"
    }
   ],
   "source": [
    "r4"
   ]
  },
  {
   "cell_type": "code",
   "execution_count": 65,
   "metadata": {},
   "outputs": [],
   "source": [
    "league_df = pd.DataFrame(r4.json())"
   ]
  },
  {
   "cell_type": "code",
   "execution_count": 66,
   "metadata": {},
   "outputs": [
    {
     "data": {
      "text/html": [
       "<div>\n",
       "<style scoped>\n",
       "    .dataframe tbody tr th:only-of-type {\n",
       "        vertical-align: middle;\n",
       "    }\n",
       "\n",
       "    .dataframe tbody tr th {\n",
       "        vertical-align: top;\n",
       "    }\n",
       "\n",
       "    .dataframe thead th {\n",
       "        text-align: right;\n",
       "    }\n",
       "</style>\n",
       "<table border=\"1\" class=\"dataframe\">\n",
       "  <thead>\n",
       "    <tr style=\"text-align: right;\">\n",
       "      <th></th>\n",
       "      <th>tier</th>\n",
       "      <th>leagueId</th>\n",
       "      <th>queue</th>\n",
       "      <th>name</th>\n",
       "      <th>entries</th>\n",
       "    </tr>\n",
       "  </thead>\n",
       "  <tbody>\n",
       "    <tr>\n",
       "      <td>0</td>\n",
       "      <td>CHALLENGER</td>\n",
       "      <td>ba73b86b-97c9-3dfc-856e-88777fec7e56</td>\n",
       "      <td>RANKED_SOLO_5x5</td>\n",
       "      <td>Nautilus's Outriders</td>\n",
       "      <td>{'summonerId': 'r50B4TlPooM3y59Q2FnDmqBZ12sPO8...</td>\n",
       "    </tr>\n",
       "    <tr>\n",
       "      <td>1</td>\n",
       "      <td>CHALLENGER</td>\n",
       "      <td>ba73b86b-97c9-3dfc-856e-88777fec7e56</td>\n",
       "      <td>RANKED_SOLO_5x5</td>\n",
       "      <td>Nautilus's Outriders</td>\n",
       "      <td>{'summonerId': '5EKEqTVshCR0TPzP7gqPkVVroEjC7i...</td>\n",
       "    </tr>\n",
       "    <tr>\n",
       "      <td>2</td>\n",
       "      <td>CHALLENGER</td>\n",
       "      <td>ba73b86b-97c9-3dfc-856e-88777fec7e56</td>\n",
       "      <td>RANKED_SOLO_5x5</td>\n",
       "      <td>Nautilus's Outriders</td>\n",
       "      <td>{'summonerId': '6YvodlfcxVYyfxuPmqvYxiIYqsi8TR...</td>\n",
       "    </tr>\n",
       "    <tr>\n",
       "      <td>3</td>\n",
       "      <td>CHALLENGER</td>\n",
       "      <td>ba73b86b-97c9-3dfc-856e-88777fec7e56</td>\n",
       "      <td>RANKED_SOLO_5x5</td>\n",
       "      <td>Nautilus's Outriders</td>\n",
       "      <td>{'summonerId': '7Rt7XJnh6hbn9RWeycSpltN5m3kkJR...</td>\n",
       "    </tr>\n",
       "    <tr>\n",
       "      <td>4</td>\n",
       "      <td>CHALLENGER</td>\n",
       "      <td>ba73b86b-97c9-3dfc-856e-88777fec7e56</td>\n",
       "      <td>RANKED_SOLO_5x5</td>\n",
       "      <td>Nautilus's Outriders</td>\n",
       "      <td>{'summonerId': 'tOite-IOn1tFtCp69S0sl-c7ClXaRM...</td>\n",
       "    </tr>\n",
       "  </tbody>\n",
       "</table>\n",
       "</div>"
      ],
      "text/plain": [
       "         tier                              leagueId            queue  \\\n",
       "0  CHALLENGER  ba73b86b-97c9-3dfc-856e-88777fec7e56  RANKED_SOLO_5x5   \n",
       "1  CHALLENGER  ba73b86b-97c9-3dfc-856e-88777fec7e56  RANKED_SOLO_5x5   \n",
       "2  CHALLENGER  ba73b86b-97c9-3dfc-856e-88777fec7e56  RANKED_SOLO_5x5   \n",
       "3  CHALLENGER  ba73b86b-97c9-3dfc-856e-88777fec7e56  RANKED_SOLO_5x5   \n",
       "4  CHALLENGER  ba73b86b-97c9-3dfc-856e-88777fec7e56  RANKED_SOLO_5x5   \n",
       "\n",
       "                   name                                            entries  \n",
       "0  Nautilus's Outriders  {'summonerId': 'r50B4TlPooM3y59Q2FnDmqBZ12sPO8...  \n",
       "1  Nautilus's Outriders  {'summonerId': '5EKEqTVshCR0TPzP7gqPkVVroEjC7i...  \n",
       "2  Nautilus's Outriders  {'summonerId': '6YvodlfcxVYyfxuPmqvYxiIYqsi8TR...  \n",
       "3  Nautilus's Outriders  {'summonerId': '7Rt7XJnh6hbn9RWeycSpltN5m3kkJR...  \n",
       "4  Nautilus's Outriders  {'summonerId': 'tOite-IOn1tFtCp69S0sl-c7ClXaRM...  "
      ]
     },
     "execution_count": 66,
     "metadata": {},
     "output_type": "execute_result"
    }
   ],
   "source": [
    "league_df.head()"
   ]
  },
  {
   "cell_type": "code",
   "execution_count": 67,
   "metadata": {},
   "outputs": [
    {
     "name": "stdout",
     "output_type": "stream",
     "text": [
      "<class 'pandas.core.frame.DataFrame'>\n",
      "RangeIndex: 300 entries, 0 to 299\n",
      "Data columns (total 10 columns):\n",
      "tier            300 non-null object\n",
      "summonerId      300 non-null object\n",
      "summonerName    300 non-null object\n",
      "leaguePoints    300 non-null object\n",
      "wins            300 non-null object\n",
      "losses          300 non-null object\n",
      "veteran         300 non-null object\n",
      "inactive        300 non-null object\n",
      "freshBlood      300 non-null object\n",
      "hotStreak       300 non-null object\n",
      "dtypes: object(10)\n",
      "memory usage: 23.6+ KB\n"
     ]
    }
   ],
   "source": [
    "league_df.reset_index(inplace=True)\n",
    "league_entries_df = pd.DataFrame(dict(league_df['entries'])).T\n",
    "league_df = pd.concat([league_df, league_entries_df], axis=1)\n",
    "\n",
    "league_df = league_df.drop(['index', 'queue', 'name', 'leagueId', 'entries', 'rank'], axis=1)\n",
    "league_df.info()"
   ]
  },
  {
   "cell_type": "code",
   "execution_count": 68,
   "metadata": {},
   "outputs": [],
   "source": [
    "league_df.to_csv('첼린저.csv', index=False, encoding = 'utf-8')"
   ]
  },
  {
   "cell_type": "code",
   "execution_count": 70,
   "metadata": {},
   "outputs": [],
   "source": [
    "league_df.sort_values(by='leaguePoints',ascending=False,inplace=True)\n",
    "league_df.head(10)\n",
    "league_df.to_csv('첼린저2.csv', index=False, encoding = 'utf-8')"
   ]
  },
  {
   "cell_type": "code",
   "execution_count": 71,
   "metadata": {},
   "outputs": [
    {
     "data": {
      "text/html": [
       "<div>\n",
       "<style scoped>\n",
       "    .dataframe tbody tr th:only-of-type {\n",
       "        vertical-align: middle;\n",
       "    }\n",
       "\n",
       "    .dataframe tbody tr th {\n",
       "        vertical-align: top;\n",
       "    }\n",
       "\n",
       "    .dataframe thead th {\n",
       "        text-align: right;\n",
       "    }\n",
       "</style>\n",
       "<table border=\"1\" class=\"dataframe\">\n",
       "  <thead>\n",
       "    <tr style=\"text-align: right;\">\n",
       "      <th></th>\n",
       "      <th>tier</th>\n",
       "      <th>summonerId</th>\n",
       "      <th>summonerName</th>\n",
       "      <th>leaguePoints</th>\n",
       "      <th>wins</th>\n",
       "      <th>losses</th>\n",
       "      <th>veteran</th>\n",
       "      <th>inactive</th>\n",
       "      <th>freshBlood</th>\n",
       "      <th>hotStreak</th>\n",
       "    </tr>\n",
       "  </thead>\n",
       "  <tbody>\n",
       "    <tr>\n",
       "      <td>3</td>\n",
       "      <td>CHALLENGER</td>\n",
       "      <td>7Rt7XJnh6hbn9RWeycSpltN5m3kkJRsOWmvI6I8FlGVoBaY</td>\n",
       "      <td>Cuzz</td>\n",
       "      <td>1589</td>\n",
       "      <td>410</td>\n",
       "      <td>239</td>\n",
       "      <td>True</td>\n",
       "      <td>False</td>\n",
       "      <td>False</td>\n",
       "      <td>True</td>\n",
       "    </tr>\n",
       "    <tr>\n",
       "      <td>205</td>\n",
       "      <td>CHALLENGER</td>\n",
       "      <td>qaebfV2Fbs671SU7yXsMGUW4tKO7___0SB5F2cDzTkBtRgg</td>\n",
       "      <td>Doxxx</td>\n",
       "      <td>1577</td>\n",
       "      <td>776</td>\n",
       "      <td>668</td>\n",
       "      <td>True</td>\n",
       "      <td>False</td>\n",
       "      <td>False</td>\n",
       "      <td>True</td>\n",
       "    </tr>\n",
       "    <tr>\n",
       "      <td>189</td>\n",
       "      <td>CHALLENGER</td>\n",
       "      <td>aUGumyTTxKAcs9mZjoy615CIfbYS4YDJsi0HJBsYV1QA_Vw</td>\n",
       "      <td>Kanavi</td>\n",
       "      <td>1497</td>\n",
       "      <td>391</td>\n",
       "      <td>264</td>\n",
       "      <td>True</td>\n",
       "      <td>False</td>\n",
       "      <td>False</td>\n",
       "      <td>True</td>\n",
       "    </tr>\n",
       "    <tr>\n",
       "      <td>167</td>\n",
       "      <td>CHALLENGER</td>\n",
       "      <td>19RhZA0GnIydvEz1anyXCuNlbOrcxL65i3DAuvbULwE4w2A</td>\n",
       "      <td>kk9qwq</td>\n",
       "      <td>1465</td>\n",
       "      <td>730</td>\n",
       "      <td>543</td>\n",
       "      <td>True</td>\n",
       "      <td>False</td>\n",
       "      <td>False</td>\n",
       "      <td>False</td>\n",
       "    </tr>\n",
       "    <tr>\n",
       "      <td>28</td>\n",
       "      <td>CHALLENGER</td>\n",
       "      <td>PkvxowM4v22_iZAMygW_iIIle7CmHA1G1gMHXQIuRy6syg</td>\n",
       "      <td>소나잔나</td>\n",
       "      <td>1446</td>\n",
       "      <td>366</td>\n",
       "      <td>231</td>\n",
       "      <td>True</td>\n",
       "      <td>False</td>\n",
       "      <td>False</td>\n",
       "      <td>False</td>\n",
       "    </tr>\n",
       "  </tbody>\n",
       "</table>\n",
       "</div>"
      ],
      "text/plain": [
       "           tier                                       summonerId summonerName  \\\n",
       "3    CHALLENGER  7Rt7XJnh6hbn9RWeycSpltN5m3kkJRsOWmvI6I8FlGVoBaY         Cuzz   \n",
       "205  CHALLENGER  qaebfV2Fbs671SU7yXsMGUW4tKO7___0SB5F2cDzTkBtRgg        Doxxx   \n",
       "189  CHALLENGER  aUGumyTTxKAcs9mZjoy615CIfbYS4YDJsi0HJBsYV1QA_Vw       Kanavi   \n",
       "167  CHALLENGER  19RhZA0GnIydvEz1anyXCuNlbOrcxL65i3DAuvbULwE4w2A       kk9qwq   \n",
       "28   CHALLENGER   PkvxowM4v22_iZAMygW_iIIle7CmHA1G1gMHXQIuRy6syg         소나잔나   \n",
       "\n",
       "    leaguePoints wins losses veteran inactive freshBlood hotStreak  \n",
       "3           1589  410    239    True    False      False      True  \n",
       "205         1577  776    668    True    False      False      True  \n",
       "189         1497  391    264    True    False      False      True  \n",
       "167         1465  730    543    True    False      False     False  \n",
       "28          1446  366    231    True    False      False     False  "
      ]
     },
     "execution_count": 71,
     "metadata": {},
     "output_type": "execute_result"
    }
   ],
   "source": [
    "league_df.head()"
   ]
  },
  {
   "cell_type": "code",
   "execution_count": 81,
   "metadata": {},
   "outputs": [],
   "source": [
    "total_tier = pd.concat([grand_df,league_df])"
   ]
  },
  {
   "cell_type": "code",
   "execution_count": 82,
   "metadata": {},
   "outputs": [
    {
     "data": {
      "text/plain": [
       "(1000, 10)"
      ]
     },
     "execution_count": 82,
     "metadata": {},
     "output_type": "execute_result"
    }
   ],
   "source": [
    "total_tier.shape"
   ]
  },
  {
   "cell_type": "code",
   "execution_count": 83,
   "metadata": {},
   "outputs": [],
   "source": [
    "total_tier.to_csv('C:/Users/KOH/Desktop/total_tier.csv', index=False)"
   ]
  },
  {
   "cell_type": "code",
   "execution_count": 84,
   "metadata": {},
   "outputs": [
    {
     "name": "stdout",
     "output_type": "stream",
     "text": [
      "<class 'pandas.core.frame.DataFrame'>\n",
      "Int64Index: 1000 entries, 23 to 274\n",
      "Data columns (total 10 columns):\n",
      "tier            1000 non-null object\n",
      "summonerId      1000 non-null object\n",
      "summonerName    1000 non-null object\n",
      "leaguePoints    1000 non-null object\n",
      "wins            1000 non-null object\n",
      "losses          1000 non-null object\n",
      "veteran         1000 non-null object\n",
      "inactive        1000 non-null object\n",
      "freshBlood      1000 non-null object\n",
      "hotStreak       1000 non-null object\n",
      "dtypes: object(10)\n",
      "memory usage: 85.9+ KB\n",
      "None\n"
     ]
    }
   ],
   "source": [
    "print(total_tier.info())"
   ]
  },
  {
   "cell_type": "code",
   "execution_count": 85,
   "metadata": {},
   "outputs": [
    {
     "data": {
      "text/html": [
       "<div>\n",
       "<style scoped>\n",
       "    .dataframe tbody tr th:only-of-type {\n",
       "        vertical-align: middle;\n",
       "    }\n",
       "\n",
       "    .dataframe tbody tr th {\n",
       "        vertical-align: top;\n",
       "    }\n",
       "\n",
       "    .dataframe thead th {\n",
       "        text-align: right;\n",
       "    }\n",
       "</style>\n",
       "<table border=\"1\" class=\"dataframe\">\n",
       "  <thead>\n",
       "    <tr style=\"text-align: right;\">\n",
       "      <th></th>\n",
       "      <th>tier</th>\n",
       "      <th>summonerId</th>\n",
       "      <th>summonerName</th>\n",
       "      <th>leaguePoints</th>\n",
       "      <th>wins</th>\n",
       "      <th>losses</th>\n",
       "      <th>veteran</th>\n",
       "      <th>inactive</th>\n",
       "      <th>freshBlood</th>\n",
       "      <th>hotStreak</th>\n",
       "    </tr>\n",
       "  </thead>\n",
       "  <tbody>\n",
       "    <tr>\n",
       "      <td>count</td>\n",
       "      <td>1000</td>\n",
       "      <td>1000</td>\n",
       "      <td>1000</td>\n",
       "      <td>1000</td>\n",
       "      <td>1000</td>\n",
       "      <td>1000</td>\n",
       "      <td>1000</td>\n",
       "      <td>1000</td>\n",
       "      <td>1000</td>\n",
       "      <td>1000</td>\n",
       "    </tr>\n",
       "    <tr>\n",
       "      <td>unique</td>\n",
       "      <td>2</td>\n",
       "      <td>1000</td>\n",
       "      <td>1000</td>\n",
       "      <td>525</td>\n",
       "      <td>641</td>\n",
       "      <td>653</td>\n",
       "      <td>2</td>\n",
       "      <td>1</td>\n",
       "      <td>2</td>\n",
       "      <td>2</td>\n",
       "    </tr>\n",
       "    <tr>\n",
       "      <td>top</td>\n",
       "      <td>GRANDMASTER</td>\n",
       "      <td>1v0chbBCQ-Z_QdQ8JfyF6Q-MupeOmuk9rTvyYIXnUQw0XWw</td>\n",
       "      <td>썸썸데이</td>\n",
       "      <td>410</td>\n",
       "      <td>347</td>\n",
       "      <td>315</td>\n",
       "      <td>False</td>\n",
       "      <td>False</td>\n",
       "      <td>False</td>\n",
       "      <td>False</td>\n",
       "    </tr>\n",
       "    <tr>\n",
       "      <td>freq</td>\n",
       "      <td>700</td>\n",
       "      <td>1</td>\n",
       "      <td>1</td>\n",
       "      <td>8</td>\n",
       "      <td>7</td>\n",
       "      <td>7</td>\n",
       "      <td>593</td>\n",
       "      <td>1000</td>\n",
       "      <td>786</td>\n",
       "      <td>836</td>\n",
       "    </tr>\n",
       "  </tbody>\n",
       "</table>\n",
       "</div>"
      ],
      "text/plain": [
       "               tier                                       summonerId  \\\n",
       "count          1000                                             1000   \n",
       "unique            2                                             1000   \n",
       "top     GRANDMASTER  1v0chbBCQ-Z_QdQ8JfyF6Q-MupeOmuk9rTvyYIXnUQw0XWw   \n",
       "freq            700                                                1   \n",
       "\n",
       "       summonerName  leaguePoints  wins  losses veteran inactive freshBlood  \\\n",
       "count          1000          1000  1000    1000    1000     1000       1000   \n",
       "unique         1000           525   641     653       2        1          2   \n",
       "top            썸썸데이           410   347     315   False    False      False   \n",
       "freq              1             8     7       7     593     1000        786   \n",
       "\n",
       "       hotStreak  \n",
       "count       1000  \n",
       "unique         2  \n",
       "top        False  \n",
       "freq         836  "
      ]
     },
     "execution_count": 85,
     "metadata": {},
     "output_type": "execute_result"
    }
   ],
   "source": [
    "total_tier.describe()"
   ]
  },
  {
   "cell_type": "code",
   "execution_count": 87,
   "metadata": {},
   "outputs": [
    {
     "data": {
      "text/html": [
       "<div>\n",
       "<style scoped>\n",
       "    .dataframe tbody tr th:only-of-type {\n",
       "        vertical-align: middle;\n",
       "    }\n",
       "\n",
       "    .dataframe tbody tr th {\n",
       "        vertical-align: top;\n",
       "    }\n",
       "\n",
       "    .dataframe thead th {\n",
       "        text-align: right;\n",
       "    }\n",
       "</style>\n",
       "<table border=\"1\" class=\"dataframe\">\n",
       "  <thead>\n",
       "    <tr style=\"text-align: right;\">\n",
       "      <th></th>\n",
       "      <th>count</th>\n",
       "      <th>unique</th>\n",
       "      <th>top</th>\n",
       "      <th>freq</th>\n",
       "    </tr>\n",
       "    <tr>\n",
       "      <th>tier</th>\n",
       "      <th></th>\n",
       "      <th></th>\n",
       "      <th></th>\n",
       "      <th></th>\n",
       "    </tr>\n",
       "  </thead>\n",
       "  <tbody>\n",
       "    <tr>\n",
       "      <td>CHALLENGER</td>\n",
       "      <td>300</td>\n",
       "      <td>211</td>\n",
       "      <td>914</td>\n",
       "      <td>5</td>\n",
       "    </tr>\n",
       "    <tr>\n",
       "      <td>GRANDMASTER</td>\n",
       "      <td>700</td>\n",
       "      <td>328</td>\n",
       "      <td>410</td>\n",
       "      <td>8</td>\n",
       "    </tr>\n",
       "  </tbody>\n",
       "</table>\n",
       "</div>"
      ],
      "text/plain": [
       "             count  unique  top  freq\n",
       "tier                                 \n",
       "CHALLENGER     300     211  914     5\n",
       "GRANDMASTER    700     328  410     8"
      ]
     },
     "execution_count": 87,
     "metadata": {},
     "output_type": "execute_result"
    }
   ],
   "source": [
    "total_tier.groupby('tier')['leaguePoints'].describe()"
   ]
  },
  {
   "cell_type": "code",
   "execution_count": 93,
   "metadata": {},
   "outputs": [
    {
     "data": {
      "text/plain": [
       "tier\n",
       "CHALLENGER     [1589, 1577, 1497, 1465, 1446, 1441, 1436, 142...\n",
       "GRANDMASTER    [861, 846, 842, 840, 831, 828, 827, 818, 810, ...\n",
       "Name: leaguePoints, dtype: object"
      ]
     },
     "execution_count": 93,
     "metadata": {},
     "output_type": "execute_result"
    }
   ],
   "source": [
    "total_tier.groupby('tier')['leaguePoints'].unique()"
   ]
  },
  {
   "cell_type": "code",
   "execution_count": 96,
   "metadata": {},
   "outputs": [
    {
     "data": {
      "text/html": [
       "<div>\n",
       "<style scoped>\n",
       "    .dataframe tbody tr th:only-of-type {\n",
       "        vertical-align: middle;\n",
       "    }\n",
       "\n",
       "    .dataframe tbody tr th {\n",
       "        vertical-align: top;\n",
       "    }\n",
       "\n",
       "    .dataframe thead th {\n",
       "        text-align: right;\n",
       "    }\n",
       "</style>\n",
       "<table border=\"1\" class=\"dataframe\">\n",
       "  <thead>\n",
       "    <tr style=\"text-align: right;\">\n",
       "      <th></th>\n",
       "      <th>unique</th>\n",
       "      <th>count</th>\n",
       "    </tr>\n",
       "    <tr>\n",
       "      <th>tier</th>\n",
       "      <th></th>\n",
       "      <th></th>\n",
       "    </tr>\n",
       "  </thead>\n",
       "  <tbody>\n",
       "    <tr>\n",
       "      <td>CHALLENGER</td>\n",
       "      <td>[1589, 1577, 1497, 1465, 1446, 1441, 1436, 142...</td>\n",
       "      <td>300</td>\n",
       "    </tr>\n",
       "    <tr>\n",
       "      <td>GRANDMASTER</td>\n",
       "      <td>[861, 846, 842, 840, 831, 828, 827, 818, 810, ...</td>\n",
       "      <td>700</td>\n",
       "    </tr>\n",
       "  </tbody>\n",
       "</table>\n",
       "</div>"
      ],
      "text/plain": [
       "                                                        unique  count\n",
       "tier                                                                 \n",
       "CHALLENGER   [1589, 1577, 1497, 1465, 1446, 1441, 1436, 142...    300\n",
       "GRANDMASTER  [861, 846, 842, 840, 831, 828, 827, 818, 810, ...    700"
      ]
     },
     "execution_count": 96,
     "metadata": {},
     "output_type": "execute_result"
    }
   ],
   "source": [
    "total_tier.groupby('tier')['leaguePoints'].agg(['unique','count'])"
   ]
  },
  {
   "cell_type": "code",
   "execution_count": 99,
   "metadata": {},
   "outputs": [],
   "source": [
    "master = 'https://kr.api.riotgames.com/lol/league/v4/masterleagues/by-queue/RANKED_SOLO_5x5?api_key=' + api_key"
   ]
  },
  {
   "cell_type": "code",
   "execution_count": 100,
   "metadata": {},
   "outputs": [],
   "source": [
    "r5 = requests.get(master)"
   ]
  },
  {
   "cell_type": "code",
   "execution_count": 101,
   "metadata": {},
   "outputs": [
    {
     "data": {
      "text/plain": [
       "<Response [200]>"
      ]
     },
     "execution_count": 101,
     "metadata": {},
     "output_type": "execute_result"
    }
   ],
   "source": [
    "r5"
   ]
  },
  {
   "cell_type": "code",
   "execution_count": 103,
   "metadata": {},
   "outputs": [],
   "source": [
    "master_df = pd.DataFrame(r5.json())"
   ]
  },
  {
   "cell_type": "code",
   "execution_count": 104,
   "metadata": {},
   "outputs": [
    {
     "data": {
      "text/html": [
       "<div>\n",
       "<style scoped>\n",
       "    .dataframe tbody tr th:only-of-type {\n",
       "        vertical-align: middle;\n",
       "    }\n",
       "\n",
       "    .dataframe tbody tr th {\n",
       "        vertical-align: top;\n",
       "    }\n",
       "\n",
       "    .dataframe thead th {\n",
       "        text-align: right;\n",
       "    }\n",
       "</style>\n",
       "<table border=\"1\" class=\"dataframe\">\n",
       "  <thead>\n",
       "    <tr style=\"text-align: right;\">\n",
       "      <th></th>\n",
       "      <th>tier</th>\n",
       "      <th>leagueId</th>\n",
       "      <th>queue</th>\n",
       "      <th>name</th>\n",
       "      <th>entries</th>\n",
       "    </tr>\n",
       "  </thead>\n",
       "  <tbody>\n",
       "    <tr>\n",
       "      <td>0</td>\n",
       "      <td>MASTER</td>\n",
       "      <td>02b21acc-7155-3e13-a409-609de4846bd3</td>\n",
       "      <td>RANKED_SOLO_5x5</td>\n",
       "      <td>Riven's Snipers</td>\n",
       "      <td>{'summonerId': 'XzAqfeZb9oeUNAGxfaB5qJ0h6Q0ya2...</td>\n",
       "    </tr>\n",
       "    <tr>\n",
       "      <td>1</td>\n",
       "      <td>MASTER</td>\n",
       "      <td>02b21acc-7155-3e13-a409-609de4846bd3</td>\n",
       "      <td>RANKED_SOLO_5x5</td>\n",
       "      <td>Riven's Snipers</td>\n",
       "      <td>{'summonerId': 'wLIRS-ujZZa0ADmyl6j4zMgZ7D0ajJ...</td>\n",
       "    </tr>\n",
       "    <tr>\n",
       "      <td>2</td>\n",
       "      <td>MASTER</td>\n",
       "      <td>02b21acc-7155-3e13-a409-609de4846bd3</td>\n",
       "      <td>RANKED_SOLO_5x5</td>\n",
       "      <td>Riven's Snipers</td>\n",
       "      <td>{'summonerId': 'NrKMglEiwqDQOID-KlzhyTGvKO5viB...</td>\n",
       "    </tr>\n",
       "    <tr>\n",
       "      <td>3</td>\n",
       "      <td>MASTER</td>\n",
       "      <td>02b21acc-7155-3e13-a409-609de4846bd3</td>\n",
       "      <td>RANKED_SOLO_5x5</td>\n",
       "      <td>Riven's Snipers</td>\n",
       "      <td>{'summonerId': 'dTU38kakYIdvbmzcbWKMzfzBVONHwX...</td>\n",
       "    </tr>\n",
       "    <tr>\n",
       "      <td>4</td>\n",
       "      <td>MASTER</td>\n",
       "      <td>02b21acc-7155-3e13-a409-609de4846bd3</td>\n",
       "      <td>RANKED_SOLO_5x5</td>\n",
       "      <td>Riven's Snipers</td>\n",
       "      <td>{'summonerId': 'hQpMFcEpuIA0CMR2AYjlWChntl7ydG...</td>\n",
       "    </tr>\n",
       "  </tbody>\n",
       "</table>\n",
       "</div>"
      ],
      "text/plain": [
       "     tier                              leagueId            queue  \\\n",
       "0  MASTER  02b21acc-7155-3e13-a409-609de4846bd3  RANKED_SOLO_5x5   \n",
       "1  MASTER  02b21acc-7155-3e13-a409-609de4846bd3  RANKED_SOLO_5x5   \n",
       "2  MASTER  02b21acc-7155-3e13-a409-609de4846bd3  RANKED_SOLO_5x5   \n",
       "3  MASTER  02b21acc-7155-3e13-a409-609de4846bd3  RANKED_SOLO_5x5   \n",
       "4  MASTER  02b21acc-7155-3e13-a409-609de4846bd3  RANKED_SOLO_5x5   \n",
       "\n",
       "              name                                            entries  \n",
       "0  Riven's Snipers  {'summonerId': 'XzAqfeZb9oeUNAGxfaB5qJ0h6Q0ya2...  \n",
       "1  Riven's Snipers  {'summonerId': 'wLIRS-ujZZa0ADmyl6j4zMgZ7D0ajJ...  \n",
       "2  Riven's Snipers  {'summonerId': 'NrKMglEiwqDQOID-KlzhyTGvKO5viB...  \n",
       "3  Riven's Snipers  {'summonerId': 'dTU38kakYIdvbmzcbWKMzfzBVONHwX...  \n",
       "4  Riven's Snipers  {'summonerId': 'hQpMFcEpuIA0CMR2AYjlWChntl7ydG...  "
      ]
     },
     "execution_count": 104,
     "metadata": {},
     "output_type": "execute_result"
    }
   ],
   "source": [
    "master_df.head()"
   ]
  },
  {
   "cell_type": "code",
   "execution_count": 105,
   "metadata": {},
   "outputs": [
    {
     "name": "stdout",
     "output_type": "stream",
     "text": [
      "<class 'pandas.core.frame.DataFrame'>\n",
      "RangeIndex: 3651 entries, 0 to 3650\n",
      "Data columns (total 10 columns):\n",
      "tier            3651 non-null object\n",
      "summonerId      3651 non-null object\n",
      "summonerName    3651 non-null object\n",
      "leaguePoints    3651 non-null object\n",
      "wins            3651 non-null object\n",
      "losses          3651 non-null object\n",
      "veteran         3651 non-null object\n",
      "inactive        3651 non-null object\n",
      "freshBlood      3651 non-null object\n",
      "hotStreak       3651 non-null object\n",
      "dtypes: object(10)\n",
      "memory usage: 285.4+ KB\n"
     ]
    }
   ],
   "source": [
    "master_df.reset_index(inplace=True)\n",
    "master_entries_df = pd.DataFrame(dict(master_df['entries'])).T\n",
    "master_df = pd.concat([master_df, master_entries_df], axis=1)\n",
    "\n",
    "master_df = master_df.drop(['index', 'queue', 'name', 'leagueId', 'entries', 'rank'], axis=1)\n",
    "master_df.info()"
   ]
  },
  {
   "cell_type": "code",
   "execution_count": 107,
   "metadata": {},
   "outputs": [],
   "source": [
    "master_df.to_csv('마스터.csv',index=False,encoding = 'cp949')"
   ]
  },
  {
   "cell_type": "code",
   "execution_count": 108,
   "metadata": {},
   "outputs": [
    {
     "data": {
      "text/html": [
       "<div>\n",
       "<style scoped>\n",
       "    .dataframe tbody tr th:only-of-type {\n",
       "        vertical-align: middle;\n",
       "    }\n",
       "\n",
       "    .dataframe tbody tr th {\n",
       "        vertical-align: top;\n",
       "    }\n",
       "\n",
       "    .dataframe thead th {\n",
       "        text-align: right;\n",
       "    }\n",
       "</style>\n",
       "<table border=\"1\" class=\"dataframe\">\n",
       "  <thead>\n",
       "    <tr style=\"text-align: right;\">\n",
       "      <th></th>\n",
       "      <th>tier</th>\n",
       "      <th>summonerId</th>\n",
       "      <th>summonerName</th>\n",
       "      <th>leaguePoints</th>\n",
       "      <th>wins</th>\n",
       "      <th>losses</th>\n",
       "      <th>veteran</th>\n",
       "      <th>inactive</th>\n",
       "      <th>freshBlood</th>\n",
       "      <th>hotStreak</th>\n",
       "    </tr>\n",
       "  </thead>\n",
       "  <tbody>\n",
       "    <tr>\n",
       "      <td>0</td>\n",
       "      <td>MASTER</td>\n",
       "      <td>XzAqfeZb9oeUNAGxfaB5qJ0h6Q0ya2Mi7raGNG_Wg4l6HNE</td>\n",
       "      <td>딜량조작</td>\n",
       "      <td>12</td>\n",
       "      <td>1057</td>\n",
       "      <td>1028</td>\n",
       "      <td>False</td>\n",
       "      <td>False</td>\n",
       "      <td>True</td>\n",
       "      <td>False</td>\n",
       "    </tr>\n",
       "    <tr>\n",
       "      <td>1</td>\n",
       "      <td>MASTER</td>\n",
       "      <td>wLIRS-ujZZa0ADmyl6j4zMgZ7D0ajJOaAMQ9L_9FLOHRjw</td>\n",
       "      <td>말없이게임</td>\n",
       "      <td>236</td>\n",
       "      <td>811</td>\n",
       "      <td>740</td>\n",
       "      <td>True</td>\n",
       "      <td>False</td>\n",
       "      <td>False</td>\n",
       "      <td>False</td>\n",
       "    </tr>\n",
       "    <tr>\n",
       "      <td>2</td>\n",
       "      <td>MASTER</td>\n",
       "      <td>NrKMglEiwqDQOID-KlzhyTGvKO5viBnegff5GSWibD7POdM</td>\n",
       "      <td>오프넥스</td>\n",
       "      <td>229</td>\n",
       "      <td>379</td>\n",
       "      <td>304</td>\n",
       "      <td>False</td>\n",
       "      <td>False</td>\n",
       "      <td>False</td>\n",
       "      <td>False</td>\n",
       "    </tr>\n",
       "    <tr>\n",
       "      <td>3</td>\n",
       "      <td>MASTER</td>\n",
       "      <td>dTU38kakYIdvbmzcbWKMzfzBVONHwXWE6tsmhwmXfoHDiHw</td>\n",
       "      <td>갓날드</td>\n",
       "      <td>0</td>\n",
       "      <td>112</td>\n",
       "      <td>48</td>\n",
       "      <td>False</td>\n",
       "      <td>False</td>\n",
       "      <td>False</td>\n",
       "      <td>False</td>\n",
       "    </tr>\n",
       "    <tr>\n",
       "      <td>4</td>\n",
       "      <td>MASTER</td>\n",
       "      <td>hQpMFcEpuIA0CMR2AYjlWChntl7ydG9JL_mXd34_V9rxkQ</td>\n",
       "      <td>On my vvay</td>\n",
       "      <td>81</td>\n",
       "      <td>428</td>\n",
       "      <td>417</td>\n",
       "      <td>False</td>\n",
       "      <td>False</td>\n",
       "      <td>False</td>\n",
       "      <td>False</td>\n",
       "    </tr>\n",
       "    <tr>\n",
       "      <td>...</td>\n",
       "      <td>...</td>\n",
       "      <td>...</td>\n",
       "      <td>...</td>\n",
       "      <td>...</td>\n",
       "      <td>...</td>\n",
       "      <td>...</td>\n",
       "      <td>...</td>\n",
       "      <td>...</td>\n",
       "      <td>...</td>\n",
       "      <td>...</td>\n",
       "    </tr>\n",
       "    <tr>\n",
       "      <td>3646</td>\n",
       "      <td>MASTER</td>\n",
       "      <td>O41izAt-kpTXXMfu_an1XcTqSj1ojE98uQv4IP95DK5vrg</td>\n",
       "      <td>상구놈</td>\n",
       "      <td>134</td>\n",
       "      <td>648</td>\n",
       "      <td>629</td>\n",
       "      <td>False</td>\n",
       "      <td>False</td>\n",
       "      <td>False</td>\n",
       "      <td>False</td>\n",
       "    </tr>\n",
       "    <tr>\n",
       "      <td>3647</td>\n",
       "      <td>MASTER</td>\n",
       "      <td>XIt-lGLWHmv5wy6LUVtzQCy7mAdQDflrXrNlIWarb3evGFE</td>\n",
       "      <td>Flex 피사</td>\n",
       "      <td>27</td>\n",
       "      <td>572</td>\n",
       "      <td>518</td>\n",
       "      <td>False</td>\n",
       "      <td>False</td>\n",
       "      <td>False</td>\n",
       "      <td>False</td>\n",
       "    </tr>\n",
       "    <tr>\n",
       "      <td>3648</td>\n",
       "      <td>MASTER</td>\n",
       "      <td>xWu9Mez_MLsq_3v-Ipg1OEvWAi0o_ZuFwMM99_BQe0A-NlI</td>\n",
       "      <td>나는 노인이다</td>\n",
       "      <td>449</td>\n",
       "      <td>730</td>\n",
       "      <td>629</td>\n",
       "      <td>True</td>\n",
       "      <td>False</td>\n",
       "      <td>False</td>\n",
       "      <td>False</td>\n",
       "    </tr>\n",
       "    <tr>\n",
       "      <td>3649</td>\n",
       "      <td>MASTER</td>\n",
       "      <td>Em33a6bRX0BtMKiL3ZuXK5pLmuNPcd-nWxITXXWL5BFmdKI</td>\n",
       "      <td>기분좋은우성</td>\n",
       "      <td>13</td>\n",
       "      <td>182</td>\n",
       "      <td>138</td>\n",
       "      <td>False</td>\n",
       "      <td>False</td>\n",
       "      <td>False</td>\n",
       "      <td>True</td>\n",
       "    </tr>\n",
       "    <tr>\n",
       "      <td>3650</td>\n",
       "      <td>MASTER</td>\n",
       "      <td>X40xuDWb0Bt9syh_5VXDMtZZvuiMuX--zEJfaxJ9wqKxyg</td>\n",
       "      <td>팡팡 터트리기</td>\n",
       "      <td>58</td>\n",
       "      <td>683</td>\n",
       "      <td>643</td>\n",
       "      <td>True</td>\n",
       "      <td>False</td>\n",
       "      <td>False</td>\n",
       "      <td>False</td>\n",
       "    </tr>\n",
       "  </tbody>\n",
       "</table>\n",
       "<p>3651 rows × 10 columns</p>\n",
       "</div>"
      ],
      "text/plain": [
       "        tier                                       summonerId summonerName  \\\n",
       "0     MASTER  XzAqfeZb9oeUNAGxfaB5qJ0h6Q0ya2Mi7raGNG_Wg4l6HNE         딜량조작   \n",
       "1     MASTER   wLIRS-ujZZa0ADmyl6j4zMgZ7D0ajJOaAMQ9L_9FLOHRjw        말없이게임   \n",
       "2     MASTER  NrKMglEiwqDQOID-KlzhyTGvKO5viBnegff5GSWibD7POdM         오프넥스   \n",
       "3     MASTER  dTU38kakYIdvbmzcbWKMzfzBVONHwXWE6tsmhwmXfoHDiHw          갓날드   \n",
       "4     MASTER   hQpMFcEpuIA0CMR2AYjlWChntl7ydG9JL_mXd34_V9rxkQ   On my vvay   \n",
       "...      ...                                              ...          ...   \n",
       "3646  MASTER   O41izAt-kpTXXMfu_an1XcTqSj1ojE98uQv4IP95DK5vrg          상구놈   \n",
       "3647  MASTER  XIt-lGLWHmv5wy6LUVtzQCy7mAdQDflrXrNlIWarb3evGFE      Flex 피사   \n",
       "3648  MASTER  xWu9Mez_MLsq_3v-Ipg1OEvWAi0o_ZuFwMM99_BQe0A-NlI      나는 노인이다   \n",
       "3649  MASTER  Em33a6bRX0BtMKiL3ZuXK5pLmuNPcd-nWxITXXWL5BFmdKI       기분좋은우성   \n",
       "3650  MASTER   X40xuDWb0Bt9syh_5VXDMtZZvuiMuX--zEJfaxJ9wqKxyg      팡팡 터트리기   \n",
       "\n",
       "     leaguePoints  wins losses veteran inactive freshBlood hotStreak  \n",
       "0              12  1057   1028   False    False       True     False  \n",
       "1             236   811    740    True    False      False     False  \n",
       "2             229   379    304   False    False      False     False  \n",
       "3               0   112     48   False    False      False     False  \n",
       "4              81   428    417   False    False      False     False  \n",
       "...           ...   ...    ...     ...      ...        ...       ...  \n",
       "3646          134   648    629   False    False      False     False  \n",
       "3647           27   572    518   False    False      False     False  \n",
       "3648          449   730    629    True    False      False     False  \n",
       "3649           13   182    138   False    False      False      True  \n",
       "3650           58   683    643    True    False      False     False  \n",
       "\n",
       "[3651 rows x 10 columns]"
      ]
     },
     "execution_count": 108,
     "metadata": {},
     "output_type": "execute_result"
    }
   ],
   "source": [
    "master_df"
   ]
  },
  {
   "cell_type": "code",
   "execution_count": 109,
   "metadata": {},
   "outputs": [],
   "source": [
    "master_df.sort_values(by='leaguePoints',ascending=False,inplace=True)\n",
    "master_df.head(10)\n",
    "master_df.to_csv('마스터_정렬.csv', index=False, encoding = 'utf-8')"
   ]
  },
  {
   "cell_type": "code",
   "execution_count": 110,
   "metadata": {},
   "outputs": [
    {
     "data": {
      "text/html": [
       "<div>\n",
       "<style scoped>\n",
       "    .dataframe tbody tr th:only-of-type {\n",
       "        vertical-align: middle;\n",
       "    }\n",
       "\n",
       "    .dataframe tbody tr th {\n",
       "        vertical-align: top;\n",
       "    }\n",
       "\n",
       "    .dataframe thead th {\n",
       "        text-align: right;\n",
       "    }\n",
       "</style>\n",
       "<table border=\"1\" class=\"dataframe\">\n",
       "  <thead>\n",
       "    <tr style=\"text-align: right;\">\n",
       "      <th></th>\n",
       "      <th>tier</th>\n",
       "      <th>summonerId</th>\n",
       "      <th>summonerName</th>\n",
       "      <th>leaguePoints</th>\n",
       "      <th>wins</th>\n",
       "      <th>losses</th>\n",
       "      <th>veteran</th>\n",
       "      <th>inactive</th>\n",
       "      <th>freshBlood</th>\n",
       "      <th>hotStreak</th>\n",
       "    </tr>\n",
       "  </thead>\n",
       "  <tbody>\n",
       "    <tr>\n",
       "      <td>2017</td>\n",
       "      <td>MASTER</td>\n",
       "      <td>pi2fs90ho4EBdHcZP-64M04m75p9qdsipI57-sp1YFhSvyo</td>\n",
       "      <td>전설의용사박위림</td>\n",
       "      <td>509</td>\n",
       "      <td>717</td>\n",
       "      <td>711</td>\n",
       "      <td>False</td>\n",
       "      <td>False</td>\n",
       "      <td>True</td>\n",
       "      <td>False</td>\n",
       "    </tr>\n",
       "    <tr>\n",
       "      <td>3106</td>\n",
       "      <td>MASTER</td>\n",
       "      <td>4ekn1fC7aI6ywT14DViJISL8MSQ9POIr0TxzOVj2rsVRPD8</td>\n",
       "      <td>C9 k1ng</td>\n",
       "      <td>483</td>\n",
       "      <td>72</td>\n",
       "      <td>37</td>\n",
       "      <td>False</td>\n",
       "      <td>False</td>\n",
       "      <td>True</td>\n",
       "      <td>False</td>\n",
       "    </tr>\n",
       "    <tr>\n",
       "      <td>781</td>\n",
       "      <td>MASTER</td>\n",
       "      <td>npvdegUTqmBWbJ4zUa2q8UIlavBISZvaxTLGR4a3VpSqLFU</td>\n",
       "      <td>Lego77</td>\n",
       "      <td>478</td>\n",
       "      <td>351</td>\n",
       "      <td>259</td>\n",
       "      <td>False</td>\n",
       "      <td>False</td>\n",
       "      <td>True</td>\n",
       "      <td>False</td>\n",
       "    </tr>\n",
       "    <tr>\n",
       "      <td>1501</td>\n",
       "      <td>MASTER</td>\n",
       "      <td>djLXa7-sbWTibWepGvLHapbVxWkPdCbX7JLYuR6A-3gfZw</td>\n",
       "      <td>eimifukadaaa</td>\n",
       "      <td>461</td>\n",
       "      <td>240</td>\n",
       "      <td>181</td>\n",
       "      <td>True</td>\n",
       "      <td>False</td>\n",
       "      <td>False</td>\n",
       "      <td>False</td>\n",
       "    </tr>\n",
       "    <tr>\n",
       "      <td>3442</td>\n",
       "      <td>MASTER</td>\n",
       "      <td>RKy6GqDOYXL9OWKMTta7rAgFt3dbKd8ktK9xb2jEOsDnhjM</td>\n",
       "      <td>팽도리0114</td>\n",
       "      <td>458</td>\n",
       "      <td>430</td>\n",
       "      <td>373</td>\n",
       "      <td>False</td>\n",
       "      <td>False</td>\n",
       "      <td>False</td>\n",
       "      <td>False</td>\n",
       "    </tr>\n",
       "    <tr>\n",
       "      <td>...</td>\n",
       "      <td>...</td>\n",
       "      <td>...</td>\n",
       "      <td>...</td>\n",
       "      <td>...</td>\n",
       "      <td>...</td>\n",
       "      <td>...</td>\n",
       "      <td>...</td>\n",
       "      <td>...</td>\n",
       "      <td>...</td>\n",
       "      <td>...</td>\n",
       "    </tr>\n",
       "    <tr>\n",
       "      <td>788</td>\n",
       "      <td>MASTER</td>\n",
       "      <td>kpPWz4HGphHEz5LuGhsBlFSD4gFSbQWnAFTT17Dbohc4dM4</td>\n",
       "      <td>쉔쿵심쿵</td>\n",
       "      <td>0</td>\n",
       "      <td>162</td>\n",
       "      <td>86</td>\n",
       "      <td>False</td>\n",
       "      <td>False</td>\n",
       "      <td>True</td>\n",
       "      <td>True</td>\n",
       "    </tr>\n",
       "    <tr>\n",
       "      <td>2701</td>\n",
       "      <td>MASTER</td>\n",
       "      <td>l9LiusjPpF1QBroncBQwZLYUQeuX78RO8P-kBvwgJNlGgA</td>\n",
       "      <td>정글잘함</td>\n",
       "      <td>0</td>\n",
       "      <td>118</td>\n",
       "      <td>87</td>\n",
       "      <td>False</td>\n",
       "      <td>False</td>\n",
       "      <td>False</td>\n",
       "      <td>False</td>\n",
       "    </tr>\n",
       "    <tr>\n",
       "      <td>2700</td>\n",
       "      <td>MASTER</td>\n",
       "      <td>huKbrZZ0c7bTWHbnepm0-fPGrQ4OxeSYWOAXEkA1lXkHf00</td>\n",
       "      <td>기욤쓰</td>\n",
       "      <td>0</td>\n",
       "      <td>142</td>\n",
       "      <td>112</td>\n",
       "      <td>False</td>\n",
       "      <td>False</td>\n",
       "      <td>False</td>\n",
       "      <td>True</td>\n",
       "    </tr>\n",
       "    <tr>\n",
       "      <td>789</td>\n",
       "      <td>MASTER</td>\n",
       "      <td>L2rBmVRUuAARHOTN9CfPkTEeD0ymAF4GbAyjeHqeo8ezhw8</td>\n",
       "      <td>프레이 발바닥</td>\n",
       "      <td>0</td>\n",
       "      <td>250</td>\n",
       "      <td>189</td>\n",
       "      <td>False</td>\n",
       "      <td>False</td>\n",
       "      <td>False</td>\n",
       "      <td>True</td>\n",
       "    </tr>\n",
       "    <tr>\n",
       "      <td>1853</td>\n",
       "      <td>MASTER</td>\n",
       "      <td>aYYquRIsIYBRKro7rEHKdONxpQSO7jCBQe_d2av60dqXjbM</td>\n",
       "      <td>나는 슬픔이있다</td>\n",
       "      <td>0</td>\n",
       "      <td>581</td>\n",
       "      <td>553</td>\n",
       "      <td>False</td>\n",
       "      <td>False</td>\n",
       "      <td>True</td>\n",
       "      <td>False</td>\n",
       "    </tr>\n",
       "  </tbody>\n",
       "</table>\n",
       "<p>3651 rows × 10 columns</p>\n",
       "</div>"
      ],
      "text/plain": [
       "        tier                                       summonerId  summonerName  \\\n",
       "2017  MASTER  pi2fs90ho4EBdHcZP-64M04m75p9qdsipI57-sp1YFhSvyo      전설의용사박위림   \n",
       "3106  MASTER  4ekn1fC7aI6ywT14DViJISL8MSQ9POIr0TxzOVj2rsVRPD8       C9 k1ng   \n",
       "781   MASTER  npvdegUTqmBWbJ4zUa2q8UIlavBISZvaxTLGR4a3VpSqLFU        Lego77   \n",
       "1501  MASTER   djLXa7-sbWTibWepGvLHapbVxWkPdCbX7JLYuR6A-3gfZw  eimifukadaaa   \n",
       "3442  MASTER  RKy6GqDOYXL9OWKMTta7rAgFt3dbKd8ktK9xb2jEOsDnhjM       팽도리0114   \n",
       "...      ...                                              ...           ...   \n",
       "788   MASTER  kpPWz4HGphHEz5LuGhsBlFSD4gFSbQWnAFTT17Dbohc4dM4          쉔쿵심쿵   \n",
       "2701  MASTER   l9LiusjPpF1QBroncBQwZLYUQeuX78RO8P-kBvwgJNlGgA          정글잘함   \n",
       "2700  MASTER  huKbrZZ0c7bTWHbnepm0-fPGrQ4OxeSYWOAXEkA1lXkHf00           기욤쓰   \n",
       "789   MASTER  L2rBmVRUuAARHOTN9CfPkTEeD0ymAF4GbAyjeHqeo8ezhw8       프레이 발바닥   \n",
       "1853  MASTER  aYYquRIsIYBRKro7rEHKdONxpQSO7jCBQe_d2av60dqXjbM      나는 슬픔이있다   \n",
       "\n",
       "     leaguePoints wins losses veteran inactive freshBlood hotStreak  \n",
       "2017          509  717    711   False    False       True     False  \n",
       "3106          483   72     37   False    False       True     False  \n",
       "781           478  351    259   False    False       True     False  \n",
       "1501          461  240    181    True    False      False     False  \n",
       "3442          458  430    373   False    False      False     False  \n",
       "...           ...  ...    ...     ...      ...        ...       ...  \n",
       "788             0  162     86   False    False       True      True  \n",
       "2701            0  118     87   False    False      False     False  \n",
       "2700            0  142    112   False    False      False      True  \n",
       "789             0  250    189   False    False      False      True  \n",
       "1853            0  581    553   False    False       True     False  \n",
       "\n",
       "[3651 rows x 10 columns]"
      ]
     },
     "execution_count": 110,
     "metadata": {},
     "output_type": "execute_result"
    }
   ],
   "source": [
    "master_df"
   ]
  },
  {
   "cell_type": "code",
   "execution_count": 117,
   "metadata": {},
   "outputs": [],
   "source": [
    "total_tier3 = pd.concat([league_df,grand_df,master_df])"
   ]
  },
  {
   "cell_type": "code",
   "execution_count": 118,
   "metadata": {},
   "outputs": [],
   "source": [
    "total_tier3.to_csv('C:/Users/KOH/Desktop/티어별 정리.csv', index=False)"
   ]
  },
  {
   "cell_type": "code",
   "execution_count": 119,
   "metadata": {},
   "outputs": [
    {
     "name": "stdout",
     "output_type": "stream",
     "text": [
      "<class 'pandas.core.frame.DataFrame'>\n",
      "Int64Index: 4651 entries, 3 to 1853\n",
      "Data columns (total 10 columns):\n",
      "tier            4651 non-null object\n",
      "summonerId      4651 non-null object\n",
      "summonerName    4651 non-null object\n",
      "leaguePoints    4651 non-null object\n",
      "wins            4651 non-null object\n",
      "losses          4651 non-null object\n",
      "veteran         4651 non-null object\n",
      "inactive        4651 non-null object\n",
      "freshBlood      4651 non-null object\n",
      "hotStreak       4651 non-null object\n",
      "dtypes: object(10)\n",
      "memory usage: 399.7+ KB\n",
      "None\n"
     ]
    }
   ],
   "source": [
    "print(total_tier3.info())"
   ]
  },
  {
   "cell_type": "code",
   "execution_count": 120,
   "metadata": {},
   "outputs": [
    {
     "data": {
      "text/html": [
       "<div>\n",
       "<style scoped>\n",
       "    .dataframe tbody tr th:only-of-type {\n",
       "        vertical-align: middle;\n",
       "    }\n",
       "\n",
       "    .dataframe tbody tr th {\n",
       "        vertical-align: top;\n",
       "    }\n",
       "\n",
       "    .dataframe thead th {\n",
       "        text-align: right;\n",
       "    }\n",
       "</style>\n",
       "<table border=\"1\" class=\"dataframe\">\n",
       "  <thead>\n",
       "    <tr style=\"text-align: right;\">\n",
       "      <th></th>\n",
       "      <th>count</th>\n",
       "      <th>unique</th>\n",
       "      <th>top</th>\n",
       "      <th>freq</th>\n",
       "    </tr>\n",
       "    <tr>\n",
       "      <th>tier</th>\n",
       "      <th></th>\n",
       "      <th></th>\n",
       "      <th></th>\n",
       "      <th></th>\n",
       "    </tr>\n",
       "  </thead>\n",
       "  <tbody>\n",
       "    <tr>\n",
       "      <td>CHALLENGER</td>\n",
       "      <td>300</td>\n",
       "      <td>211</td>\n",
       "      <td>914</td>\n",
       "      <td>5</td>\n",
       "    </tr>\n",
       "    <tr>\n",
       "      <td>GRANDMASTER</td>\n",
       "      <td>700</td>\n",
       "      <td>328</td>\n",
       "      <td>410</td>\n",
       "      <td>8</td>\n",
       "    </tr>\n",
       "    <tr>\n",
       "      <td>MASTER</td>\n",
       "      <td>3651</td>\n",
       "      <td>412</td>\n",
       "      <td>0</td>\n",
       "      <td>1060</td>\n",
       "    </tr>\n",
       "  </tbody>\n",
       "</table>\n",
       "</div>"
      ],
      "text/plain": [
       "             count  unique  top  freq\n",
       "tier                                 \n",
       "CHALLENGER     300     211  914     5\n",
       "GRANDMASTER    700     328  410     8\n",
       "MASTER        3651     412    0  1060"
      ]
     },
     "execution_count": 120,
     "metadata": {},
     "output_type": "execute_result"
    }
   ],
   "source": [
    "total_tier3.groupby('tier')['leaguePoints'].describe()"
   ]
  },
  {
   "cell_type": "code",
   "execution_count": 121,
   "metadata": {},
   "outputs": [
    {
     "data": {
      "text/plain": [
       "tier\n",
       "CHALLENGER     [1589, 1577, 1497, 1465, 1446, 1441, 1436, 142...\n",
       "GRANDMASTER    [861, 846, 842, 840, 831, 828, 827, 818, 810, ...\n",
       "MASTER         [509, 483, 478, 461, 458, 454, 449, 448, 446, ...\n",
       "Name: leaguePoints, dtype: object"
      ]
     },
     "execution_count": 121,
     "metadata": {},
     "output_type": "execute_result"
    }
   ],
   "source": [
    "total_tier3.groupby('tier')['leaguePoints'].unique()"
   ]
  },
  {
   "cell_type": "code",
   "execution_count": 125,
   "metadata": {},
   "outputs": [
    {
     "data": {
      "text/html": [
       "<div>\n",
       "<style scoped>\n",
       "    .dataframe tbody tr th:only-of-type {\n",
       "        vertical-align: middle;\n",
       "    }\n",
       "\n",
       "    .dataframe tbody tr th {\n",
       "        vertical-align: top;\n",
       "    }\n",
       "\n",
       "    .dataframe thead th {\n",
       "        text-align: right;\n",
       "    }\n",
       "</style>\n",
       "<table border=\"1\" class=\"dataframe\">\n",
       "  <thead>\n",
       "    <tr style=\"text-align: right;\">\n",
       "      <th></th>\n",
       "      <th>unique</th>\n",
       "      <th>count</th>\n",
       "    </tr>\n",
       "    <tr>\n",
       "      <th>tier</th>\n",
       "      <th></th>\n",
       "      <th></th>\n",
       "    </tr>\n",
       "  </thead>\n",
       "  <tbody>\n",
       "    <tr>\n",
       "      <td>CHALLENGER</td>\n",
       "      <td>[1589, 1577, 1497, 1465, 1446, 1441, 1436, 142...</td>\n",
       "      <td>300</td>\n",
       "    </tr>\n",
       "    <tr>\n",
       "      <td>GRANDMASTER</td>\n",
       "      <td>[861, 846, 842, 840, 831, 828, 827, 818, 810, ...</td>\n",
       "      <td>700</td>\n",
       "    </tr>\n",
       "    <tr>\n",
       "      <td>MASTER</td>\n",
       "      <td>[509, 483, 478, 461, 458, 454, 449, 448, 446, ...</td>\n",
       "      <td>3651</td>\n",
       "    </tr>\n",
       "  </tbody>\n",
       "</table>\n",
       "</div>"
      ],
      "text/plain": [
       "                                                        unique  count\n",
       "tier                                                                 \n",
       "CHALLENGER   [1589, 1577, 1497, 1465, 1446, 1441, 1436, 142...    300\n",
       "GRANDMASTER  [861, 846, 842, 840, 831, 828, 827, 818, 810, ...    700\n",
       "MASTER       [509, 483, 478, 461, 458, 454, 449, 448, 446, ...   3651"
      ]
     },
     "execution_count": 125,
     "metadata": {},
     "output_type": "execute_result"
    }
   ],
   "source": [
    "total_tier3.groupby('tier')['leaguePoints'].agg(['unique','count'])"
   ]
  },
  {
   "cell_type": "code",
   "execution_count": 126,
   "metadata": {},
   "outputs": [
    {
     "name": "stdout",
     "output_type": "stream",
     "text": [
      "<class 'pandas.core.frame.DataFrame'>\n",
      "Int64Index: 4651 entries, 3 to 1853\n",
      "Data columns (total 10 columns):\n",
      "tier            4651 non-null object\n",
      "summonerId      4651 non-null object\n",
      "summonerName    4651 non-null object\n",
      "leaguePoints    4651 non-null object\n",
      "wins            4651 non-null object\n",
      "losses          4651 non-null object\n",
      "veteran         4651 non-null object\n",
      "inactive        4651 non-null object\n",
      "freshBlood      4651 non-null object\n",
      "hotStreak       4651 non-null object\n",
      "dtypes: object(10)\n",
      "memory usage: 559.7+ KB\n"
     ]
    }
   ],
   "source": [
    "total_tier3.info()"
   ]
  },
  {
   "cell_type": "code",
   "execution_count": 127,
   "metadata": {},
   "outputs": [
    {
     "data": {
      "text/html": [
       "<div>\n",
       "<style scoped>\n",
       "    .dataframe tbody tr th:only-of-type {\n",
       "        vertical-align: middle;\n",
       "    }\n",
       "\n",
       "    .dataframe tbody tr th {\n",
       "        vertical-align: top;\n",
       "    }\n",
       "\n",
       "    .dataframe thead th {\n",
       "        text-align: right;\n",
       "    }\n",
       "</style>\n",
       "<table border=\"1\" class=\"dataframe\">\n",
       "  <thead>\n",
       "    <tr style=\"text-align: right;\">\n",
       "      <th></th>\n",
       "      <th>tier</th>\n",
       "      <th>summonerId</th>\n",
       "      <th>summonerName</th>\n",
       "      <th>leaguePoints</th>\n",
       "      <th>wins</th>\n",
       "      <th>losses</th>\n",
       "      <th>veteran</th>\n",
       "      <th>inactive</th>\n",
       "      <th>freshBlood</th>\n",
       "      <th>hotStreak</th>\n",
       "    </tr>\n",
       "  </thead>\n",
       "  <tbody>\n",
       "    <tr>\n",
       "      <td>count</td>\n",
       "      <td>4651</td>\n",
       "      <td>4651</td>\n",
       "      <td>4651</td>\n",
       "      <td>4651</td>\n",
       "      <td>4651</td>\n",
       "      <td>4651</td>\n",
       "      <td>4651</td>\n",
       "      <td>4651</td>\n",
       "      <td>4651</td>\n",
       "      <td>4651</td>\n",
       "    </tr>\n",
       "    <tr>\n",
       "      <td>unique</td>\n",
       "      <td>3</td>\n",
       "      <td>4651</td>\n",
       "      <td>4650</td>\n",
       "      <td>902</td>\n",
       "      <td>1115</td>\n",
       "      <td>1098</td>\n",
       "      <td>2</td>\n",
       "      <td>1</td>\n",
       "      <td>2</td>\n",
       "      <td>2</td>\n",
       "    </tr>\n",
       "    <tr>\n",
       "      <td>top</td>\n",
       "      <td>MASTER</td>\n",
       "      <td>BtK_Wr4Yt8UgW7gcNKRz6M_sRDwQ6z5Cbp783Cg02ZmXfQ</td>\n",
       "      <td>Cuzz</td>\n",
       "      <td>0</td>\n",
       "      <td>271</td>\n",
       "      <td>162</td>\n",
       "      <td>False</td>\n",
       "      <td>False</td>\n",
       "      <td>False</td>\n",
       "      <td>False</td>\n",
       "    </tr>\n",
       "    <tr>\n",
       "      <td>freq</td>\n",
       "      <td>3651</td>\n",
       "      <td>1</td>\n",
       "      <td>2</td>\n",
       "      <td>1060</td>\n",
       "      <td>16</td>\n",
       "      <td>16</td>\n",
       "      <td>3662</td>\n",
       "      <td>4651</td>\n",
       "      <td>3859</td>\n",
       "      <td>3827</td>\n",
       "    </tr>\n",
       "  </tbody>\n",
       "</table>\n",
       "</div>"
      ],
      "text/plain": [
       "          tier                                      summonerId summonerName  \\\n",
       "count     4651                                            4651         4651   \n",
       "unique       3                                            4651         4650   \n",
       "top     MASTER  BtK_Wr4Yt8UgW7gcNKRz6M_sRDwQ6z5Cbp783Cg02ZmXfQ         Cuzz   \n",
       "freq      3651                                               1            2   \n",
       "\n",
       "        leaguePoints  wins  losses veteran inactive freshBlood hotStreak  \n",
       "count           4651  4651    4651    4651     4651       4651      4651  \n",
       "unique           902  1115    1098       2        1          2         2  \n",
       "top                0   271     162   False    False      False     False  \n",
       "freq            1060    16      16    3662     4651       3859      3827  "
      ]
     },
     "execution_count": 127,
     "metadata": {},
     "output_type": "execute_result"
    }
   ],
   "source": [
    "total_tier3.describe()"
   ]
  },
  {
   "cell_type": "code",
   "execution_count": 131,
   "metadata": {},
   "outputs": [],
   "source": [
    "df = pd.read_csv('C:/Users/KOH/Desktop/티어별 정리.csv',index_col=0)"
   ]
  },
  {
   "cell_type": "code",
   "execution_count": 132,
   "metadata": {},
   "outputs": [
    {
     "data": {
      "text/html": [
       "<div>\n",
       "<style scoped>\n",
       "    .dataframe tbody tr th:only-of-type {\n",
       "        vertical-align: middle;\n",
       "    }\n",
       "\n",
       "    .dataframe tbody tr th {\n",
       "        vertical-align: top;\n",
       "    }\n",
       "\n",
       "    .dataframe thead th {\n",
       "        text-align: right;\n",
       "    }\n",
       "</style>\n",
       "<table border=\"1\" class=\"dataframe\">\n",
       "  <thead>\n",
       "    <tr style=\"text-align: right;\">\n",
       "      <th></th>\n",
       "      <th>summonerId</th>\n",
       "      <th>summonerName</th>\n",
       "      <th>leaguePoints</th>\n",
       "      <th>wins</th>\n",
       "      <th>losses</th>\n",
       "      <th>veteran</th>\n",
       "      <th>inactive</th>\n",
       "      <th>freshBlood</th>\n",
       "      <th>hotStreak</th>\n",
       "    </tr>\n",
       "    <tr>\n",
       "      <th>tier</th>\n",
       "      <th></th>\n",
       "      <th></th>\n",
       "      <th></th>\n",
       "      <th></th>\n",
       "      <th></th>\n",
       "      <th></th>\n",
       "      <th></th>\n",
       "      <th></th>\n",
       "      <th></th>\n",
       "    </tr>\n",
       "  </thead>\n",
       "  <tbody>\n",
       "    <tr>\n",
       "      <td>CHALLENGER</td>\n",
       "      <td>7Rt7XJnh6hbn9RWeycSpltN5m3kkJRsOWmvI6I8FlGVoBaY</td>\n",
       "      <td>Cuzz</td>\n",
       "      <td>1589</td>\n",
       "      <td>410</td>\n",
       "      <td>239</td>\n",
       "      <td>True</td>\n",
       "      <td>False</td>\n",
       "      <td>False</td>\n",
       "      <td>True</td>\n",
       "    </tr>\n",
       "    <tr>\n",
       "      <td>CHALLENGER</td>\n",
       "      <td>qaebfV2Fbs671SU7yXsMGUW4tKO7___0SB5F2cDzTkBtRgg</td>\n",
       "      <td>Doxxx</td>\n",
       "      <td>1577</td>\n",
       "      <td>776</td>\n",
       "      <td>668</td>\n",
       "      <td>True</td>\n",
       "      <td>False</td>\n",
       "      <td>False</td>\n",
       "      <td>True</td>\n",
       "    </tr>\n",
       "    <tr>\n",
       "      <td>CHALLENGER</td>\n",
       "      <td>aUGumyTTxKAcs9mZjoy615CIfbYS4YDJsi0HJBsYV1QA_Vw</td>\n",
       "      <td>Kanavi</td>\n",
       "      <td>1497</td>\n",
       "      <td>391</td>\n",
       "      <td>264</td>\n",
       "      <td>True</td>\n",
       "      <td>False</td>\n",
       "      <td>False</td>\n",
       "      <td>True</td>\n",
       "    </tr>\n",
       "    <tr>\n",
       "      <td>CHALLENGER</td>\n",
       "      <td>19RhZA0GnIydvEz1anyXCuNlbOrcxL65i3DAuvbULwE4w2A</td>\n",
       "      <td>kk9qwq</td>\n",
       "      <td>1465</td>\n",
       "      <td>730</td>\n",
       "      <td>543</td>\n",
       "      <td>True</td>\n",
       "      <td>False</td>\n",
       "      <td>False</td>\n",
       "      <td>False</td>\n",
       "    </tr>\n",
       "    <tr>\n",
       "      <td>CHALLENGER</td>\n",
       "      <td>PkvxowM4v22_iZAMygW_iIIle7CmHA1G1gMHXQIuRy6syg</td>\n",
       "      <td>소나잔나</td>\n",
       "      <td>1446</td>\n",
       "      <td>366</td>\n",
       "      <td>231</td>\n",
       "      <td>True</td>\n",
       "      <td>False</td>\n",
       "      <td>False</td>\n",
       "      <td>False</td>\n",
       "    </tr>\n",
       "    <tr>\n",
       "      <td>...</td>\n",
       "      <td>...</td>\n",
       "      <td>...</td>\n",
       "      <td>...</td>\n",
       "      <td>...</td>\n",
       "      <td>...</td>\n",
       "      <td>...</td>\n",
       "      <td>...</td>\n",
       "      <td>...</td>\n",
       "      <td>...</td>\n",
       "    </tr>\n",
       "    <tr>\n",
       "      <td>MASTER</td>\n",
       "      <td>kpPWz4HGphHEz5LuGhsBlFSD4gFSbQWnAFTT17Dbohc4dM4</td>\n",
       "      <td>쉔쿵심쿵</td>\n",
       "      <td>0</td>\n",
       "      <td>162</td>\n",
       "      <td>86</td>\n",
       "      <td>False</td>\n",
       "      <td>False</td>\n",
       "      <td>True</td>\n",
       "      <td>True</td>\n",
       "    </tr>\n",
       "    <tr>\n",
       "      <td>MASTER</td>\n",
       "      <td>l9LiusjPpF1QBroncBQwZLYUQeuX78RO8P-kBvwgJNlGgA</td>\n",
       "      <td>정글잘함</td>\n",
       "      <td>0</td>\n",
       "      <td>118</td>\n",
       "      <td>87</td>\n",
       "      <td>False</td>\n",
       "      <td>False</td>\n",
       "      <td>False</td>\n",
       "      <td>False</td>\n",
       "    </tr>\n",
       "    <tr>\n",
       "      <td>MASTER</td>\n",
       "      <td>huKbrZZ0c7bTWHbnepm0-fPGrQ4OxeSYWOAXEkA1lXkHf00</td>\n",
       "      <td>기욤쓰</td>\n",
       "      <td>0</td>\n",
       "      <td>142</td>\n",
       "      <td>112</td>\n",
       "      <td>False</td>\n",
       "      <td>False</td>\n",
       "      <td>False</td>\n",
       "      <td>True</td>\n",
       "    </tr>\n",
       "    <tr>\n",
       "      <td>MASTER</td>\n",
       "      <td>L2rBmVRUuAARHOTN9CfPkTEeD0ymAF4GbAyjeHqeo8ezhw8</td>\n",
       "      <td>프레이 발바닥</td>\n",
       "      <td>0</td>\n",
       "      <td>250</td>\n",
       "      <td>189</td>\n",
       "      <td>False</td>\n",
       "      <td>False</td>\n",
       "      <td>False</td>\n",
       "      <td>True</td>\n",
       "    </tr>\n",
       "    <tr>\n",
       "      <td>MASTER</td>\n",
       "      <td>aYYquRIsIYBRKro7rEHKdONxpQSO7jCBQe_d2av60dqXjbM</td>\n",
       "      <td>나는 슬픔이있다</td>\n",
       "      <td>0</td>\n",
       "      <td>581</td>\n",
       "      <td>553</td>\n",
       "      <td>False</td>\n",
       "      <td>False</td>\n",
       "      <td>True</td>\n",
       "      <td>False</td>\n",
       "    </tr>\n",
       "  </tbody>\n",
       "</table>\n",
       "<p>4651 rows × 9 columns</p>\n",
       "</div>"
      ],
      "text/plain": [
       "                                                 summonerId summonerName  \\\n",
       "tier                                                                       \n",
       "CHALLENGER  7Rt7XJnh6hbn9RWeycSpltN5m3kkJRsOWmvI6I8FlGVoBaY         Cuzz   \n",
       "CHALLENGER  qaebfV2Fbs671SU7yXsMGUW4tKO7___0SB5F2cDzTkBtRgg        Doxxx   \n",
       "CHALLENGER  aUGumyTTxKAcs9mZjoy615CIfbYS4YDJsi0HJBsYV1QA_Vw       Kanavi   \n",
       "CHALLENGER  19RhZA0GnIydvEz1anyXCuNlbOrcxL65i3DAuvbULwE4w2A       kk9qwq   \n",
       "CHALLENGER   PkvxowM4v22_iZAMygW_iIIle7CmHA1G1gMHXQIuRy6syg         소나잔나   \n",
       "...                                                     ...          ...   \n",
       "MASTER      kpPWz4HGphHEz5LuGhsBlFSD4gFSbQWnAFTT17Dbohc4dM4         쉔쿵심쿵   \n",
       "MASTER       l9LiusjPpF1QBroncBQwZLYUQeuX78RO8P-kBvwgJNlGgA         정글잘함   \n",
       "MASTER      huKbrZZ0c7bTWHbnepm0-fPGrQ4OxeSYWOAXEkA1lXkHf00          기욤쓰   \n",
       "MASTER      L2rBmVRUuAARHOTN9CfPkTEeD0ymAF4GbAyjeHqeo8ezhw8      프레이 발바닥   \n",
       "MASTER      aYYquRIsIYBRKro7rEHKdONxpQSO7jCBQe_d2av60dqXjbM     나는 슬픔이있다   \n",
       "\n",
       "            leaguePoints  wins  losses  veteran  inactive  freshBlood  \\\n",
       "tier                                                                    \n",
       "CHALLENGER          1589   410     239     True     False       False   \n",
       "CHALLENGER          1577   776     668     True     False       False   \n",
       "CHALLENGER          1497   391     264     True     False       False   \n",
       "CHALLENGER          1465   730     543     True     False       False   \n",
       "CHALLENGER          1446   366     231     True     False       False   \n",
       "...                  ...   ...     ...      ...       ...         ...   \n",
       "MASTER                 0   162      86    False     False        True   \n",
       "MASTER                 0   118      87    False     False       False   \n",
       "MASTER                 0   142     112    False     False       False   \n",
       "MASTER                 0   250     189    False     False       False   \n",
       "MASTER                 0   581     553    False     False        True   \n",
       "\n",
       "            hotStreak  \n",
       "tier                   \n",
       "CHALLENGER       True  \n",
       "CHALLENGER       True  \n",
       "CHALLENGER       True  \n",
       "CHALLENGER      False  \n",
       "CHALLENGER      False  \n",
       "...               ...  \n",
       "MASTER           True  \n",
       "MASTER          False  \n",
       "MASTER           True  \n",
       "MASTER           True  \n",
       "MASTER          False  \n",
       "\n",
       "[4651 rows x 9 columns]"
      ]
     },
     "execution_count": 132,
     "metadata": {},
     "output_type": "execute_result"
    }
   ],
   "source": [
    "df"
   ]
  },
  {
   "cell_type": "code",
   "execution_count": 149,
   "metadata": {},
   "outputs": [
    {
     "data": {
      "text/plain": [
       "<matplotlib.axes._subplots.AxesSubplot at 0x1e61e55fa48>"
      ]
     },
     "execution_count": 149,
     "metadata": {},
     "output_type": "execute_result"
    },
    {
     "data": {
      "image/png": "[encoded data removed]",
      "text/plain": [
       "<Figure size 432x288 with 1 Axes>"
      ]
     },
     "metadata": {
      "needs_background": "light"
     },
     "output_type": "display_data"
    }
   ],
   "source": [
    "sns.distplot(df.leaguePoints)"
   ]
  },
  {
   "cell_type": "code",
   "execution_count": 147,
   "metadata": {},
   "outputs": [
    {
     "data": {
      "text/plain": [
       "<matplotlib.axes._subplots.AxesSubplot at 0x1e6192f6208>"
      ]
     },
     "execution_count": 147,
     "metadata": {},
     "output_type": "execute_result"
    },
    {
     "data": {
      "image/png": "[encoded data removed]",
      "text/plain": [
       "<Figure size 432x288 with 2 Axes>"
      ]
     },
     "metadata": {
      "needs_background": "light"
     },
     "output_type": "display_data"
    }
   ],
   "source": [
    "corr =df.corr()\n",
    "sns.heatmap(corr)"
   ]
  },
  {
   "cell_type": "code",
   "execution_count": 153,
   "metadata": {},
   "outputs": [],
   "source": [
    "match_info_df = pd.DataFrame()"
   ]
  },
  {
   "cell_type": "code",
   "execution_count": 164,
   "metadata": {},
   "outputs": [],
   "source": [
    "match_url = \"https://kr.api.riotgames.com/lol/match/v4/matchlists/by-account/7BbtuD4rXHUlsh5oqbjbQgJA1afjAeKdflAv9RrdaI9m\" +'?api_key=' + api_key"
   ]
  },
  {
   "cell_type": "code",
   "execution_count": 165,
   "metadata": {},
   "outputs": [],
   "source": [
    "r6 = requests.get(match_url)"
   ]
  },
  {
   "cell_type": "code",
   "execution_count": 166,
   "metadata": {},
   "outputs": [
    {
     "data": {
      "text/plain": [
       "<Response [200]>"
      ]
     },
     "execution_count": 166,
     "metadata": {},
     "output_type": "execute_result"
    }
   ],
   "source": [
    "r6"
   ]
  },
  {
   "cell_type": "code",
   "execution_count": 167,
   "metadata": {},
   "outputs": [
    {
     "data": {
      "text/html": [
       "<div>\n",
       "<style scoped>\n",
       "    .dataframe tbody tr th:only-of-type {\n",
       "        vertical-align: middle;\n",
       "    }\n",
       "\n",
       "    .dataframe tbody tr th {\n",
       "        vertical-align: top;\n",
       "    }\n",
       "\n",
       "    .dataframe thead th {\n",
       "        text-align: right;\n",
       "    }\n",
       "</style>\n",
       "<table border=\"1\" class=\"dataframe\">\n",
       "  <thead>\n",
       "    <tr style=\"text-align: right;\">\n",
       "      <th></th>\n",
       "      <th>platformId</th>\n",
       "      <th>gameId</th>\n",
       "      <th>champion</th>\n",
       "      <th>queue</th>\n",
       "      <th>season</th>\n",
       "      <th>timestamp</th>\n",
       "      <th>role</th>\n",
       "      <th>lane</th>\n",
       "    </tr>\n",
       "  </thead>\n",
       "  <tbody>\n",
       "    <tr>\n",
       "      <td>0</td>\n",
       "      <td>KR</td>\n",
       "      <td>4023118028</td>\n",
       "      <td>76</td>\n",
       "      <td>420</td>\n",
       "      <td>13</td>\n",
       "      <td>1576224650953</td>\n",
       "      <td>NONE</td>\n",
       "      <td>JUNGLE</td>\n",
       "    </tr>\n",
       "    <tr>\n",
       "      <td>1</td>\n",
       "      <td>KR</td>\n",
       "      <td>4022941701</td>\n",
       "      <td>8</td>\n",
       "      <td>420</td>\n",
       "      <td>13</td>\n",
       "      <td>1576214726736</td>\n",
       "      <td>SOLO</td>\n",
       "      <td>TOP</td>\n",
       "    </tr>\n",
       "    <tr>\n",
       "      <td>2</td>\n",
       "      <td>KR</td>\n",
       "      <td>4022868284</td>\n",
       "      <td>54</td>\n",
       "      <td>420</td>\n",
       "      <td>13</td>\n",
       "      <td>1576213137516</td>\n",
       "      <td>SOLO</td>\n",
       "      <td>BOTTOM</td>\n",
       "    </tr>\n",
       "    <tr>\n",
       "      <td>3</td>\n",
       "      <td>KR</td>\n",
       "      <td>4022835458</td>\n",
       "      <td>64</td>\n",
       "      <td>420</td>\n",
       "      <td>13</td>\n",
       "      <td>1576205482764</td>\n",
       "      <td>DUO</td>\n",
       "      <td>NONE</td>\n",
       "    </tr>\n",
       "    <tr>\n",
       "      <td>4</td>\n",
       "      <td>KR</td>\n",
       "      <td>4021160362</td>\n",
       "      <td>127</td>\n",
       "      <td>420</td>\n",
       "      <td>13</td>\n",
       "      <td>1576130294152</td>\n",
       "      <td>SOLO</td>\n",
       "      <td>MID</td>\n",
       "    </tr>\n",
       "    <tr>\n",
       "      <td>...</td>\n",
       "      <td>...</td>\n",
       "      <td>...</td>\n",
       "      <td>...</td>\n",
       "      <td>...</td>\n",
       "      <td>...</td>\n",
       "      <td>...</td>\n",
       "      <td>...</td>\n",
       "      <td>...</td>\n",
       "    </tr>\n",
       "    <tr>\n",
       "      <td>95</td>\n",
       "      <td>KR</td>\n",
       "      <td>3760406867</td>\n",
       "      <td>222</td>\n",
       "      <td>450</td>\n",
       "      <td>13</td>\n",
       "      <td>1563534268580</td>\n",
       "      <td>DUO_SUPPORT</td>\n",
       "      <td>NONE</td>\n",
       "    </tr>\n",
       "    <tr>\n",
       "      <td>96</td>\n",
       "      <td>KR</td>\n",
       "      <td>3760168787</td>\n",
       "      <td>54</td>\n",
       "      <td>450</td>\n",
       "      <td>13</td>\n",
       "      <td>1563524960533</td>\n",
       "      <td>DUO_SUPPORT</td>\n",
       "      <td>NONE</td>\n",
       "    </tr>\n",
       "    <tr>\n",
       "      <td>97</td>\n",
       "      <td>KR</td>\n",
       "      <td>3760084758</td>\n",
       "      <td>99</td>\n",
       "      <td>450</td>\n",
       "      <td>13</td>\n",
       "      <td>1563519535596</td>\n",
       "      <td>DUO_SUPPORT</td>\n",
       "      <td>BOTTOM</td>\n",
       "    </tr>\n",
       "    <tr>\n",
       "      <td>98</td>\n",
       "      <td>KR</td>\n",
       "      <td>3760043470</td>\n",
       "      <td>7</td>\n",
       "      <td>420</td>\n",
       "      <td>13</td>\n",
       "      <td>1563519145098</td>\n",
       "      <td>DUO</td>\n",
       "      <td>NONE</td>\n",
       "    </tr>\n",
       "    <tr>\n",
       "      <td>99</td>\n",
       "      <td>KR</td>\n",
       "      <td>3756678082</td>\n",
       "      <td>7</td>\n",
       "      <td>420</td>\n",
       "      <td>13</td>\n",
       "      <td>1563359231166</td>\n",
       "      <td>SOLO</td>\n",
       "      <td>MID</td>\n",
       "    </tr>\n",
       "  </tbody>\n",
       "</table>\n",
       "<p>100 rows × 8 columns</p>\n",
       "</div>"
      ],
      "text/plain": [
       "   platformId      gameId  champion  queue  season      timestamp  \\\n",
       "0          KR  4023118028        76    420      13  1576224650953   \n",
       "1          KR  4022941701         8    420      13  1576214726736   \n",
       "2          KR  4022868284        54    420      13  1576213137516   \n",
       "3          KR  4022835458        64    420      13  1576205482764   \n",
       "4          KR  4021160362       127    420      13  1576130294152   \n",
       "..        ...         ...       ...    ...     ...            ...   \n",
       "95         KR  3760406867       222    450      13  1563534268580   \n",
       "96         KR  3760168787        54    450      13  1563524960533   \n",
       "97         KR  3760084758        99    450      13  1563519535596   \n",
       "98         KR  3760043470         7    420      13  1563519145098   \n",
       "99         KR  3756678082         7    420      13  1563359231166   \n",
       "\n",
       "           role    lane  \n",
       "0          NONE  JUNGLE  \n",
       "1          SOLO     TOP  \n",
       "2          SOLO  BOTTOM  \n",
       "3           DUO    NONE  \n",
       "4          SOLO     MID  \n",
       "..          ...     ...  \n",
       "95  DUO_SUPPORT    NONE  \n",
       "96  DUO_SUPPORT    NONE  \n",
       "97  DUO_SUPPORT  BOTTOM  \n",
       "98          DUO    NONE  \n",
       "99         SOLO     MID  \n",
       "\n",
       "[100 rows x 8 columns]"
      ]
     },
     "execution_count": 167,
     "metadata": {},
     "output_type": "execute_result"
    }
   ],
   "source": [
    "pd.DataFrame(r6.json()['matches'])"
   ]
  },
  {
   "cell_type": "code",
   "execution_count": 168,
   "metadata": {},
   "outputs": [],
   "source": [
    "match_info_df = pd.concat([match_info_df, pd.DataFrame(r6.json()['matches'])])"
   ]
  },
  {
   "cell_type": "code",
   "execution_count": 169,
   "metadata": {},
   "outputs": [
    {
     "data": {
      "text/html": [
       "<div>\n",
       "<style scoped>\n",
       "    .dataframe tbody tr th:only-of-type {\n",
       "        vertical-align: middle;\n",
       "    }\n",
       "\n",
       "    .dataframe tbody tr th {\n",
       "        vertical-align: top;\n",
       "    }\n",
       "\n",
       "    .dataframe thead th {\n",
       "        text-align: right;\n",
       "    }\n",
       "</style>\n",
       "<table border=\"1\" class=\"dataframe\">\n",
       "  <thead>\n",
       "    <tr style=\"text-align: right;\">\n",
       "      <th></th>\n",
       "      <th>platformId</th>\n",
       "      <th>gameId</th>\n",
       "      <th>champion</th>\n",
       "      <th>queue</th>\n",
       "      <th>season</th>\n",
       "      <th>timestamp</th>\n",
       "      <th>role</th>\n",
       "      <th>lane</th>\n",
       "    </tr>\n",
       "  </thead>\n",
       "  <tbody>\n",
       "    <tr>\n",
       "      <td>0</td>\n",
       "      <td>KR</td>\n",
       "      <td>4023118028</td>\n",
       "      <td>76</td>\n",
       "      <td>420</td>\n",
       "      <td>13</td>\n",
       "      <td>1576224650953</td>\n",
       "      <td>NONE</td>\n",
       "      <td>JUNGLE</td>\n",
       "    </tr>\n",
       "    <tr>\n",
       "      <td>1</td>\n",
       "      <td>KR</td>\n",
       "      <td>4022941701</td>\n",
       "      <td>8</td>\n",
       "      <td>420</td>\n",
       "      <td>13</td>\n",
       "      <td>1576214726736</td>\n",
       "      <td>SOLO</td>\n",
       "      <td>TOP</td>\n",
       "    </tr>\n",
       "    <tr>\n",
       "      <td>2</td>\n",
       "      <td>KR</td>\n",
       "      <td>4022868284</td>\n",
       "      <td>54</td>\n",
       "      <td>420</td>\n",
       "      <td>13</td>\n",
       "      <td>1576213137516</td>\n",
       "      <td>SOLO</td>\n",
       "      <td>BOTTOM</td>\n",
       "    </tr>\n",
       "    <tr>\n",
       "      <td>3</td>\n",
       "      <td>KR</td>\n",
       "      <td>4022835458</td>\n",
       "      <td>64</td>\n",
       "      <td>420</td>\n",
       "      <td>13</td>\n",
       "      <td>1576205482764</td>\n",
       "      <td>DUO</td>\n",
       "      <td>NONE</td>\n",
       "    </tr>\n",
       "    <tr>\n",
       "      <td>4</td>\n",
       "      <td>KR</td>\n",
       "      <td>4021160362</td>\n",
       "      <td>127</td>\n",
       "      <td>420</td>\n",
       "      <td>13</td>\n",
       "      <td>1576130294152</td>\n",
       "      <td>SOLO</td>\n",
       "      <td>MID</td>\n",
       "    </tr>\n",
       "    <tr>\n",
       "      <td>...</td>\n",
       "      <td>...</td>\n",
       "      <td>...</td>\n",
       "      <td>...</td>\n",
       "      <td>...</td>\n",
       "      <td>...</td>\n",
       "      <td>...</td>\n",
       "      <td>...</td>\n",
       "      <td>...</td>\n",
       "    </tr>\n",
       "    <tr>\n",
       "      <td>95</td>\n",
       "      <td>KR</td>\n",
       "      <td>3760406867</td>\n",
       "      <td>222</td>\n",
       "      <td>450</td>\n",
       "      <td>13</td>\n",
       "      <td>1563534268580</td>\n",
       "      <td>DUO_SUPPORT</td>\n",
       "      <td>NONE</td>\n",
       "    </tr>\n",
       "    <tr>\n",
       "      <td>96</td>\n",
       "      <td>KR</td>\n",
       "      <td>3760168787</td>\n",
       "      <td>54</td>\n",
       "      <td>450</td>\n",
       "      <td>13</td>\n",
       "      <td>1563524960533</td>\n",
       "      <td>DUO_SUPPORT</td>\n",
       "      <td>NONE</td>\n",
       "    </tr>\n",
       "    <tr>\n",
       "      <td>97</td>\n",
       "      <td>KR</td>\n",
       "      <td>3760084758</td>\n",
       "      <td>99</td>\n",
       "      <td>450</td>\n",
       "      <td>13</td>\n",
       "      <td>1563519535596</td>\n",
       "      <td>DUO_SUPPORT</td>\n",
       "      <td>BOTTOM</td>\n",
       "    </tr>\n",
       "    <tr>\n",
       "      <td>98</td>\n",
       "      <td>KR</td>\n",
       "      <td>3760043470</td>\n",
       "      <td>7</td>\n",
       "      <td>420</td>\n",
       "      <td>13</td>\n",
       "      <td>1563519145098</td>\n",
       "      <td>DUO</td>\n",
       "      <td>NONE</td>\n",
       "    </tr>\n",
       "    <tr>\n",
       "      <td>99</td>\n",
       "      <td>KR</td>\n",
       "      <td>3756678082</td>\n",
       "      <td>7</td>\n",
       "      <td>420</td>\n",
       "      <td>13</td>\n",
       "      <td>1563359231166</td>\n",
       "      <td>SOLO</td>\n",
       "      <td>MID</td>\n",
       "    </tr>\n",
       "  </tbody>\n",
       "</table>\n",
       "<p>100 rows × 8 columns</p>\n",
       "</div>"
      ],
      "text/plain": [
       "   platformId      gameId  champion  queue  season      timestamp  \\\n",
       "0          KR  4023118028        76    420      13  1576224650953   \n",
       "1          KR  4022941701         8    420      13  1576214726736   \n",
       "2          KR  4022868284        54    420      13  1576213137516   \n",
       "3          KR  4022835458        64    420      13  1576205482764   \n",
       "4          KR  4021160362       127    420      13  1576130294152   \n",
       "..        ...         ...       ...    ...     ...            ...   \n",
       "95         KR  3760406867       222    450      13  1563534268580   \n",
       "96         KR  3760168787        54    450      13  1563524960533   \n",
       "97         KR  3760084758        99    450      13  1563519535596   \n",
       "98         KR  3760043470         7    420      13  1563519145098   \n",
       "99         KR  3756678082         7    420      13  1563359231166   \n",
       "\n",
       "           role    lane  \n",
       "0          NONE  JUNGLE  \n",
       "1          SOLO     TOP  \n",
       "2          SOLO  BOTTOM  \n",
       "3           DUO    NONE  \n",
       "4          SOLO     MID  \n",
       "..          ...     ...  \n",
       "95  DUO_SUPPORT    NONE  \n",
       "96  DUO_SUPPORT    NONE  \n",
       "97  DUO_SUPPORT  BOTTOM  \n",
       "98          DUO    NONE  \n",
       "99         SOLO     MID  \n",
       "\n",
       "[100 rows x 8 columns]"
      ]
     },
     "execution_count": 169,
     "metadata": {},
     "output_type": "execute_result"
    }
   ],
   "source": [
    "match_info_df"
   ]
  },
  {
   "cell_type": "code",
   "execution_count": 262,
   "metadata": {},
   "outputs": [],
   "source": [
    "match_info_df.to_csv('경기기록.csv', index = False, encoding = 'utf-8')"
   ]
  },
  {
   "cell_type": "code",
   "execution_count": 263,
   "metadata": {},
   "outputs": [],
   "source": [
    "match_info_df = match_info_df.drop(columns='gameId')"
   ]
  },
  {
   "cell_type": "code",
   "execution_count": 264,
   "metadata": {},
   "outputs": [
    {
     "data": {
      "text/html": [
       "<div>\n",
       "<style scoped>\n",
       "    .dataframe tbody tr th:only-of-type {\n",
       "        vertical-align: middle;\n",
       "    }\n",
       "\n",
       "    .dataframe tbody tr th {\n",
       "        vertical-align: top;\n",
       "    }\n",
       "\n",
       "    .dataframe thead th {\n",
       "        text-align: right;\n",
       "    }\n",
       "</style>\n",
       "<table border=\"1\" class=\"dataframe\">\n",
       "  <thead>\n",
       "    <tr style=\"text-align: right;\">\n",
       "      <th></th>\n",
       "      <th>platformId</th>\n",
       "      <th>champion</th>\n",
       "      <th>queue</th>\n",
       "      <th>season</th>\n",
       "      <th>timestamp</th>\n",
       "      <th>role</th>\n",
       "      <th>lane</th>\n",
       "    </tr>\n",
       "  </thead>\n",
       "  <tbody>\n",
       "    <tr>\n",
       "      <td>0</td>\n",
       "      <td>KR</td>\n",
       "      <td>니달리</td>\n",
       "      <td>420</td>\n",
       "      <td>13</td>\n",
       "      <td>1.576200e+12</td>\n",
       "      <td>NONE</td>\n",
       "      <td>JUNGLE</td>\n",
       "    </tr>\n",
       "    <tr>\n",
       "      <td>1</td>\n",
       "      <td>KR</td>\n",
       "      <td>블라디미르</td>\n",
       "      <td>420</td>\n",
       "      <td>13</td>\n",
       "      <td>1.576200e+12</td>\n",
       "      <td>SOLO</td>\n",
       "      <td>TOP</td>\n",
       "    </tr>\n",
       "    <tr>\n",
       "      <td>2</td>\n",
       "      <td>KR</td>\n",
       "      <td>말파이트</td>\n",
       "      <td>420</td>\n",
       "      <td>13</td>\n",
       "      <td>1.576200e+12</td>\n",
       "      <td>SOLO</td>\n",
       "      <td>BOTTOM</td>\n",
       "    </tr>\n",
       "    <tr>\n",
       "      <td>3</td>\n",
       "      <td>KR</td>\n",
       "      <td>시비르</td>\n",
       "      <td>420</td>\n",
       "      <td>13</td>\n",
       "      <td>1.576200e+12</td>\n",
       "      <td>DUO</td>\n",
       "      <td>NONE</td>\n",
       "    </tr>\n",
       "    <tr>\n",
       "      <td>4</td>\n",
       "      <td>KR</td>\n",
       "      <td>아이번</td>\n",
       "      <td>420</td>\n",
       "      <td>13</td>\n",
       "      <td>1.576100e+12</td>\n",
       "      <td>SOLO</td>\n",
       "      <td>MID</td>\n",
       "    </tr>\n",
       "  </tbody>\n",
       "</table>\n",
       "</div>"
      ],
      "text/plain": [
       "  platformId champion  queue  season     timestamp  role    lane\n",
       "0         KR      니달리    420      13  1.576200e+12  NONE  JUNGLE\n",
       "1         KR    블라디미르    420      13  1.576200e+12  SOLO     TOP\n",
       "2         KR     말파이트    420      13  1.576200e+12  SOLO  BOTTOM\n",
       "3         KR      시비르    420      13  1.576200e+12   DUO    NONE\n",
       "4         KR      아이번    420      13  1.576100e+12  SOLO     MID"
      ]
     },
     "execution_count": 264,
     "metadata": {},
     "output_type": "execute_result"
    }
   ],
   "source": [
    "match_info_df.head()"
   ]
  },
  {
   "cell_type": "code",
   "execution_count": 259,
   "metadata": {},
   "outputs": [],
   "source": [
    "match_info_df = pd.read_csv('매치.csv',engine= 'python')"
   ]
  },
  {
   "cell_type": "code",
   "execution_count": 261,
   "metadata": {},
   "outputs": [
    {
     "data": {
      "text/html": [
       "<div>\n",
       "<style scoped>\n",
       "    .dataframe tbody tr th:only-of-type {\n",
       "        vertical-align: middle;\n",
       "    }\n",
       "\n",
       "    .dataframe tbody tr th {\n",
       "        vertical-align: top;\n",
       "    }\n",
       "\n",
       "    .dataframe thead th {\n",
       "        text-align: right;\n",
       "    }\n",
       "</style>\n",
       "<table border=\"1\" class=\"dataframe\">\n",
       "  <thead>\n",
       "    <tr style=\"text-align: right;\">\n",
       "      <th></th>\n",
       "      <th>platformId</th>\n",
       "      <th>gameId</th>\n",
       "      <th>champion</th>\n",
       "      <th>queue</th>\n",
       "      <th>season</th>\n",
       "      <th>timestamp</th>\n",
       "      <th>role</th>\n",
       "      <th>lane</th>\n",
       "    </tr>\n",
       "  </thead>\n",
       "  <tbody>\n",
       "    <tr>\n",
       "      <td>0</td>\n",
       "      <td>KR</td>\n",
       "      <td>4023118028</td>\n",
       "      <td>니달리</td>\n",
       "      <td>420</td>\n",
       "      <td>13</td>\n",
       "      <td>1.576200e+12</td>\n",
       "      <td>NONE</td>\n",
       "      <td>JUNGLE</td>\n",
       "    </tr>\n",
       "    <tr>\n",
       "      <td>1</td>\n",
       "      <td>KR</td>\n",
       "      <td>4022941701</td>\n",
       "      <td>블라디미르</td>\n",
       "      <td>420</td>\n",
       "      <td>13</td>\n",
       "      <td>1.576200e+12</td>\n",
       "      <td>SOLO</td>\n",
       "      <td>TOP</td>\n",
       "    </tr>\n",
       "    <tr>\n",
       "      <td>2</td>\n",
       "      <td>KR</td>\n",
       "      <td>4022868284</td>\n",
       "      <td>말파이트</td>\n",
       "      <td>420</td>\n",
       "      <td>13</td>\n",
       "      <td>1.576200e+12</td>\n",
       "      <td>SOLO</td>\n",
       "      <td>BOTTOM</td>\n",
       "    </tr>\n",
       "    <tr>\n",
       "      <td>3</td>\n",
       "      <td>KR</td>\n",
       "      <td>4022835458</td>\n",
       "      <td>시비르</td>\n",
       "      <td>420</td>\n",
       "      <td>13</td>\n",
       "      <td>1.576200e+12</td>\n",
       "      <td>DUO</td>\n",
       "      <td>NONE</td>\n",
       "    </tr>\n",
       "    <tr>\n",
       "      <td>4</td>\n",
       "      <td>KR</td>\n",
       "      <td>4021160362</td>\n",
       "      <td>아이번</td>\n",
       "      <td>420</td>\n",
       "      <td>13</td>\n",
       "      <td>1.576100e+12</td>\n",
       "      <td>SOLO</td>\n",
       "      <td>MID</td>\n",
       "    </tr>\n",
       "  </tbody>\n",
       "</table>\n",
       "</div>"
      ],
      "text/plain": [
       "  platformId      gameId champion  queue  season     timestamp  role    lane\n",
       "0         KR  4023118028      니달리    420      13  1.576200e+12  NONE  JUNGLE\n",
       "1         KR  4022941701    블라디미르    420      13  1.576200e+12  SOLO     TOP\n",
       "2         KR  4022868284     말파이트    420      13  1.576200e+12  SOLO  BOTTOM\n",
       "3         KR  4022835458      시비르    420      13  1.576200e+12   DUO    NONE\n",
       "4         KR  4021160362      아이번    420      13  1.576100e+12  SOLO     MID"
      ]
     },
     "execution_count": 261,
     "metadata": {},
     "output_type": "execute_result"
    }
   ],
   "source": [
    "match_info_df.head()"
   ]
  },
  {
   "cell_type": "code",
   "execution_count": 179,
   "metadata": {},
   "outputs": [],
   "source": [
    "match_dupllicat_df = match_info_df.drop_duplicates('gameId')"
   ]
  },
  {
   "cell_type": "code",
   "execution_count": 181,
   "metadata": {},
   "outputs": [
    {
     "data": {
      "text/html": [
       "<div>\n",
       "<style scoped>\n",
       "    .dataframe tbody tr th:only-of-type {\n",
       "        vertical-align: middle;\n",
       "    }\n",
       "\n",
       "    .dataframe tbody tr th {\n",
       "        vertical-align: top;\n",
       "    }\n",
       "\n",
       "    .dataframe thead th {\n",
       "        text-align: right;\n",
       "    }\n",
       "</style>\n",
       "<table border=\"1\" class=\"dataframe\">\n",
       "  <thead>\n",
       "    <tr style=\"text-align: right;\">\n",
       "      <th></th>\n",
       "      <th>platformId</th>\n",
       "      <th>gameId</th>\n",
       "      <th>champion</th>\n",
       "      <th>queue</th>\n",
       "      <th>season</th>\n",
       "      <th>timestamp</th>\n",
       "      <th>role</th>\n",
       "      <th>lane</th>\n",
       "    </tr>\n",
       "  </thead>\n",
       "  <tbody>\n",
       "    <tr>\n",
       "      <td>0</td>\n",
       "      <td>KR</td>\n",
       "      <td>4023118028</td>\n",
       "      <td>76</td>\n",
       "      <td>420</td>\n",
       "      <td>13</td>\n",
       "      <td>1576224650953</td>\n",
       "      <td>NONE</td>\n",
       "      <td>JUNGLE</td>\n",
       "    </tr>\n",
       "    <tr>\n",
       "      <td>1</td>\n",
       "      <td>KR</td>\n",
       "      <td>4022941701</td>\n",
       "      <td>8</td>\n",
       "      <td>420</td>\n",
       "      <td>13</td>\n",
       "      <td>1576214726736</td>\n",
       "      <td>SOLO</td>\n",
       "      <td>TOP</td>\n",
       "    </tr>\n",
       "    <tr>\n",
       "      <td>2</td>\n",
       "      <td>KR</td>\n",
       "      <td>4022868284</td>\n",
       "      <td>54</td>\n",
       "      <td>420</td>\n",
       "      <td>13</td>\n",
       "      <td>1576213137516</td>\n",
       "      <td>SOLO</td>\n",
       "      <td>BOTTOM</td>\n",
       "    </tr>\n",
       "    <tr>\n",
       "      <td>3</td>\n",
       "      <td>KR</td>\n",
       "      <td>4022835458</td>\n",
       "      <td>64</td>\n",
       "      <td>420</td>\n",
       "      <td>13</td>\n",
       "      <td>1576205482764</td>\n",
       "      <td>DUO</td>\n",
       "      <td>NONE</td>\n",
       "    </tr>\n",
       "    <tr>\n",
       "      <td>4</td>\n",
       "      <td>KR</td>\n",
       "      <td>4021160362</td>\n",
       "      <td>127</td>\n",
       "      <td>420</td>\n",
       "      <td>13</td>\n",
       "      <td>1576130294152</td>\n",
       "      <td>SOLO</td>\n",
       "      <td>MID</td>\n",
       "    </tr>\n",
       "    <tr>\n",
       "      <td>...</td>\n",
       "      <td>...</td>\n",
       "      <td>...</td>\n",
       "      <td>...</td>\n",
       "      <td>...</td>\n",
       "      <td>...</td>\n",
       "      <td>...</td>\n",
       "      <td>...</td>\n",
       "      <td>...</td>\n",
       "    </tr>\n",
       "    <tr>\n",
       "      <td>95</td>\n",
       "      <td>KR</td>\n",
       "      <td>3760406867</td>\n",
       "      <td>222</td>\n",
       "      <td>450</td>\n",
       "      <td>13</td>\n",
       "      <td>1563534268580</td>\n",
       "      <td>DUO_SUPPORT</td>\n",
       "      <td>NONE</td>\n",
       "    </tr>\n",
       "    <tr>\n",
       "      <td>96</td>\n",
       "      <td>KR</td>\n",
       "      <td>3760168787</td>\n",
       "      <td>54</td>\n",
       "      <td>450</td>\n",
       "      <td>13</td>\n",
       "      <td>1563524960533</td>\n",
       "      <td>DUO_SUPPORT</td>\n",
       "      <td>NONE</td>\n",
       "    </tr>\n",
       "    <tr>\n",
       "      <td>97</td>\n",
       "      <td>KR</td>\n",
       "      <td>3760084758</td>\n",
       "      <td>99</td>\n",
       "      <td>450</td>\n",
       "      <td>13</td>\n",
       "      <td>1563519535596</td>\n",
       "      <td>DUO_SUPPORT</td>\n",
       "      <td>BOTTOM</td>\n",
       "    </tr>\n",
       "    <tr>\n",
       "      <td>98</td>\n",
       "      <td>KR</td>\n",
       "      <td>3760043470</td>\n",
       "      <td>7</td>\n",
       "      <td>420</td>\n",
       "      <td>13</td>\n",
       "      <td>1563519145098</td>\n",
       "      <td>DUO</td>\n",
       "      <td>NONE</td>\n",
       "    </tr>\n",
       "    <tr>\n",
       "      <td>99</td>\n",
       "      <td>KR</td>\n",
       "      <td>3756678082</td>\n",
       "      <td>7</td>\n",
       "      <td>420</td>\n",
       "      <td>13</td>\n",
       "      <td>1563359231166</td>\n",
       "      <td>SOLO</td>\n",
       "      <td>MID</td>\n",
       "    </tr>\n",
       "  </tbody>\n",
       "</table>\n",
       "<p>100 rows × 8 columns</p>\n",
       "</div>"
      ],
      "text/plain": [
       "   platformId      gameId  champion  queue  season      timestamp  \\\n",
       "0          KR  4023118028        76    420      13  1576224650953   \n",
       "1          KR  4022941701         8    420      13  1576214726736   \n",
       "2          KR  4022868284        54    420      13  1576213137516   \n",
       "3          KR  4022835458        64    420      13  1576205482764   \n",
       "4          KR  4021160362       127    420      13  1576130294152   \n",
       "..        ...         ...       ...    ...     ...            ...   \n",
       "95         KR  3760406867       222    450      13  1563534268580   \n",
       "96         KR  3760168787        54    450      13  1563524960533   \n",
       "97         KR  3760084758        99    450      13  1563519535596   \n",
       "98         KR  3760043470         7    420      13  1563519145098   \n",
       "99         KR  3756678082         7    420      13  1563359231166   \n",
       "\n",
       "           role    lane  \n",
       "0          NONE  JUNGLE  \n",
       "1          SOLO     TOP  \n",
       "2          SOLO  BOTTOM  \n",
       "3           DUO    NONE  \n",
       "4          SOLO     MID  \n",
       "..          ...     ...  \n",
       "95  DUO_SUPPORT    NONE  \n",
       "96  DUO_SUPPORT    NONE  \n",
       "97  DUO_SUPPORT  BOTTOM  \n",
       "98          DUO    NONE  \n",
       "99         SOLO     MID  \n",
       "\n",
       "[100 rows x 8 columns]"
      ]
     },
     "execution_count": 181,
     "metadata": {},
     "output_type": "execute_result"
    }
   ],
   "source": [
    "match_dupllicat_df"
   ]
  },
  {
   "cell_type": "code",
   "execution_count": 182,
   "metadata": {},
   "outputs": [],
   "source": [
    "match_df = pd.DataFrame()"
   ]
  },
  {
   "cell_type": "code",
   "execution_count": 183,
   "metadata": {},
   "outputs": [],
   "source": [
    "api_url = 'https://kr.api.riotgames.com/lol/match/v4/matches/' + str(match_dupllicat_df['gameId'].iloc[0]) + '?api_key=' + api_key"
   ]
  },
  {
   "cell_type": "code",
   "execution_count": 184,
   "metadata": {},
   "outputs": [],
   "source": [
    "r7=requests.get(api_url)"
   ]
  },
  {
   "cell_type": "code",
   "execution_count": 186,
   "metadata": {},
   "outputs": [],
   "source": [
    "r7= requests.get(api_url,headers = {'user-agent': ('Mozilla/5.0 (Windows NT 10.0; Win64; x64) AppleWebKit/537.36 (KHTML, like Gecko)'\n",
    "                                                                            'Chrome/71.0.3578.98 Safari/537.36')})"
   ]
  },
  {
   "cell_type": "code",
   "execution_count": 187,
   "metadata": {},
   "outputs": [
    {
     "data": {
      "text/plain": [
       "<Response [200]>"
      ]
     },
     "execution_count": 187,
     "metadata": {},
     "output_type": "execute_result"
    }
   ],
   "source": [
    "r7"
   ]
  },
  {
   "cell_type": "code",
   "execution_count": 188,
   "metadata": {},
   "outputs": [
    {
     "data": {
      "text/html": [
       "<div>\n",
       "<style scoped>\n",
       "    .dataframe tbody tr th:only-of-type {\n",
       "        vertical-align: middle;\n",
       "    }\n",
       "\n",
       "    .dataframe tbody tr th {\n",
       "        vertical-align: top;\n",
       "    }\n",
       "\n",
       "    .dataframe thead th {\n",
       "        text-align: right;\n",
       "    }\n",
       "</style>\n",
       "<table border=\"1\" class=\"dataframe\">\n",
       "  <thead>\n",
       "    <tr style=\"text-align: right;\">\n",
       "      <th></th>\n",
       "      <th>gameId</th>\n",
       "      <th>platformId</th>\n",
       "      <th>gameCreation</th>\n",
       "      <th>gameDuration</th>\n",
       "      <th>queueId</th>\n",
       "      <th>mapId</th>\n",
       "      <th>seasonId</th>\n",
       "      <th>gameVersion</th>\n",
       "      <th>gameMode</th>\n",
       "      <th>gameType</th>\n",
       "      <th>teams</th>\n",
       "      <th>participants</th>\n",
       "      <th>participantIdentities</th>\n",
       "    </tr>\n",
       "  </thead>\n",
       "  <tbody>\n",
       "    <tr>\n",
       "      <td>0</td>\n",
       "      <td>4023118028</td>\n",
       "      <td>KR</td>\n",
       "      <td>1576224650953</td>\n",
       "      <td>1778</td>\n",
       "      <td>420</td>\n",
       "      <td>11</td>\n",
       "      <td>13</td>\n",
       "      <td>9.24.300.6382</td>\n",
       "      <td>CLASSIC</td>\n",
       "      <td>MATCHED_GAME</td>\n",
       "      <td>[{'teamId': 100, 'win': 'Win', 'firstBlood': F...</td>\n",
       "      <td>[{'participantId': 1, 'teamId': 100, 'champion...</td>\n",
       "      <td>[{'participantId': 1, 'player': {'platformId':...</td>\n",
       "    </tr>\n",
       "  </tbody>\n",
       "</table>\n",
       "</div>"
      ],
      "text/plain": [
       "       gameId platformId   gameCreation gameDuration queueId mapId seasonId  \\\n",
       "0  4023118028         KR  1576224650953         1778     420    11       13   \n",
       "\n",
       "     gameVersion gameMode      gameType  \\\n",
       "0  9.24.300.6382  CLASSIC  MATCHED_GAME   \n",
       "\n",
       "                                               teams  \\\n",
       "0  [{'teamId': 100, 'win': 'Win', 'firstBlood': F...   \n",
       "\n",
       "                                        participants  \\\n",
       "0  [{'participantId': 1, 'teamId': 100, 'champion...   \n",
       "\n",
       "                               participantIdentities  \n",
       "0  [{'participantId': 1, 'player': {'platformId':...  "
      ]
     },
     "execution_count": 188,
     "metadata": {},
     "output_type": "execute_result"
    }
   ],
   "source": [
    "pd.DataFrame(list(r7.json().values()), index=list(r7.json().keys())).T"
   ]
  },
  {
   "cell_type": "code",
   "execution_count": 189,
   "metadata": {},
   "outputs": [],
   "source": [
    "match_df = pd.DataFrame()"
   ]
  },
  {
   "cell_type": "code",
   "execution_count": 194,
   "metadata": {},
   "outputs": [],
   "source": [
    "from wordcloud import WordCloud"
   ]
  },
  {
   "cell_type": "code",
   "execution_count": 196,
   "metadata": {},
   "outputs": [],
   "source": [
    "word = pd.read_csv('C:/Users/KOH/매치.csv',encoding='cp949')"
   ]
  },
  {
   "cell_type": "code",
   "execution_count": 205,
   "metadata": {},
   "outputs": [
    {
     "data": {
      "text/plain": [
       "0       니달리\n",
       "1     블라디미르\n",
       "2      말파이트\n",
       "3       시비르\n",
       "4       아이번\n",
       "      ...  \n",
       "95      레넥톤\n",
       "96     말파이트\n",
       "97      레넥톤\n",
       "98      르블랑\n",
       "99      르블랑\n",
       "Name: champion, Length: 100, dtype: object"
      ]
     },
     "execution_count": 205,
     "metadata": {},
     "output_type": "execute_result"
    }
   ],
   "source": [
    "word['champion'][0:100]"
   ]
  },
  {
   "cell_type": "code",
   "execution_count": null,
   "metadata": {},
   "outputs": [],
   "source": []
  },
  {
   "cell_type": "code",
   "execution_count": 216,
   "metadata": {},
   "outputs": [],
   "source": [
    "count_df = list([list(x) for x in word['champion'].value_counts().reset_index().values])"
   ]
  },
  {
   "cell_type": "code",
   "execution_count": 218,
   "metadata": {},
   "outputs": [
    {
     "data": {
      "text/plain": [
       "[['말파이트', 23],\n",
       " ['니달리', 12],\n",
       " ['블라디미르', 11],\n",
       " ['베인', 9],\n",
       " ['직스', 8],\n",
       " ['진', 7],\n",
       " ['잭스', 3],\n",
       " ['아트록스', 3],\n",
       " ['리신', 3],\n",
       " ['아이번', 3],\n",
       " ['카서스', 2],\n",
       " ['레넥톤', 2],\n",
       " ['르블랑', 2],\n",
       " ['블리츠크랭크', 2],\n",
       " ['시비르', 2],\n",
       " ['피즈', 2],\n",
       " ['이즈리얼', 2],\n",
       " ['쓰레쉬', 1],\n",
       " ['카직스', 1],\n",
       " ['카이사', 1],\n",
       " ['카사딘', 1]]"
      ]
     },
     "execution_count": 218,
     "metadata": {},
     "output_type": "execute_result"
    }
   ],
   "source": [
    "count_df[0:100]"
   ]
  },
  {
   "cell_type": "code",
   "execution_count": 225,
   "metadata": {},
   "outputs": [],
   "source": [
    "text = pd.read_csv('C:/Users/KOH/매치.csv',encoding='cp949')"
   ]
  },
  {
   "cell_type": "code",
   "execution_count": 226,
   "metadata": {},
   "outputs": [
    {
     "data": {
      "text/html": [
       "<div>\n",
       "<style scoped>\n",
       "    .dataframe tbody tr th:only-of-type {\n",
       "        vertical-align: middle;\n",
       "    }\n",
       "\n",
       "    .dataframe tbody tr th {\n",
       "        vertical-align: top;\n",
       "    }\n",
       "\n",
       "    .dataframe thead th {\n",
       "        text-align: right;\n",
       "    }\n",
       "</style>\n",
       "<table border=\"1\" class=\"dataframe\">\n",
       "  <thead>\n",
       "    <tr style=\"text-align: right;\">\n",
       "      <th></th>\n",
       "      <th>platformId</th>\n",
       "      <th>gameId</th>\n",
       "      <th>champion</th>\n",
       "      <th>queue</th>\n",
       "      <th>season</th>\n",
       "      <th>timestamp</th>\n",
       "      <th>role</th>\n",
       "      <th>lane</th>\n",
       "    </tr>\n",
       "  </thead>\n",
       "  <tbody>\n",
       "    <tr>\n",
       "      <td>0</td>\n",
       "      <td>KR</td>\n",
       "      <td>4023118028</td>\n",
       "      <td>니달리</td>\n",
       "      <td>420</td>\n",
       "      <td>13</td>\n",
       "      <td>1.576200e+12</td>\n",
       "      <td>NONE</td>\n",
       "      <td>JUNGLE</td>\n",
       "    </tr>\n",
       "    <tr>\n",
       "      <td>1</td>\n",
       "      <td>KR</td>\n",
       "      <td>4022941701</td>\n",
       "      <td>블라디미르</td>\n",
       "      <td>420</td>\n",
       "      <td>13</td>\n",
       "      <td>1.576200e+12</td>\n",
       "      <td>SOLO</td>\n",
       "      <td>TOP</td>\n",
       "    </tr>\n",
       "    <tr>\n",
       "      <td>2</td>\n",
       "      <td>KR</td>\n",
       "      <td>4022868284</td>\n",
       "      <td>말파이트</td>\n",
       "      <td>420</td>\n",
       "      <td>13</td>\n",
       "      <td>1.576200e+12</td>\n",
       "      <td>SOLO</td>\n",
       "      <td>BOTTOM</td>\n",
       "    </tr>\n",
       "    <tr>\n",
       "      <td>3</td>\n",
       "      <td>KR</td>\n",
       "      <td>4022835458</td>\n",
       "      <td>시비르</td>\n",
       "      <td>420</td>\n",
       "      <td>13</td>\n",
       "      <td>1.576200e+12</td>\n",
       "      <td>DUO</td>\n",
       "      <td>NONE</td>\n",
       "    </tr>\n",
       "    <tr>\n",
       "      <td>4</td>\n",
       "      <td>KR</td>\n",
       "      <td>4021160362</td>\n",
       "      <td>아이번</td>\n",
       "      <td>420</td>\n",
       "      <td>13</td>\n",
       "      <td>1.576100e+12</td>\n",
       "      <td>SOLO</td>\n",
       "      <td>MID</td>\n",
       "    </tr>\n",
       "    <tr>\n",
       "      <td>...</td>\n",
       "      <td>...</td>\n",
       "      <td>...</td>\n",
       "      <td>...</td>\n",
       "      <td>...</td>\n",
       "      <td>...</td>\n",
       "      <td>...</td>\n",
       "      <td>...</td>\n",
       "      <td>...</td>\n",
       "    </tr>\n",
       "    <tr>\n",
       "      <td>95</td>\n",
       "      <td>KR</td>\n",
       "      <td>3760406867</td>\n",
       "      <td>레넥톤</td>\n",
       "      <td>450</td>\n",
       "      <td>13</td>\n",
       "      <td>1.563500e+12</td>\n",
       "      <td>DUO_SUPPORT</td>\n",
       "      <td>NONE</td>\n",
       "    </tr>\n",
       "    <tr>\n",
       "      <td>96</td>\n",
       "      <td>KR</td>\n",
       "      <td>3760168787</td>\n",
       "      <td>말파이트</td>\n",
       "      <td>450</td>\n",
       "      <td>13</td>\n",
       "      <td>1.563500e+12</td>\n",
       "      <td>DUO_SUPPORT</td>\n",
       "      <td>NONE</td>\n",
       "    </tr>\n",
       "    <tr>\n",
       "      <td>97</td>\n",
       "      <td>KR</td>\n",
       "      <td>3760084758</td>\n",
       "      <td>레넥톤</td>\n",
       "      <td>450</td>\n",
       "      <td>13</td>\n",
       "      <td>1.563500e+12</td>\n",
       "      <td>DUO_SUPPORT</td>\n",
       "      <td>BOTTOM</td>\n",
       "    </tr>\n",
       "    <tr>\n",
       "      <td>98</td>\n",
       "      <td>KR</td>\n",
       "      <td>3760043470</td>\n",
       "      <td>르블랑</td>\n",
       "      <td>420</td>\n",
       "      <td>13</td>\n",
       "      <td>1.563500e+12</td>\n",
       "      <td>DUO</td>\n",
       "      <td>NONE</td>\n",
       "    </tr>\n",
       "    <tr>\n",
       "      <td>99</td>\n",
       "      <td>KR</td>\n",
       "      <td>3756678082</td>\n",
       "      <td>르블랑</td>\n",
       "      <td>420</td>\n",
       "      <td>13</td>\n",
       "      <td>1.563400e+12</td>\n",
       "      <td>SOLO</td>\n",
       "      <td>MID</td>\n",
       "    </tr>\n",
       "  </tbody>\n",
       "</table>\n",
       "<p>100 rows × 8 columns</p>\n",
       "</div>"
      ],
      "text/plain": [
       "   platformId      gameId champion  queue  season     timestamp         role  \\\n",
       "0          KR  4023118028      니달리    420      13  1.576200e+12         NONE   \n",
       "1          KR  4022941701    블라디미르    420      13  1.576200e+12         SOLO   \n",
       "2          KR  4022868284     말파이트    420      13  1.576200e+12         SOLO   \n",
       "3          KR  4022835458      시비르    420      13  1.576200e+12          DUO   \n",
       "4          KR  4021160362      아이번    420      13  1.576100e+12         SOLO   \n",
       "..        ...         ...      ...    ...     ...           ...          ...   \n",
       "95         KR  3760406867      레넥톤    450      13  1.563500e+12  DUO_SUPPORT   \n",
       "96         KR  3760168787     말파이트    450      13  1.563500e+12  DUO_SUPPORT   \n",
       "97         KR  3760084758      레넥톤    450      13  1.563500e+12  DUO_SUPPORT   \n",
       "98         KR  3760043470      르블랑    420      13  1.563500e+12          DUO   \n",
       "99         KR  3756678082      르블랑    420      13  1.563400e+12         SOLO   \n",
       "\n",
       "      lane  \n",
       "0   JUNGLE  \n",
       "1      TOP  \n",
       "2   BOTTOM  \n",
       "3     NONE  \n",
       "4      MID  \n",
       "..     ...  \n",
       "95    NONE  \n",
       "96    NONE  \n",
       "97  BOTTOM  \n",
       "98    NONE  \n",
       "99     MID  \n",
       "\n",
       "[100 rows x 8 columns]"
      ]
     },
     "execution_count": 226,
     "metadata": {},
     "output_type": "execute_result"
    }
   ],
   "source": []
  },
  {
   "cell_type": "code",
   "execution_count": 229,
   "metadata": {},
   "outputs": [],
   "source": [
    "file = open('C:/Users/KOH/매치.csv','r')"
   ]
  },
  {
   "cell_type": "code",
   "execution_count": 230,
   "metadata": {},
   "outputs": [],
   "source": [
    "lists = file.readlines()"
   ]
  },
  {
   "cell_type": "code",
   "execution_count": 231,
   "metadata": {},
   "outputs": [],
   "source": [
    "file.close()"
   ]
  },
  {
   "cell_type": "code",
   "execution_count": 232,
   "metadata": {},
   "outputs": [
    {
     "data": {
      "text/plain": [
       "['platformId,gameId,champion,queue,season,timestamp,role,lane\\n',\n",
       " 'KR,4023118028,니달리,420,13,1.5762E+12,NONE,JUNGLE\\n',\n",
       " 'KR,4022941701,블라디미르,420,13,1.5762E+12,SOLO,TOP\\n',\n",
       " 'KR,4022868284,말파이트,420,13,1.5762E+12,SOLO,BOTTOM\\n',\n",
       " 'KR,4022835458,시비르,420,13,1.5762E+12,DUO,NONE\\n',\n",
       " 'KR,4021160362,아이번,420,13,1.5761E+12,SOLO,MID\\n',\n",
       " 'KR,4021085354,말파이트,420,13,1.5761E+12,DUO_SUPPORT,BOTTOM\\n',\n",
       " 'KR,4021110408,말파이트,420,13,1.5761E+12,DUO_SUPPORT,BOTTOM\\n',\n",
       " 'KR,4020981662,블라디미르,420,13,1.5761E+12,DUO_CARRY,BOTTOM\\n',\n",
       " 'KR,4019972714,니달리,420,13,1.5761E+12,SOLO,TOP\\n',\n",
       " 'KR,4019893447,말파이트,420,13,1.5761E+12,DUO_SUPPORT,NONE\\n',\n",
       " 'KR,4019792801,말파이트,420,13,1.5761E+12,DUO_SUPPORT,BOTTOM\\n',\n",
       " 'KR,4018176468,니달리,420,13,1.576E+12,NONE,JUNGLE\\n',\n",
       " 'KR,4017951974,아이번,420,13,1.576E+12,NONE,JUNGLE\\n',\n",
       " 'KR,4017793137,시비르,420,13,1.5759E+12,DUO_SUPPORT,BOTTOM\\n',\n",
       " 'KR,4016738195,베인,420,13,1.5759E+12,NONE,JUNGLE\\n',\n",
       " 'KR,4016507163,베인,420,13,1.5759E+12,NONE,JUNGLE\\n',\n",
       " 'KR,4002025766,니달리,450,13,1.5751E+12,DUO_SUPPORT,NONE\\n',\n",
       " 'KR,4002040588,말파이트,430,13,1.5751E+12,SOLO,TOP\\n',\n",
       " 'KR,3981807798,블라디미르,430,13,1.5741E+12,SOLO,MID\\n',\n",
       " 'KR,3981765504,진,450,13,1.5741E+12,DUO_SUPPORT,NONE\\n',\n",
       " 'KR,3981761931,진,450,13,1.5741E+12,DUO_SUPPORT,NONE\\n',\n",
       " 'KR,3981589801,진,450,13,1.5741E+12,DUO_SUPPORT,NONE\\n',\n",
       " 'KR,3959323795,말파이트,450,13,1.573E+12,DUO_SUPPORT,NONE\\n',\n",
       " 'KR,3954222137,리신,420,13,1.5728E+12,DUO_SUPPORT,BOTTOM\\n',\n",
       " 'KR,3954124659,리신,420,13,1.5728E+12,DUO_SUPPORT,MID\\n',\n",
       " 'KR,3949906337,말파이트,900,13,1.5726E+12,DUO,TOP\\n',\n",
       " 'KR,3940953203,말파이트,430,13,1.5722E+12,DUO_SUPPORT,BOTTOM\\n',\n",
       " 'KR,3930475591,니달리,450,13,1.5718E+12,DUO,NONE\\n',\n",
       " 'KR,3930379445,블라디미르,430,13,1.5718E+12,NONE,JUNGLE\\n',\n",
       " 'KR,3930393553,직스,430,13,1.5718E+12,DUO_CARRY,BOTTOM\\n',\n",
       " 'KR,3926617806,잭스,450,13,1.5716E+12,DUO_SUPPORT,NONE\\n',\n",
       " 'KR,3926567614,직스,450,13,1.5716E+12,DUO_SUPPORT,NONE\\n',\n",
       " 'KR,3924678065,말파이트,450,13,1.5716E+12,DUO_SUPPORT,NONE\\n',\n",
       " 'KR,3920261044,진,450,13,1.5714E+12,DUO,NONE\\n',\n",
       " 'KR,3920136300,베인,450,13,1.5714E+12,DUO_SUPPORT,NONE\\n',\n",
       " 'KR,3890127583,베인,450,13,1.5699E+12,DUO_SUPPORT,NONE\\n',\n",
       " 'KR,3858522287,진,450,13,1.5683E+12,DUO_SUPPORT,NONE\\n',\n",
       " 'KR,3856531196,이즈리얼,420,13,1.5682E+12,DUO_SUPPORT,NONE\\n',\n",
       " 'KR,3788786787,말파이트,450,13,1.5648E+12,DUO_SUPPORT,TOP\\n',\n",
       " 'KR,3788719003,이즈리얼,420,13,1.5648E+12,DUO_CARRY,BOTTOM\\n',\n",
       " 'KR,3788635199,아트록스,450,13,1.5648E+12,DUO_SUPPORT,TOP\\n',\n",
       " 'KR,3788468681,아이번,450,13,1.5648E+12,DUO_SUPPORT,NONE\\n',\n",
       " 'KR,3788492214,아트록스,450,13,1.5648E+12,DUO_SUPPORT,NONE\\n',\n",
       " 'KR,3788435833,말파이트,450,13,1.5648E+12,SOLO,BOTTOM\\n',\n",
       " 'KR,3788400555,니달리,420,13,1.5648E+12,DUO_SUPPORT,NONE\\n',\n",
       " 'KR,3788331382,니달리,450,13,1.5648E+12,DUO_SUPPORT,MID\\n',\n",
       " 'KR,3788244940,블라디미르,420,13,1.5648E+12,DUO_CARRY,BOTTOM\\n',\n",
       " 'KR,3788165990,블라디미르,420,13,1.5648E+12,DUO_CARRY,BOTTOM\\n',\n",
       " 'KR,3788088530,니달리,420,13,1.5648E+12,SOLO,MID\\n',\n",
       " 'KR,3788038636,말파이트,450,13,1.5648E+12,DUO_SUPPORT,BOTTOM\\n',\n",
       " 'KR,3788033394,블라디미르,420,13,1.5648E+12,DUO,MID\\n',\n",
       " 'KR,3786777928,니달리,450,13,1.5647E+12,DUO_SUPPORT,MID\\n',\n",
       " 'KR,3786770758,베인,420,13,1.5647E+12,NONE,JUNGLE\\n',\n",
       " 'KR,3786650087,진,450,13,1.5647E+12,DUO_SUPPORT,TOP\\n',\n",
       " 'KR,3786591560,직스,420,13,1.5647E+12,DUO,MID\\n',\n",
       " 'KR,3786450580,직스,450,13,1.5647E+12,SOLO,BOTTOM\\n',\n",
       " 'KR,3786412500,말파이트,420,13,1.5647E+12,SOLO,TOP\\n',\n",
       " 'KR,3784889228,말파이트,420,13,1.5646E+12,DUO_CARRY,BOTTOM\\n',\n",
       " 'KR,3784814547,니달리,450,13,1.5646E+12,DUO_SUPPORT,NONE\\n',\n",
       " 'KR,3784796425,아트록스,420,13,1.5646E+12,DUO_SUPPORT,BOTTOM\\n',\n",
       " 'KR,3784671065,쓰레쉬,420,13,1.5646E+12,DUO_CARRY,BOTTOM\\n',\n",
       " 'KR,3784514069,블리츠크랭크,450,13,1.5646E+12,DUO_SUPPORT,BOTTOM\\n',\n",
       " 'KR,3783168849,블라디미르,450,13,1.5646E+12,DUO,TOP\\n',\n",
       " 'KR,3783162389,직스,420,13,1.5646E+12,DUO_SUPPORT,BOTTOM\\n',\n",
       " 'KR,3783053513,말파이트,450,13,1.5646E+12,DUO_SUPPORT,NONE\\n',\n",
       " 'KR,3782956134,니달리,420,13,1.5646E+12,DUO_SUPPORT,BOTTOM\\n',\n",
       " 'KR,3782847324,니달리,450,13,1.5645E+12,DUO_SUPPORT,NONE\\n',\n",
       " 'KR,3782771548,말파이트,420,13,1.5645E+12,NONE,JUNGLE\\n',\n",
       " 'KR,3782717860,블라디미르,420,13,1.5645E+12,DUO_SUPPORT,MID\\n',\n",
       " 'KR,3781079723,카서스,450,13,1.5645E+12,SOLO,MID\\n',\n",
       " 'KR,3781053052,카직스,420,13,1.5645E+12,DUO_SUPPORT,BOTTOM\\n',\n",
       " 'KR,3780905612,카사딘,450,13,1.5645E+12,DUO_SUPPORT,NONE\\n',\n",
       " 'KR,3780838147,카서스,420,13,1.5645E+12,DUO_CARRY,BOTTOM\\n',\n",
       " 'KR,3779268271,카이사,420,13,1.5644E+12,SOLO,MID\\n',\n",
       " 'KR,3779171498,말파이트,450,13,1.5644E+12,DUO_SUPPORT,MID\\n',\n",
       " 'KR,3778020823,직스,450,13,1.5643E+12,DUO_SUPPORT,NONE\\n',\n",
       " 'KR,3777818324,잭스,450,13,1.5643E+12,DUO_SUPPORT,NONE\\n',\n",
       " 'KR,3777744611,베인,420,13,1.5643E+12,SOLO,MID\\n',\n",
       " 'KR,3777665644,베인,420,13,1.5643E+12,DUO,NONE\\n',\n",
       " 'KR,3777265007,진,450,13,1.5643E+12,DUO_SUPPORT,MID\\n',\n",
       " 'KR,3777218803,베인,450,13,1.5643E+12,DUO_SUPPORT,NONE\\n',\n",
       " 'KR,3777176158,직스,420,13,1.5643E+12,SOLO,MID\\n',\n",
       " 'KR,3775958145,말파이트,450,13,1.5642E+12,DUO_SUPPORT,BOTTOM\\n',\n",
       " 'KR,3773490666,말파이트,450,13,1.5641E+12,DUO_SUPPORT,TOP\\n',\n",
       " 'KR,3773450135,블라디미르,420,13,1.5641E+12,DUO_SUPPORT,BOTTOM\\n',\n",
       " 'KR,3773321935,블리츠크랭크,420,13,1.5641E+12,DUO_SUPPORT,NONE\\n',\n",
       " 'KR,3771655085,말파이트,420,13,1.564E+12,DUO,BOTTOM\\n',\n",
       " 'KR,3769783121,말파이트,420,13,1.5639E+12,DUO_SUPPORT,BOTTOM\\n',\n",
       " 'KR,3766917233,베인,450,13,1.5638E+12,DUO_SUPPORT,NONE\\n',\n",
       " 'KR,3764967952,직스,450,13,1.5637E+12,DUO,MID\\n',\n",
       " 'KR,3764961565,잭스,450,13,1.5637E+12,DUO_SUPPORT,NONE\\n',\n",
       " 'KR,3764827880,리신,450,13,1.5637E+12,SOLO,BOTTOM\\n',\n",
       " 'KR,3762923970,피즈,450,13,1.5636E+12,DUO_SUPPORT,MID\\n',\n",
       " 'KR,3762626393,피즈,450,13,1.5636E+12,SOLO,TOP\\n',\n",
       " 'KR,3761901030,블라디미르,450,13,1.5636E+12,DUO_SUPPORT,NONE\\n',\n",
       " 'KR,3760406867,레넥톤,450,13,1.5635E+12,DUO_SUPPORT,NONE\\n',\n",
       " 'KR,3760168787,말파이트,450,13,1.5635E+12,DUO_SUPPORT,NONE\\n',\n",
       " 'KR,3760084758,레넥톤,450,13,1.5635E+12,DUO_SUPPORT,BOTTOM\\n',\n",
       " 'KR,3760043470,르블랑,420,13,1.5635E+12,DUO,NONE\\n',\n",
       " 'KR,3756678082,르블랑,420,13,1.5634E+12,SOLO,MID\\n']"
      ]
     },
     "execution_count": 232,
     "metadata": {},
     "output_type": "execute_result"
    }
   ],
   "source": [
    "lists"
   ]
  },
  {
   "cell_type": "code",
   "execution_count": 233,
   "metadata": {},
   "outputs": [
    {
     "name": "stderr",
     "output_type": "stream",
     "text": [
      "C:\\Users\\KOH\\Anaconda3\\lib\\site-packages\\konlpy\\tag\\_okt.py:16: UserWarning: \"Twitter\" has changed to \"Okt\" since KoNLPy v0.4.5.\n",
      "  warn('\"Twitter\" has changed to \"Okt\" since KoNLPy v0.4.5.')\n"
     ]
    },
    {
     "name": "stdout",
     "output_type": "stream",
     "text": [
      "[[('platformId', 'Alpha'), (',', 'Punctuation'), ('gameId', 'Alpha'), (',', 'Punctuation'), ('champion', 'Alpha'), (',', 'Punctuation'), ('queue', 'Alpha'), (',', 'Punctuation'), ('season', 'Alpha'), (',', 'Punctuation'), ('timestamp', 'Alpha'), (',', 'Punctuation'), ('role', 'Alpha'), (',', 'Punctuation'), ('lane', 'Alpha'), ('\\n', 'Foreign')], [('KR', 'Alpha'), (',', 'Punctuation'), ('4023118028', 'Number'), (',', 'Punctuation'), ('니달리', 'Noun'), (',', 'Punctuation'), ('420', 'Number'), (',', 'Punctuation'), ('13', 'Number'), (',', 'Punctuation'), ('1.5762', 'Number'), ('E', 'Alpha'), ('+', 'Punctuation'), ('12', 'Number'), (',', 'Punctuation'), ('NONE', 'Alpha'), (',', 'Punctuation'), ('JUNGLE', 'Alpha'), ('\\n', 'Foreign')], [('KR', 'Alpha'), (',', 'Punctuation'), ('4022941701', 'Number'), (',', 'Punctuation'), ('블라디미르', 'Noun'), (',', 'Punctuation'), ('420', 'Number'), (',', 'Punctuation'), ('13', 'Number'), (',', 'Punctuation'), ('1.5762', 'Number'), ('E', 'Alpha'), ('+', 'Punctuation'), ('12', 'Number'), (',', 'Punctuation'), ('SOLO', 'Alpha'), (',', 'Punctuation'), ('TOP', 'Alpha'), ('\\n', 'Foreign')], [('KR', 'Alpha'), (',', 'Punctuation'), ('4022868284', 'Number'), (',', 'Punctuation'), ('말파이트', 'Noun'), (',', 'Punctuation'), ('420', 'Number'), (',', 'Punctuation'), ('13', 'Number'), (',', 'Punctuation'), ('1.5762', 'Number'), ('E', 'Alpha'), ('+', 'Punctuation'), ('12', 'Number'), (',', 'Punctuation'), ('SOLO', 'Alpha'), (',', 'Punctuation'), ('BOTTOM', 'Alpha'), ('\\n', 'Foreign')], [('KR', 'Alpha'), (',', 'Punctuation'), ('4022835458', 'Number'), (',', 'Punctuation'), ('시비르', 'Noun'), (',', 'Punctuation'), ('420', 'Number'), (',', 'Punctuation'), ('13', 'Number'), (',', 'Punctuation'), ('1.5762', 'Number'), ('E', 'Alpha'), ('+', 'Punctuation'), ('12', 'Number'), (',', 'Punctuation'), ('DUO', 'Alpha'), (',', 'Punctuation'), ('NONE', 'Alpha'), ('\\n', 'Foreign')], [('KR', 'Alpha'), (',', 'Punctuation'), ('4021160362', 'Number'), (',', 'Punctuation'), ('아이', 'Noun'), ('번', 'Noun'), (',', 'Punctuation'), ('420', 'Number'), (',', 'Punctuation'), ('13', 'Number'), (',', 'Punctuation'), ('1.5761', 'Number'), ('E', 'Alpha'), ('+', 'Punctuation'), ('12', 'Number'), (',', 'Punctuation'), ('SOLO', 'Alpha'), (',', 'Punctuation'), ('MID', 'Alpha'), ('\\n', 'Foreign')], [('KR', 'Alpha'), (',', 'Punctuation'), ('4021085354', 'Number'), (',', 'Punctuation'), ('말파이트', 'Noun'), (',', 'Punctuation'), ('420', 'Number'), (',', 'Punctuation'), ('13', 'Number'), (',', 'Punctuation'), ('1.5761', 'Number'), ('E', 'Alpha'), ('+', 'Punctuation'), ('12', 'Number'), (',', 'Punctuation'), ('DUO', 'Alpha'), ('_', 'Punctuation'), ('SUPPORT', 'Alpha'), (',', 'Punctuation'), ('BOTTOM', 'Alpha'), ('\\n', 'Foreign')], [('KR', 'Alpha'), (',', 'Punctuation'), ('4021110408', 'Number'), (',', 'Punctuation'), ('말파이트', 'Noun'), (',', 'Punctuation'), ('420', 'Number'), (',', 'Punctuation'), ('13', 'Number'), (',', 'Punctuation'), ('1.5761', 'Number'), ('E', 'Alpha'), ('+', 'Punctuation'), ('12', 'Number'), (',', 'Punctuation'), ('DUO', 'Alpha'), ('_', 'Punctuation'), ('SUPPORT', 'Alpha'), (',', 'Punctuation'), ('BOTTOM', 'Alpha'), ('\\n', 'Foreign')], [('KR', 'Alpha'), (',', 'Punctuation'), ('4020981662', 'Number'), (',', 'Punctuation'), ('블라디미르', 'Noun'), (',', 'Punctuation'), ('420', 'Number'), (',', 'Punctuation'), ('13', 'Number'), (',', 'Punctuation'), ('1.5761', 'Number'), ('E', 'Alpha'), ('+', 'Punctuation'), ('12', 'Number'), (',', 'Punctuation'), ('DUO', 'Alpha'), ('_', 'Punctuation'), ('CARRY', 'Alpha'), (',', 'Punctuation'), ('BOTTOM', 'Alpha'), ('\\n', 'Foreign')], [('KR', 'Alpha'), (',', 'Punctuation'), ('4019972714', 'Number'), (',', 'Punctuation'), ('니달리', 'Noun'), (',', 'Punctuation'), ('420', 'Number'), (',', 'Punctuation'), ('13', 'Number'), (',', 'Punctuation'), ('1.5761', 'Number'), ('E', 'Alpha'), ('+', 'Punctuation'), ('12', 'Number'), (',', 'Punctuation'), ('SOLO', 'Alpha'), (',', 'Punctuation'), ('TOP', 'Alpha'), ('\\n', 'Foreign')], [('KR', 'Alpha'), (',', 'Punctuation'), ('4019893447', 'Number'), (',', 'Punctuation'), ('말파이트', 'Noun'), (',', 'Punctuation'), ('420', 'Number'), (',', 'Punctuation'), ('13', 'Number'), (',', 'Punctuation'), ('1.5761', 'Number'), ('E', 'Alpha'), ('+', 'Punctuation'), ('12', 'Number'), (',', 'Punctuation'), ('DUO', 'Alpha'), ('_', 'Punctuation'), ('SUPPORT', 'Alpha'), (',', 'Punctuation'), ('NONE', 'Alpha'), ('\\n', 'Foreign')], [('KR', 'Alpha'), (',', 'Punctuation'), ('4019792801', 'Number'), (',', 'Punctuation'), ('말파이트', 'Noun'), (',', 'Punctuation'), ('420', 'Number'), (',', 'Punctuation'), ('13', 'Number'), (',', 'Punctuation'), ('1.5761', 'Number'), ('E', 'Alpha'), ('+', 'Punctuation'), ('12', 'Number'), (',', 'Punctuation'), ('DUO', 'Alpha'), ('_', 'Punctuation'), ('SUPPORT', 'Alpha'), (',', 'Punctuation'), ('BOTTOM', 'Alpha'), ('\\n', 'Foreign')], [('KR', 'Alpha'), (',', 'Punctuation'), ('4018176468', 'Number'), (',', 'Punctuation'), ('니달리', 'Noun'), (',', 'Punctuation'), ('420', 'Number'), (',', 'Punctuation'), ('13', 'Number'), (',', 'Punctuation'), ('1.576', 'Number'), ('E', 'Alpha'), ('+', 'Punctuation'), ('12', 'Number'), (',', 'Punctuation'), ('NONE', 'Alpha'), (',', 'Punctuation'), ('JUNGLE', 'Alpha'), ('\\n', 'Foreign')], [('KR', 'Alpha'), (',', 'Punctuation'), ('4017951974', 'Number'), (',', 'Punctuation'), ('아이', 'Noun'), ('번', 'Noun'), (',', 'Punctuation'), ('420', 'Number'), (',', 'Punctuation'), ('13', 'Number'), (',', 'Punctuation'), ('1.576', 'Number'), ('E', 'Alpha'), ('+', 'Punctuation'), ('12', 'Number'), (',', 'Punctuation'), ('NONE', 'Alpha'), (',', 'Punctuation'), ('JUNGLE', 'Alpha'), ('\\n', 'Foreign')], [('KR', 'Alpha'), (',', 'Punctuation'), ('4017793137', 'Number'), (',', 'Punctuation'), ('시비르', 'Noun'), (',', 'Punctuation'), ('420', 'Number'), (',', 'Punctuation'), ('13', 'Number'), (',', 'Punctuation'), ('1.5759', 'Number'), ('E', 'Alpha'), ('+', 'Punctuation'), ('12', 'Number'), (',', 'Punctuation'), ('DUO', 'Alpha'), ('_', 'Punctuation'), ('SUPPORT', 'Alpha'), (',', 'Punctuation'), ('BOTTOM', 'Alpha'), ('\\n', 'Foreign')], [('KR', 'Alpha'), (',', 'Punctuation'), ('4016738195', 'Number'), (',', 'Punctuation'), ('베인', 'Noun'), (',', 'Punctuation'), ('420', 'Number'), (',', 'Punctuation'), ('13', 'Number'), (',', 'Punctuation'), ('1.5759', 'Number'), ('E', 'Alpha'), ('+', 'Punctuation'), ('12', 'Number'), (',', 'Punctuation'), ('NONE', 'Alpha'), (',', 'Punctuation'), ('JUNGLE', 'Alpha'), ('\\n', 'Foreign')], [('KR', 'Alpha'), (',', 'Punctuation'), ('4016507163', 'Number'), (',', 'Punctuation'), ('베인', 'Noun'), (',', 'Punctuation'), ('420', 'Number'), (',', 'Punctuation'), ('13', 'Number'), (',', 'Punctuation'), ('1.5759', 'Number'), ('E', 'Alpha'), ('+', 'Punctuation'), ('12', 'Number'), (',', 'Punctuation'), ('NONE', 'Alpha'), (',', 'Punctuation'), ('JUNGLE', 'Alpha'), ('\\n', 'Foreign')], [('KR', 'Alpha'), (',', 'Punctuation'), ('4002025766', 'Number'), (',', 'Punctuation'), ('니달리', 'Noun'), (',', 'Punctuation'), ('450', 'Number'), (',', 'Punctuation'), ('13', 'Number'), (',', 'Punctuation'), ('1.5751', 'Number'), ('E', 'Alpha'), ('+', 'Punctuation'), ('12', 'Number'), (',', 'Punctuation'), ('DUO', 'Alpha'), ('_', 'Punctuation'), ('SUPPORT', 'Alpha'), (',', 'Punctuation'), ('NONE', 'Alpha'), ('\\n', 'Foreign')], [('KR', 'Alpha'), (',', 'Punctuation'), ('4002040588', 'Number'), (',', 'Punctuation'), ('말파이트', 'Noun'), (',', 'Punctuation'), ('430', 'Number'), (',', 'Punctuation'), ('13', 'Number'), (',', 'Punctuation'), ('1.5751', 'Number'), ('E', 'Alpha'), ('+', 'Punctuation'), ('12', 'Number'), (',', 'Punctuation'), ('SOLO', 'Alpha'), (',', 'Punctuation'), ('TOP', 'Alpha'), ('\\n', 'Foreign')], [('KR', 'Alpha'), (',', 'Punctuation'), ('3981807798', 'Number'), (',', 'Punctuation'), ('블라디미르', 'Noun'), (',', 'Punctuation'), ('430', 'Number'), (',', 'Punctuation'), ('13', 'Number'), (',', 'Punctuation'), ('1.5741', 'Number'), ('E', 'Alpha'), ('+', 'Punctuation'), ('12', 'Number'), (',', 'Punctuation'), ('SOLO', 'Alpha'), (',', 'Punctuation'), ('MID', 'Alpha'), ('\\n', 'Foreign')], [('KR', 'Alpha'), (',', 'Punctuation'), ('3981765504', 'Number'), (',', 'Punctuation'), ('진', 'Noun'), (',', 'Punctuation'), ('450', 'Number'), (',', 'Punctuation'), ('13', 'Number'), (',', 'Punctuation'), ('1.5741', 'Number'), ('E', 'Alpha'), ('+', 'Punctuation'), ('12', 'Number'), (',', 'Punctuation'), ('DUO', 'Alpha'), ('_', 'Punctuation'), ('SUPPORT', 'Alpha'), (',', 'Punctuation'), ('NONE', 'Alpha'), ('\\n', 'Foreign')], [('KR', 'Alpha'), (',', 'Punctuation'), ('3981761931', 'Number'), (',', 'Punctuation'), ('진', 'Noun'), (',', 'Punctuation'), ('450', 'Number'), (',', 'Punctuation'), ('13', 'Number'), (',', 'Punctuation'), ('1.5741', 'Number'), ('E', 'Alpha'), ('+', 'Punctuation'), ('12', 'Number'), (',', 'Punctuation'), ('DUO', 'Alpha'), ('_', 'Punctuation'), ('SUPPORT', 'Alpha'), (',', 'Punctuation'), ('NONE', 'Alpha'), ('\\n', 'Foreign')], [('KR', 'Alpha'), (',', 'Punctuation'), ('3981589801', 'Number'), (',', 'Punctuation'), ('진', 'Noun'), (',', 'Punctuation'), ('450', 'Number'), (',', 'Punctuation'), ('13', 'Number'), (',', 'Punctuation'), ('1.5741', 'Number'), ('E', 'Alpha'), ('+', 'Punctuation'), ('12', 'Number'), (',', 'Punctuation'), ('DUO', 'Alpha'), ('_', 'Punctuation'), ('SUPPORT', 'Alpha'), (',', 'Punctuation'), ('NONE', 'Alpha'), ('\\n', 'Foreign')], [('KR', 'Alpha'), (',', 'Punctuation'), ('3959323795', 'Number'), (',', 'Punctuation'), ('말파이트', 'Noun'), (',', 'Punctuation'), ('450', 'Number'), (',', 'Punctuation'), ('13', 'Number'), (',', 'Punctuation'), ('1.573', 'Number'), ('E', 'Alpha'), ('+', 'Punctuation'), ('12', 'Number'), (',', 'Punctuation'), ('DUO', 'Alpha'), ('_', 'Punctuation'), ('SUPPORT', 'Alpha'), (',', 'Punctuation'), ('NONE', 'Alpha'), ('\\n', 'Foreign')], [('KR', 'Alpha'), (',', 'Punctuation'), ('3954222137', 'Number'), (',', 'Punctuation'), ('리신', 'Noun'), (',', 'Punctuation'), ('420', 'Number'), (',', 'Punctuation'), ('13', 'Number'), (',', 'Punctuation'), ('1.5728', 'Number'), ('E', 'Alpha'), ('+', 'Punctuation'), ('12', 'Number'), (',', 'Punctuation'), ('DUO', 'Alpha'), ('_', 'Punctuation'), ('SUPPORT', 'Alpha'), (',', 'Punctuation'), ('BOTTOM', 'Alpha'), ('\\n', 'Foreign')], [('KR', 'Alpha'), (',', 'Punctuation'), ('3954124659', 'Number'), (',', 'Punctuation'), ('리신', 'Noun'), (',', 'Punctuation'), ('420', 'Number'), (',', 'Punctuation'), ('13', 'Number'), (',', 'Punctuation'), ('1.5728', 'Number'), ('E', 'Alpha'), ('+', 'Punctuation'), ('12', 'Number'), (',', 'Punctuation'), ('DUO', 'Alpha'), ('_', 'Punctuation'), ('SUPPORT', 'Alpha'), (',', 'Punctuation'), ('MID', 'Alpha'), ('\\n', 'Foreign')], [('KR', 'Alpha'), (',', 'Punctuation'), ('3949906337', 'Number'), (',', 'Punctuation'), ('말파이트', 'Noun'), (',', 'Punctuation'), ('900', 'Number'), (',', 'Punctuation'), ('13', 'Number'), (',', 'Punctuation'), ('1.5726', 'Number'), ('E', 'Alpha'), ('+', 'Punctuation'), ('12', 'Number'), (',', 'Punctuation'), ('DUO', 'Alpha'), (',', 'Punctuation'), ('TOP', 'Alpha'), ('\\n', 'Foreign')], [('KR', 'Alpha'), (',', 'Punctuation'), ('3940953203', 'Number'), (',', 'Punctuation'), ('말파이트', 'Noun'), (',', 'Punctuation'), ('430', 'Number'), (',', 'Punctuation'), ('13', 'Number'), (',', 'Punctuation'), ('1.5722', 'Number'), ('E', 'Alpha'), ('+', 'Punctuation'), ('12', 'Number'), (',', 'Punctuation'), ('DUO', 'Alpha'), ('_', 'Punctuation'), ('SUPPORT', 'Alpha'), (',', 'Punctuation'), ('BOTTOM', 'Alpha'), ('\\n', 'Foreign')], [('KR', 'Alpha'), (',', 'Punctuation'), ('3930475591', 'Number'), (',', 'Punctuation'), ('니달리', 'Noun'), (',', 'Punctuation'), ('450', 'Number'), (',', 'Punctuation'), ('13', 'Number'), (',', 'Punctuation'), ('1.5718', 'Number'), ('E', 'Alpha'), ('+', 'Punctuation'), ('12', 'Number'), (',', 'Punctuation'), ('DUO', 'Alpha'), (',', 'Punctuation'), ('NONE', 'Alpha'), ('\\n', 'Foreign')], [('KR', 'Alpha'), (',', 'Punctuation'), ('3930379445', 'Number'), (',', 'Punctuation'), ('블라디미르', 'Noun'), (',', 'Punctuation'), ('430', 'Number'), (',', 'Punctuation'), ('13', 'Number'), (',', 'Punctuation'), ('1.5718', 'Number'), ('E', 'Alpha'), ('+', 'Punctuation'), ('12', 'Number'), (',', 'Punctuation'), ('NONE', 'Alpha'), (',', 'Punctuation'), ('JUNGLE', 'Alpha'), ('\\n', 'Foreign')], [('KR', 'Alpha'), (',', 'Punctuation'), ('3930393553', 'Number'), (',', 'Punctuation'), ('직스', 'Noun'), (',', 'Punctuation'), ('430', 'Number'), (',', 'Punctuation'), ('13', 'Number'), (',', 'Punctuation'), ('1.5718', 'Number'), ('E', 'Alpha'), ('+', 'Punctuation'), ('12', 'Number'), (',', 'Punctuation'), ('DUO', 'Alpha'), ('_', 'Punctuation'), ('CARRY', 'Alpha'), (',', 'Punctuation'), ('BOTTOM', 'Alpha'), ('\\n', 'Foreign')], [('KR', 'Alpha'), (',', 'Punctuation'), ('3926617806', 'Number'), (',', 'Punctuation'), ('잭스', 'Noun'), (',', 'Punctuation'), ('450', 'Number'), (',', 'Punctuation'), ('13', 'Number'), (',', 'Punctuation'), ('1.5716', 'Number'), ('E', 'Alpha'), ('+', 'Punctuation'), ('12', 'Number'), (',', 'Punctuation'), ('DUO', 'Alpha'), ('_', 'Punctuation'), ('SUPPORT', 'Alpha'), (',', 'Punctuation'), ('NONE', 'Alpha'), ('\\n', 'Foreign')], [('KR', 'Alpha'), (',', 'Punctuation'), ('3926567614', 'Number'), (',', 'Punctuation'), ('직스', 'Noun'), (',', 'Punctuation'), ('450', 'Number'), (',', 'Punctuation'), ('13', 'Number'), (',', 'Punctuation'), ('1.5716', 'Number'), ('E', 'Alpha'), ('+', 'Punctuation'), ('12', 'Number'), (',', 'Punctuation'), ('DUO', 'Alpha'), ('_', 'Punctuation'), ('SUPPORT', 'Alpha'), (',', 'Punctuation'), ('NONE', 'Alpha'), ('\\n', 'Foreign')], [('KR', 'Alpha'), (',', 'Punctuation'), ('3924678065', 'Number'), (',', 'Punctuation'), ('말파이트', 'Noun'), (',', 'Punctuation'), ('450', 'Number'), (',', 'Punctuation'), ('13', 'Number'), (',', 'Punctuation'), ('1.5716', 'Number'), ('E', 'Alpha'), ('+', 'Punctuation'), ('12', 'Number'), (',', 'Punctuation'), ('DUO', 'Alpha'), ('_', 'Punctuation'), ('SUPPORT', 'Alpha'), (',', 'Punctuation'), ('NONE', 'Alpha'), ('\\n', 'Foreign')], [('KR', 'Alpha'), (',', 'Punctuation'), ('3920261044', 'Number'), (',', 'Punctuation'), ('진', 'Noun'), (',', 'Punctuation'), ('450', 'Number'), (',', 'Punctuation'), ('13', 'Number'), (',', 'Punctuation'), ('1.5714', 'Number'), ('E', 'Alpha'), ('+', 'Punctuation'), ('12', 'Number'), (',', 'Punctuation'), ('DUO', 'Alpha'), (',', 'Punctuation'), ('NONE', 'Alpha'), ('\\n', 'Foreign')], [('KR', 'Alpha'), (',', 'Punctuation'), ('3920136300', 'Number'), (',', 'Punctuation'), ('베인', 'Noun'), (',', 'Punctuation'), ('450', 'Number'), (',', 'Punctuation'), ('13', 'Number'), (',', 'Punctuation'), ('1.5714', 'Number'), ('E', 'Alpha'), ('+', 'Punctuation'), ('12', 'Number'), (',', 'Punctuation'), ('DUO', 'Alpha'), ('_', 'Punctuation'), ('SUPPORT', 'Alpha'), (',', 'Punctuation'), ('NONE', 'Alpha'), ('\\n', 'Foreign')], [('KR', 'Alpha'), (',', 'Punctuation'), ('3890127583', 'Number'), (',', 'Punctuation'), ('베인', 'Noun'), (',', 'Punctuation'), ('450', 'Number'), (',', 'Punctuation'), ('13', 'Number'), (',', 'Punctuation'), ('1.5699', 'Number'), ('E', 'Alpha'), ('+', 'Punctuation'), ('12', 'Number'), (',', 'Punctuation'), ('DUO', 'Alpha'), ('_', 'Punctuation'), ('SUPPORT', 'Alpha'), (',', 'Punctuation'), ('NONE', 'Alpha'), ('\\n', 'Foreign')], [('KR', 'Alpha'), (',', 'Punctuation'), ('3858522287', 'Number'), (',', 'Punctuation'), ('진', 'Noun'), (',', 'Punctuation'), ('450', 'Number'), (',', 'Punctuation'), ('13', 'Number'), (',', 'Punctuation'), ('1.5683', 'Number'), ('E', 'Alpha'), ('+', 'Punctuation'), ('12', 'Number'), (',', 'Punctuation'), ('DUO', 'Alpha'), ('_', 'Punctuation'), ('SUPPORT', 'Alpha'), (',', 'Punctuation'), ('NONE', 'Alpha'), ('\\n', 'Foreign')], [('KR', 'Alpha'), (',', 'Punctuation'), ('3856531196', 'Number'), (',', 'Punctuation'), ('이즈리얼', 'Noun'), (',', 'Punctuation'), ('420', 'Number'), (',', 'Punctuation'), ('13', 'Number'), (',', 'Punctuation'), ('1.5682', 'Number'), ('E', 'Alpha'), ('+', 'Punctuation'), ('12', 'Number'), (',', 'Punctuation'), ('DUO', 'Alpha'), ('_', 'Punctuation'), ('SUPPORT', 'Alpha'), (',', 'Punctuation'), ('NONE', 'Alpha'), ('\\n', 'Foreign')], [('KR', 'Alpha'), (',', 'Punctuation'), ('3788786787', 'Number'), (',', 'Punctuation'), ('말파이트', 'Noun'), (',', 'Punctuation'), ('450', 'Number'), (',', 'Punctuation'), ('13', 'Number'), (',', 'Punctuation'), ('1.5648', 'Number'), ('E', 'Alpha'), ('+', 'Punctuation'), ('12', 'Number'), (',', 'Punctuation'), ('DUO', 'Alpha'), ('_', 'Punctuation'), ('SUPPORT', 'Alpha'), (',', 'Punctuation'), ('TOP', 'Alpha'), ('\\n', 'Foreign')], [('KR', 'Alpha'), (',', 'Punctuation'), ('3788719003', 'Number'), (',', 'Punctuation'), ('이즈리얼', 'Noun'), (',', 'Punctuation'), ('420', 'Number'), (',', 'Punctuation'), ('13', 'Number'), (',', 'Punctuation'), ('1.5648', 'Number'), ('E', 'Alpha'), ('+', 'Punctuation'), ('12', 'Number'), (',', 'Punctuation'), ('DUO', 'Alpha'), ('_', 'Punctuation'), ('CARRY', 'Alpha'), (',', 'Punctuation'), ('BOTTOM', 'Alpha'), ('\\n', 'Foreign')], [('KR', 'Alpha'), (',', 'Punctuation'), ('3788635199', 'Number'), (',', 'Punctuation'), ('아트록스', 'Noun'), (',', 'Punctuation'), ('450', 'Number'), (',', 'Punctuation'), ('13', 'Number'), (',', 'Punctuation'), ('1.5648', 'Number'), ('E', 'Alpha'), ('+', 'Punctuation'), ('12', 'Number'), (',', 'Punctuation'), ('DUO', 'Alpha'), ('_', 'Punctuation'), ('SUPPORT', 'Alpha'), (',', 'Punctuation'), ('TOP', 'Alpha'), ('\\n', 'Foreign')], [('KR', 'Alpha'), (',', 'Punctuation'), ('3788468681', 'Number'), (',', 'Punctuation'), ('아이', 'Noun'), ('번', 'Noun'), (',', 'Punctuation'), ('450', 'Number'), (',', 'Punctuation'), ('13', 'Number'), (',', 'Punctuation'), ('1.5648', 'Number'), ('E', 'Alpha'), ('+', 'Punctuation'), ('12', 'Number'), (',', 'Punctuation'), ('DUO', 'Alpha'), ('_', 'Punctuation'), ('SUPPORT', 'Alpha'), (',', 'Punctuation'), ('NONE', 'Alpha'), ('\\n', 'Foreign')], [('KR', 'Alpha'), (',', 'Punctuation'), ('3788492214', 'Number'), (',', 'Punctuation'), ('아트록스', 'Noun'), (',', 'Punctuation'), ('450', 'Number'), (',', 'Punctuation'), ('13', 'Number'), (',', 'Punctuation'), ('1.5648', 'Number'), ('E', 'Alpha'), ('+', 'Punctuation'), ('12', 'Number'), (',', 'Punctuation'), ('DUO', 'Alpha'), ('_', 'Punctuation'), ('SUPPORT', 'Alpha'), (',', 'Punctuation'), ('NONE', 'Alpha'), ('\\n', 'Foreign')], [('KR', 'Alpha'), (',', 'Punctuation'), ('3788435833', 'Number'), (',', 'Punctuation'), ('말파이트', 'Noun'), (',', 'Punctuation'), ('450', 'Number'), (',', 'Punctuation'), ('13', 'Number'), (',', 'Punctuation'), ('1.5648', 'Number'), ('E', 'Alpha'), ('+', 'Punctuation'), ('12', 'Number'), (',', 'Punctuation'), ('SOLO', 'Alpha'), (',', 'Punctuation'), ('BOTTOM', 'Alpha'), ('\\n', 'Foreign')], [('KR', 'Alpha'), (',', 'Punctuation'), ('3788400555', 'Number'), (',', 'Punctuation'), ('니달리', 'Noun'), (',', 'Punctuation'), ('420', 'Number'), (',', 'Punctuation'), ('13', 'Number'), (',', 'Punctuation'), ('1.5648', 'Number'), ('E', 'Alpha'), ('+', 'Punctuation'), ('12', 'Number'), (',', 'Punctuation'), ('DUO', 'Alpha'), ('_', 'Punctuation'), ('SUPPORT', 'Alpha'), (',', 'Punctuation'), ('NONE', 'Alpha'), ('\\n', 'Foreign')], [('KR', 'Alpha'), (',', 'Punctuation'), ('3788331382', 'Number'), (',', 'Punctuation'), ('니달리', 'Noun'), (',', 'Punctuation'), ('450', 'Number'), (',', 'Punctuation'), ('13', 'Number'), (',', 'Punctuation'), ('1.5648', 'Number'), ('E', 'Alpha'), ('+', 'Punctuation'), ('12', 'Number'), (',', 'Punctuation'), ('DUO', 'Alpha'), ('_', 'Punctuation'), ('SUPPORT', 'Alpha'), (',', 'Punctuation'), ('MID', 'Alpha'), ('\\n', 'Foreign')], [('KR', 'Alpha'), (',', 'Punctuation'), ('3788244940', 'Number'), (',', 'Punctuation'), ('블라디미르', 'Noun'), (',', 'Punctuation'), ('420', 'Number'), (',', 'Punctuation'), ('13', 'Number'), (',', 'Punctuation'), ('1.5648', 'Number'), ('E', 'Alpha'), ('+', 'Punctuation'), ('12', 'Number'), (',', 'Punctuation'), ('DUO', 'Alpha'), ('_', 'Punctuation'), ('CARRY', 'Alpha'), (',', 'Punctuation'), ('BOTTOM', 'Alpha'), ('\\n', 'Foreign')], [('KR', 'Alpha'), (',', 'Punctuation'), ('3788165990', 'Number'), (',', 'Punctuation'), ('블라디미르', 'Noun'), (',', 'Punctuation'), ('420', 'Number'), (',', 'Punctuation'), ('13', 'Number'), (',', 'Punctuation'), ('1.5648', 'Number'), ('E', 'Alpha'), ('+', 'Punctuation'), ('12', 'Number'), (',', 'Punctuation'), ('DUO', 'Alpha'), ('_', 'Punctuation'), ('CARRY', 'Alpha'), (',', 'Punctuation'), ('BOTTOM', 'Alpha'), ('\\n', 'Foreign')], [('KR', 'Alpha'), (',', 'Punctuation'), ('3788088530', 'Number'), (',', 'Punctuation'), ('니달리', 'Noun'), (',', 'Punctuation'), ('420', 'Number'), (',', 'Punctuation'), ('13', 'Number'), (',', 'Punctuation'), ('1.5648', 'Number'), ('E', 'Alpha'), ('+', 'Punctuation'), ('12', 'Number'), (',', 'Punctuation'), ('SOLO', 'Alpha'), (',', 'Punctuation'), ('MID', 'Alpha'), ('\\n', 'Foreign')], [('KR', 'Alpha'), (',', 'Punctuation'), ('3788038636', 'Number'), (',', 'Punctuation'), ('말파이트', 'Noun'), (',', 'Punctuation'), ('450', 'Number'), (',', 'Punctuation'), ('13', 'Number'), (',', 'Punctuation'), ('1.5648', 'Number'), ('E', 'Alpha'), ('+', 'Punctuation'), ('12', 'Number'), (',', 'Punctuation'), ('DUO', 'Alpha'), ('_', 'Punctuation'), ('SUPPORT', 'Alpha'), (',', 'Punctuation'), ('BOTTOM', 'Alpha'), ('\\n', 'Foreign')], [('KR', 'Alpha'), (',', 'Punctuation'), ('3788033394', 'Number'), (',', 'Punctuation'), ('블라디미르', 'Noun'), (',', 'Punctuation'), ('420', 'Number'), (',', 'Punctuation'), ('13', 'Number'), (',', 'Punctuation'), ('1.5648', 'Number'), ('E', 'Alpha'), ('+', 'Punctuation'), ('12', 'Number'), (',', 'Punctuation'), ('DUO', 'Alpha'), (',', 'Punctuation'), ('MID', 'Alpha'), ('\\n', 'Foreign')], [('KR', 'Alpha'), (',', 'Punctuation'), ('3786777928', 'Number'), (',', 'Punctuation'), ('니달리', 'Noun'), (',', 'Punctuation'), ('450', 'Number'), (',', 'Punctuation'), ('13', 'Number'), (',', 'Punctuation'), ('1.5647', 'Number'), ('E', 'Alpha'), ('+', 'Punctuation'), ('12', 'Number'), (',', 'Punctuation'), ('DUO', 'Alpha'), ('_', 'Punctuation'), ('SUPPORT', 'Alpha'), (',', 'Punctuation'), ('MID', 'Alpha'), ('\\n', 'Foreign')], [('KR', 'Alpha'), (',', 'Punctuation'), ('3786770758', 'Number'), (',', 'Punctuation'), ('베인', 'Noun'), (',', 'Punctuation'), ('420', 'Number'), (',', 'Punctuation'), ('13', 'Number'), (',', 'Punctuation'), ('1.5647', 'Number'), ('E', 'Alpha'), ('+', 'Punctuation'), ('12', 'Number'), (',', 'Punctuation'), ('NONE', 'Alpha'), (',', 'Punctuation'), ('JUNGLE', 'Alpha'), ('\\n', 'Foreign')], [('KR', 'Alpha'), (',', 'Punctuation'), ('3786650087', 'Number'), (',', 'Punctuation'), ('진', 'Noun'), (',', 'Punctuation'), ('450', 'Number'), (',', 'Punctuation'), ('13', 'Number'), (',', 'Punctuation'), ('1.5647', 'Number'), ('E', 'Alpha'), ('+', 'Punctuation'), ('12', 'Number'), (',', 'Punctuation'), ('DUO', 'Alpha'), ('_', 'Punctuation'), ('SUPPORT', 'Alpha'), (',', 'Punctuation'), ('TOP', 'Alpha'), ('\\n', 'Foreign')], [('KR', 'Alpha'), (',', 'Punctuation'), ('3786591560', 'Number'), (',', 'Punctuation'), ('직스', 'Noun'), (',', 'Punctuation'), ('420', 'Number'), (',', 'Punctuation'), ('13', 'Number'), (',', 'Punctuation'), ('1.5647', 'Number'), ('E', 'Alpha'), ('+', 'Punctuation'), ('12', 'Number'), (',', 'Punctuation'), ('DUO', 'Alpha'), (',', 'Punctuation'), ('MID', 'Alpha'), ('\\n', 'Foreign')], [('KR', 'Alpha'), (',', 'Punctuation'), ('3786450580', 'Number'), (',', 'Punctuation'), ('직스', 'Noun'), (',', 'Punctuation'), ('450', 'Number'), (',', 'Punctuation'), ('13', 'Number'), (',', 'Punctuation'), ('1.5647', 'Number'), ('E', 'Alpha'), ('+', 'Punctuation'), ('12', 'Number'), (',', 'Punctuation'), ('SOLO', 'Alpha'), (',', 'Punctuation'), ('BOTTOM', 'Alpha'), ('\\n', 'Foreign')], [('KR', 'Alpha'), (',', 'Punctuation'), ('3786412500', 'Number'), (',', 'Punctuation'), ('말파이트', 'Noun'), (',', 'Punctuation'), ('420', 'Number'), (',', 'Punctuation'), ('13', 'Number'), (',', 'Punctuation'), ('1.5647', 'Number'), ('E', 'Alpha'), ('+', 'Punctuation'), ('12', 'Number'), (',', 'Punctuation'), ('SOLO', 'Alpha'), (',', 'Punctuation'), ('TOP', 'Alpha'), ('\\n', 'Foreign')], [('KR', 'Alpha'), (',', 'Punctuation'), ('3784889228', 'Number'), (',', 'Punctuation'), ('말파이트', 'Noun'), (',', 'Punctuation'), ('420', 'Number'), (',', 'Punctuation'), ('13', 'Number'), (',', 'Punctuation'), ('1.5646', 'Number'), ('E', 'Alpha'), ('+', 'Punctuation'), ('12', 'Number'), (',', 'Punctuation'), ('DUO', 'Alpha'), ('_', 'Punctuation'), ('CARRY', 'Alpha'), (',', 'Punctuation'), ('BOTTOM', 'Alpha'), ('\\n', 'Foreign')], [('KR', 'Alpha'), (',', 'Punctuation'), ('3784814547', 'Number'), (',', 'Punctuation'), ('니달리', 'Noun'), (',', 'Punctuation'), ('450', 'Number'), (',', 'Punctuation'), ('13', 'Number'), (',', 'Punctuation'), ('1.5646', 'Number'), ('E', 'Alpha'), ('+', 'Punctuation'), ('12', 'Number'), (',', 'Punctuation'), ('DUO', 'Alpha'), ('_', 'Punctuation'), ('SUPPORT', 'Alpha'), (',', 'Punctuation'), ('NONE', 'Alpha'), ('\\n', 'Foreign')], [('KR', 'Alpha'), (',', 'Punctuation'), ('3784796425', 'Number'), (',', 'Punctuation'), ('아트록스', 'Noun'), (',', 'Punctuation'), ('420', 'Number'), (',', 'Punctuation'), ('13', 'Number'), (',', 'Punctuation'), ('1.5646', 'Number'), ('E', 'Alpha'), ('+', 'Punctuation'), ('12', 'Number'), (',', 'Punctuation'), ('DUO', 'Alpha'), ('_', 'Punctuation'), ('SUPPORT', 'Alpha'), (',', 'Punctuation'), ('BOTTOM', 'Alpha'), ('\\n', 'Foreign')], [('KR', 'Alpha'), (',', 'Punctuation'), ('3784671065', 'Number'), (',', 'Punctuation'), ('쓰레쉬', 'Noun'), (',', 'Punctuation'), ('420', 'Number'), (',', 'Punctuation'), ('13', 'Number'), (',', 'Punctuation'), ('1.5646', 'Number'), ('E', 'Alpha'), ('+', 'Punctuation'), ('12', 'Number'), (',', 'Punctuation'), ('DUO', 'Alpha'), ('_', 'Punctuation'), ('CARRY', 'Alpha'), (',', 'Punctuation'), ('BOTTOM', 'Alpha'), ('\\n', 'Foreign')], [('KR', 'Alpha'), (',', 'Punctuation'), ('3784514069', 'Number'), (',', 'Punctuation'), ('블리츠크랭크', 'Noun'), (',', 'Punctuation'), ('450', 'Number'), (',', 'Punctuation'), ('13', 'Number'), (',', 'Punctuation'), ('1.5646', 'Number'), ('E', 'Alpha'), ('+', 'Punctuation'), ('12', 'Number'), (',', 'Punctuation'), ('DUO', 'Alpha'), ('_', 'Punctuation'), ('SUPPORT', 'Alpha'), (',', 'Punctuation'), ('BOTTOM', 'Alpha'), ('\\n', 'Foreign')], [('KR', 'Alpha'), (',', 'Punctuation'), ('3783168849', 'Number'), (',', 'Punctuation'), ('블라디미르', 'Noun'), (',', 'Punctuation'), ('450', 'Number'), (',', 'Punctuation'), ('13', 'Number'), (',', 'Punctuation'), ('1.5646', 'Number'), ('E', 'Alpha'), ('+', 'Punctuation'), ('12', 'Number'), (',', 'Punctuation'), ('DUO', 'Alpha'), (',', 'Punctuation'), ('TOP', 'Alpha'), ('\\n', 'Foreign')], [('KR', 'Alpha'), (',', 'Punctuation'), ('3783162389', 'Number'), (',', 'Punctuation'), ('직스', 'Noun'), (',', 'Punctuation'), ('420', 'Number'), (',', 'Punctuation'), ('13', 'Number'), (',', 'Punctuation'), ('1.5646', 'Number'), ('E', 'Alpha'), ('+', 'Punctuation'), ('12', 'Number'), (',', 'Punctuation'), ('DUO', 'Alpha'), ('_', 'Punctuation'), ('SUPPORT', 'Alpha'), (',', 'Punctuation'), ('BOTTOM', 'Alpha'), ('\\n', 'Foreign')], [('KR', 'Alpha'), (',', 'Punctuation'), ('3783053513', 'Number'), (',', 'Punctuation'), ('말파이트', 'Noun'), (',', 'Punctuation'), ('450', 'Number'), (',', 'Punctuation'), ('13', 'Number'), (',', 'Punctuation'), ('1.5646', 'Number'), ('E', 'Alpha'), ('+', 'Punctuation'), ('12', 'Number'), (',', 'Punctuation'), ('DUO', 'Alpha'), ('_', 'Punctuation'), ('SUPPORT', 'Alpha'), (',', 'Punctuation'), ('NONE', 'Alpha'), ('\\n', 'Foreign')], [('KR', 'Alpha'), (',', 'Punctuation'), ('3782956134', 'Number'), (',', 'Punctuation'), ('니달리', 'Noun'), (',', 'Punctuation'), ('420', 'Number'), (',', 'Punctuation'), ('13', 'Number'), (',', 'Punctuation'), ('1.5646', 'Number'), ('E', 'Alpha'), ('+', 'Punctuation'), ('12', 'Number'), (',', 'Punctuation'), ('DUO', 'Alpha'), ('_', 'Punctuation'), ('SUPPORT', 'Alpha'), (',', 'Punctuation'), ('BOTTOM', 'Alpha'), ('\\n', 'Foreign')], [('KR', 'Alpha'), (',', 'Punctuation'), ('3782847324', 'Number'), (',', 'Punctuation'), ('니달리', 'Noun'), (',', 'Punctuation'), ('450', 'Number'), (',', 'Punctuation'), ('13', 'Number'), (',', 'Punctuation'), ('1.5645', 'Number'), ('E', 'Alpha'), ('+', 'Punctuation'), ('12', 'Number'), (',', 'Punctuation'), ('DUO', 'Alpha'), ('_', 'Punctuation'), ('SUPPORT', 'Alpha'), (',', 'Punctuation'), ('NONE', 'Alpha'), ('\\n', 'Foreign')], [('KR', 'Alpha'), (',', 'Punctuation'), ('3782771548', 'Number'), (',', 'Punctuation'), ('말파이트', 'Noun'), (',', 'Punctuation'), ('420', 'Number'), (',', 'Punctuation'), ('13', 'Number'), (',', 'Punctuation'), ('1.5645', 'Number'), ('E', 'Alpha'), ('+', 'Punctuation'), ('12', 'Number'), (',', 'Punctuation'), ('NONE', 'Alpha'), (',', 'Punctuation'), ('JUNGLE', 'Alpha'), ('\\n', 'Foreign')], [('KR', 'Alpha'), (',', 'Punctuation'), ('3782717860', 'Number'), (',', 'Punctuation'), ('블라디미르', 'Noun'), (',', 'Punctuation'), ('420', 'Number'), (',', 'Punctuation'), ('13', 'Number'), (',', 'Punctuation'), ('1.5645', 'Number'), ('E', 'Alpha'), ('+', 'Punctuation'), ('12', 'Number'), (',', 'Punctuation'), ('DUO', 'Alpha'), ('_', 'Punctuation'), ('SUPPORT', 'Alpha'), (',', 'Punctuation'), ('MID', 'Alpha'), ('\\n', 'Foreign')], [('KR', 'Alpha'), (',', 'Punctuation'), ('3781079723', 'Number'), (',', 'Punctuation'), ('카서스', 'Noun'), (',', 'Punctuation'), ('450', 'Number'), (',', 'Punctuation'), ('13', 'Number'), (',', 'Punctuation'), ('1.5645', 'Number'), ('E', 'Alpha'), ('+', 'Punctuation'), ('12', 'Number'), (',', 'Punctuation'), ('SOLO', 'Alpha'), (',', 'Punctuation'), ('MID', 'Alpha'), ('\\n', 'Foreign')], [('KR', 'Alpha'), (',', 'Punctuation'), ('3781053052', 'Number'), (',', 'Punctuation'), ('카직스', 'Noun'), (',', 'Punctuation'), ('420', 'Number'), (',', 'Punctuation'), ('13', 'Number'), (',', 'Punctuation'), ('1.5645', 'Number'), ('E', 'Alpha'), ('+', 'Punctuation'), ('12', 'Number'), (',', 'Punctuation'), ('DUO', 'Alpha'), ('_', 'Punctuation'), ('SUPPORT', 'Alpha'), (',', 'Punctuation'), ('BOTTOM', 'Alpha'), ('\\n', 'Foreign')], [('KR', 'Alpha'), (',', 'Punctuation'), ('3780905612', 'Number'), (',', 'Punctuation'), ('카사딘', 'Noun'), (',', 'Punctuation'), ('450', 'Number'), (',', 'Punctuation'), ('13', 'Number'), (',', 'Punctuation'), ('1.5645', 'Number'), ('E', 'Alpha'), ('+', 'Punctuation'), ('12', 'Number'), (',', 'Punctuation'), ('DUO', 'Alpha'), ('_', 'Punctuation'), ('SUPPORT', 'Alpha'), (',', 'Punctuation'), ('NONE', 'Alpha'), ('\\n', 'Foreign')], [('KR', 'Alpha'), (',', 'Punctuation'), ('3780838147', 'Number'), (',', 'Punctuation'), ('카서스', 'Noun'), (',', 'Punctuation'), ('420', 'Number'), (',', 'Punctuation'), ('13', 'Number'), (',', 'Punctuation'), ('1.5645', 'Number'), ('E', 'Alpha'), ('+', 'Punctuation'), ('12', 'Number'), (',', 'Punctuation'), ('DUO', 'Alpha'), ('_', 'Punctuation'), ('CARRY', 'Alpha'), (',', 'Punctuation'), ('BOTTOM', 'Alpha'), ('\\n', 'Foreign')], [('KR', 'Alpha'), (',', 'Punctuation'), ('3779268271', 'Number'), (',', 'Punctuation'), ('카이', 'Noun'), ('사', 'Noun'), (',', 'Punctuation'), ('420', 'Number'), (',', 'Punctuation'), ('13', 'Number'), (',', 'Punctuation'), ('1.5644', 'Number'), ('E', 'Alpha'), ('+', 'Punctuation'), ('12', 'Number'), (',', 'Punctuation'), ('SOLO', 'Alpha'), (',', 'Punctuation'), ('MID', 'Alpha'), ('\\n', 'Foreign')], [('KR', 'Alpha'), (',', 'Punctuation'), ('3779171498', 'Number'), (',', 'Punctuation'), ('말파이트', 'Noun'), (',', 'Punctuation'), ('450', 'Number'), (',', 'Punctuation'), ('13', 'Number'), (',', 'Punctuation'), ('1.5644', 'Number'), ('E', 'Alpha'), ('+', 'Punctuation'), ('12', 'Number'), (',', 'Punctuation'), ('DUO', 'Alpha'), ('_', 'Punctuation'), ('SUPPORT', 'Alpha'), (',', 'Punctuation'), ('MID', 'Alpha'), ('\\n', 'Foreign')], [('KR', 'Alpha'), (',', 'Punctuation'), ('3778020823', 'Number'), (',', 'Punctuation'), ('직스', 'Noun'), (',', 'Punctuation'), ('450', 'Number'), (',', 'Punctuation'), ('13', 'Number'), (',', 'Punctuation'), ('1.5643', 'Number'), ('E', 'Alpha'), ('+', 'Punctuation'), ('12', 'Number'), (',', 'Punctuation'), ('DUO', 'Alpha'), ('_', 'Punctuation'), ('SUPPORT', 'Alpha'), (',', 'Punctuation'), ('NONE', 'Alpha'), ('\\n', 'Foreign')], [('KR', 'Alpha'), (',', 'Punctuation'), ('3777818324', 'Number'), (',', 'Punctuation'), ('잭스', 'Noun'), (',', 'Punctuation'), ('450', 'Number'), (',', 'Punctuation'), ('13', 'Number'), (',', 'Punctuation'), ('1.5643', 'Number'), ('E', 'Alpha'), ('+', 'Punctuation'), ('12', 'Number'), (',', 'Punctuation'), ('DUO', 'Alpha'), ('_', 'Punctuation'), ('SUPPORT', 'Alpha'), (',', 'Punctuation'), ('NONE', 'Alpha'), ('\\n', 'Foreign')], [('KR', 'Alpha'), (',', 'Punctuation'), ('3777744611', 'Number'), (',', 'Punctuation'), ('베인', 'Noun'), (',', 'Punctuation'), ('420', 'Number'), (',', 'Punctuation'), ('13', 'Number'), (',', 'Punctuation'), ('1.5643', 'Number'), ('E', 'Alpha'), ('+', 'Punctuation'), ('12', 'Number'), (',', 'Punctuation'), ('SOLO', 'Alpha'), (',', 'Punctuation'), ('MID', 'Alpha'), ('\\n', 'Foreign')], [('KR', 'Alpha'), (',', 'Punctuation'), ('3777665644', 'Number'), (',', 'Punctuation'), ('베인', 'Noun'), (',', 'Punctuation'), ('420', 'Number'), (',', 'Punctuation'), ('13', 'Number'), (',', 'Punctuation'), ('1.5643', 'Number'), ('E', 'Alpha'), ('+', 'Punctuation'), ('12', 'Number'), (',', 'Punctuation'), ('DUO', 'Alpha'), (',', 'Punctuation'), ('NONE', 'Alpha'), ('\\n', 'Foreign')], [('KR', 'Alpha'), (',', 'Punctuation'), ('3777265007', 'Number'), (',', 'Punctuation'), ('진', 'Noun'), (',', 'Punctuation'), ('450', 'Number'), (',', 'Punctuation'), ('13', 'Number'), (',', 'Punctuation'), ('1.5643', 'Number'), ('E', 'Alpha'), ('+', 'Punctuation'), ('12', 'Number'), (',', 'Punctuation'), ('DUO', 'Alpha'), ('_', 'Punctuation'), ('SUPPORT', 'Alpha'), (',', 'Punctuation'), ('MID', 'Alpha'), ('\\n', 'Foreign')], [('KR', 'Alpha'), (',', 'Punctuation'), ('3777218803', 'Number'), (',', 'Punctuation'), ('베인', 'Noun'), (',', 'Punctuation'), ('450', 'Number'), (',', 'Punctuation'), ('13', 'Number'), (',', 'Punctuation'), ('1.5643', 'Number'), ('E', 'Alpha'), ('+', 'Punctuation'), ('12', 'Number'), (',', 'Punctuation'), ('DUO', 'Alpha'), ('_', 'Punctuation'), ('SUPPORT', 'Alpha'), (',', 'Punctuation'), ('NONE', 'Alpha'), ('\\n', 'Foreign')], [('KR', 'Alpha'), (',', 'Punctuation'), ('3777176158', 'Number'), (',', 'Punctuation'), ('직스', 'Noun'), (',', 'Punctuation'), ('420', 'Number'), (',', 'Punctuation'), ('13', 'Number'), (',', 'Punctuation'), ('1.5643', 'Number'), ('E', 'Alpha'), ('+', 'Punctuation'), ('12', 'Number'), (',', 'Punctuation'), ('SOLO', 'Alpha'), (',', 'Punctuation'), ('MID', 'Alpha'), ('\\n', 'Foreign')], [('KR', 'Alpha'), (',', 'Punctuation'), ('3775958145', 'Number'), (',', 'Punctuation'), ('말파이트', 'Noun'), (',', 'Punctuation'), ('450', 'Number'), (',', 'Punctuation'), ('13', 'Number'), (',', 'Punctuation'), ('1.5642', 'Number'), ('E', 'Alpha'), ('+', 'Punctuation'), ('12', 'Number'), (',', 'Punctuation'), ('DUO', 'Alpha'), ('_', 'Punctuation'), ('SUPPORT', 'Alpha'), (',', 'Punctuation'), ('BOTTOM', 'Alpha'), ('\\n', 'Foreign')], [('KR', 'Alpha'), (',', 'Punctuation'), ('3773490666', 'Number'), (',', 'Punctuation'), ('말파이트', 'Noun'), (',', 'Punctuation'), ('450', 'Number'), (',', 'Punctuation'), ('13', 'Number'), (',', 'Punctuation'), ('1.5641', 'Number'), ('E', 'Alpha'), ('+', 'Punctuation'), ('12', 'Number'), (',', 'Punctuation'), ('DUO', 'Alpha'), ('_', 'Punctuation'), ('SUPPORT', 'Alpha'), (',', 'Punctuation'), ('TOP', 'Alpha'), ('\\n', 'Foreign')], [('KR', 'Alpha'), (',', 'Punctuation'), ('3773450135', 'Number'), (',', 'Punctuation'), ('블라디미르', 'Noun'), (',', 'Punctuation'), ('420', 'Number'), (',', 'Punctuation'), ('13', 'Number'), (',', 'Punctuation'), ('1.5641', 'Number'), ('E', 'Alpha'), ('+', 'Punctuation'), ('12', 'Number'), (',', 'Punctuation'), ('DUO', 'Alpha'), ('_', 'Punctuation'), ('SUPPORT', 'Alpha'), (',', 'Punctuation'), ('BOTTOM', 'Alpha'), ('\\n', 'Foreign')], [('KR', 'Alpha'), (',', 'Punctuation'), ('3773321935', 'Number'), (',', 'Punctuation'), ('블리츠크랭크', 'Noun'), (',', 'Punctuation'), ('420', 'Number'), (',', 'Punctuation'), ('13', 'Number'), (',', 'Punctuation'), ('1.5641', 'Number'), ('E', 'Alpha'), ('+', 'Punctuation'), ('12', 'Number'), (',', 'Punctuation'), ('DUO', 'Alpha'), ('_', 'Punctuation'), ('SUPPORT', 'Alpha'), (',', 'Punctuation'), ('NONE', 'Alpha'), ('\\n', 'Foreign')], [('KR', 'Alpha'), (',', 'Punctuation'), ('3771655085', 'Number'), (',', 'Punctuation'), ('말파이트', 'Noun'), (',', 'Punctuation'), ('420', 'Number'), (',', 'Punctuation'), ('13', 'Number'), (',', 'Punctuation'), ('1.564', 'Number'), ('E', 'Alpha'), ('+', 'Punctuation'), ('12', 'Number'), (',', 'Punctuation'), ('DUO', 'Alpha'), (',', 'Punctuation'), ('BOTTOM', 'Alpha'), ('\\n', 'Foreign')], [('KR', 'Alpha'), (',', 'Punctuation'), ('3769783121', 'Number'), (',', 'Punctuation'), ('말파이트', 'Noun'), (',', 'Punctuation'), ('420', 'Number'), (',', 'Punctuation'), ('13', 'Number'), (',', 'Punctuation'), ('1.5639', 'Number'), ('E', 'Alpha'), ('+', 'Punctuation'), ('12', 'Number'), (',', 'Punctuation'), ('DUO', 'Alpha'), ('_', 'Punctuation'), ('SUPPORT', 'Alpha'), (',', 'Punctuation'), ('BOTTOM', 'Alpha'), ('\\n', 'Foreign')], [('KR', 'Alpha'), (',', 'Punctuation'), ('3766917233', 'Number'), (',', 'Punctuation'), ('베인', 'Noun'), (',', 'Punctuation'), ('450', 'Number'), (',', 'Punctuation'), ('13', 'Number'), (',', 'Punctuation'), ('1.5638', 'Number'), ('E', 'Alpha'), ('+', 'Punctuation'), ('12', 'Number'), (',', 'Punctuation'), ('DUO', 'Alpha'), ('_', 'Punctuation'), ('SUPPORT', 'Alpha'), (',', 'Punctuation'), ('NONE', 'Alpha'), ('\\n', 'Foreign')], [('KR', 'Alpha'), (',', 'Punctuation'), ('3764967952', 'Number'), (',', 'Punctuation'), ('직스', 'Noun'), (',', 'Punctuation'), ('450', 'Number'), (',', 'Punctuation'), ('13', 'Number'), (',', 'Punctuation'), ('1.5637', 'Number'), ('E', 'Alpha'), ('+', 'Punctuation'), ('12', 'Number'), (',', 'Punctuation'), ('DUO', 'Alpha'), (',', 'Punctuation'), ('MID', 'Alpha'), ('\\n', 'Foreign')], [('KR', 'Alpha'), (',', 'Punctuation'), ('3764961565', 'Number'), (',', 'Punctuation'), ('잭스', 'Noun'), (',', 'Punctuation'), ('450', 'Number'), (',', 'Punctuation'), ('13', 'Number'), (',', 'Punctuation'), ('1.5637', 'Number'), ('E', 'Alpha'), ('+', 'Punctuation'), ('12', 'Number'), (',', 'Punctuation'), ('DUO', 'Alpha'), ('_', 'Punctuation'), ('SUPPORT', 'Alpha'), (',', 'Punctuation'), ('NONE', 'Alpha'), ('\\n', 'Foreign')], [('KR', 'Alpha'), (',', 'Punctuation'), ('3764827880', 'Number'), (',', 'Punctuation'), ('리신', 'Noun'), (',', 'Punctuation'), ('450', 'Number'), (',', 'Punctuation'), ('13', 'Number'), (',', 'Punctuation'), ('1.5637', 'Number'), ('E', 'Alpha'), ('+', 'Punctuation'), ('12', 'Number'), (',', 'Punctuation'), ('SOLO', 'Alpha'), (',', 'Punctuation'), ('BOTTOM', 'Alpha'), ('\\n', 'Foreign')], [('KR', 'Alpha'), (',', 'Punctuation'), ('3762923970', 'Number'), (',', 'Punctuation'), ('피즈', 'Noun'), (',', 'Punctuation'), ('450', 'Number'), (',', 'Punctuation'), ('13', 'Number'), (',', 'Punctuation'), ('1.5636', 'Number'), ('E', 'Alpha'), ('+', 'Punctuation'), ('12', 'Number'), (',', 'Punctuation'), ('DUO', 'Alpha'), ('_', 'Punctuation'), ('SUPPORT', 'Alpha'), (',', 'Punctuation'), ('MID', 'Alpha'), ('\\n', 'Foreign')], [('KR', 'Alpha'), (',', 'Punctuation'), ('3762626393', 'Number'), (',', 'Punctuation'), ('피즈', 'Noun'), (',', 'Punctuation'), ('450', 'Number'), (',', 'Punctuation'), ('13', 'Number'), (',', 'Punctuation'), ('1.5636', 'Number'), ('E', 'Alpha'), ('+', 'Punctuation'), ('12', 'Number'), (',', 'Punctuation'), ('SOLO', 'Alpha'), (',', 'Punctuation'), ('TOP', 'Alpha'), ('\\n', 'Foreign')], [('KR', 'Alpha'), (',', 'Punctuation'), ('3761901030', 'Number'), (',', 'Punctuation'), ('블라디미르', 'Noun'), (',', 'Punctuation'), ('450', 'Number'), (',', 'Punctuation'), ('13', 'Number'), (',', 'Punctuation'), ('1.5636', 'Number'), ('E', 'Alpha'), ('+', 'Punctuation'), ('12', 'Number'), (',', 'Punctuation'), ('DUO', 'Alpha'), ('_', 'Punctuation'), ('SUPPORT', 'Alpha'), (',', 'Punctuation'), ('NONE', 'Alpha'), ('\\n', 'Foreign')], [('KR', 'Alpha'), (',', 'Punctuation'), ('3760406867', 'Number'), (',', 'Punctuation'), ('레넥톤', 'Noun'), (',', 'Punctuation'), ('450', 'Number'), (',', 'Punctuation'), ('13', 'Number'), (',', 'Punctuation'), ('1.5635', 'Number'), ('E', 'Alpha'), ('+', 'Punctuation'), ('12', 'Number'), (',', 'Punctuation'), ('DUO', 'Alpha'), ('_', 'Punctuation'), ('SUPPORT', 'Alpha'), (',', 'Punctuation'), ('NONE', 'Alpha'), ('\\n', 'Foreign')], [('KR', 'Alpha'), (',', 'Punctuation'), ('3760168787', 'Number'), (',', 'Punctuation'), ('말파이트', 'Noun'), (',', 'Punctuation'), ('450', 'Number'), (',', 'Punctuation'), ('13', 'Number'), (',', 'Punctuation'), ('1.5635', 'Number'), ('E', 'Alpha'), ('+', 'Punctuation'), ('12', 'Number'), (',', 'Punctuation'), ('DUO', 'Alpha'), ('_', 'Punctuation'), ('SUPPORT', 'Alpha'), (',', 'Punctuation'), ('NONE', 'Alpha'), ('\\n', 'Foreign')], [('KR', 'Alpha'), (',', 'Punctuation'), ('3760084758', 'Number'), (',', 'Punctuation'), ('레넥톤', 'Noun'), (',', 'Punctuation'), ('450', 'Number'), (',', 'Punctuation'), ('13', 'Number'), (',', 'Punctuation'), ('1.5635', 'Number'), ('E', 'Alpha'), ('+', 'Punctuation'), ('12', 'Number'), (',', 'Punctuation'), ('DUO', 'Alpha'), ('_', 'Punctuation'), ('SUPPORT', 'Alpha'), (',', 'Punctuation'), ('BOTTOM', 'Alpha'), ('\\n', 'Foreign')], [('KR', 'Alpha'), (',', 'Punctuation'), ('3760043470', 'Number'), (',', 'Punctuation'), ('르블랑', 'Noun'), (',', 'Punctuation'), ('420', 'Number'), (',', 'Punctuation'), ('13', 'Number'), (',', 'Punctuation'), ('1.5635', 'Number'), ('E', 'Alpha'), ('+', 'Punctuation'), ('12', 'Number'), (',', 'Punctuation'), ('DUO', 'Alpha'), (',', 'Punctuation'), ('NONE', 'Alpha'), ('\\n', 'Foreign')], [('KR', 'Alpha'), (',', 'Punctuation'), ('3756678082', 'Number'), (',', 'Punctuation'), ('르블랑', 'Noun'), (',', 'Punctuation'), ('420', 'Number'), (',', 'Punctuation'), ('13', 'Number'), (',', 'Punctuation'), ('1.5634', 'Number'), ('E', 'Alpha'), ('+', 'Punctuation'), ('12', 'Number'), (',', 'Punctuation'), ('SOLO', 'Alpha'), (',', 'Punctuation'), ('MID', 'Alpha'), ('\\n', 'Foreign')]]\n"
     ]
    }
   ],
   "source": [
    "twitter = Twitter()\n",
    "morphs = []\n",
    "\n",
    "for sentence in lists:\n",
    "    morphs.append(twitter.pos(sentence))\n",
    "    \n",
    "print(morphs)"
   ]
  },
  {
   "cell_type": "code",
   "execution_count": 243,
   "metadata": {},
   "outputs": [
    {
     "name": "stdout",
     "output_type": "stream",
     "text": [
      "['니달리', '블라디미르', '말파이트', '시비르', '아이', '번', '말파이트', '말파이트', '블라디미르', '니달리', '말파이트', '말파이트', '니달리', '아이', '번', '시비르', '베인', '베인', '니달리', '말파이트', '블라디미르', '진', '진', '진', '말파이트', '리신', '리신', '말파이트', '말파이트', '니달리', '블라디미르', '직스', '잭스', '직스', '말파이트', '진', '베인', '베인', '진', '이즈리얼', '말파이트', '이즈리얼', '아트록스', '아이', '번', '아트록스', '말파이트', '니달리', '니달리', '블라디미르', '블라디미르', '니달리', '말파이트', '블라디미르', '니달리', '베인', '진', '직스', '직스', '말파이트', '말파이트', '니달리', '아트록스', '쓰레쉬', '블리츠크랭크', '블라디미르', '직스', '말파이트', '니달리', '니달리', '말파이트', '블라디미르', '카서스', '카직스', '카사딘', '카서스', '카이', '사', '말파이트', '직스', '잭스', '베인', '베인', '진', '베인', '직스', '말파이트', '말파이트', '블라디미르', '블리츠크랭크', '말파이트', '말파이트', '베인', '직스', '잭스', '리신', '피즈', '피즈', '블라디미르', '레넥톤', '말파이트', '레넥톤', '르블랑', '르블랑']\n"
     ]
    }
   ],
   "source": [
    "noun_adj_adv_list=[] \n",
    "for sentence in morphs : \n",
    "    for word, tag in sentence : \n",
    "        if tag in ['Noun'] and (\"뷁\" not in word): \n",
    "            noun_adj_adv_list.append(word)\n",
    "            \n",
    "print(noun_adj_adv_list)\n"
   ]
  },
  {
   "cell_type": "code",
   "execution_count": 244,
   "metadata": {},
   "outputs": [],
   "source": [
    "count = Counter(noun_adj_adv_list)"
   ]
  },
  {
   "cell_type": "code",
   "execution_count": 245,
   "metadata": {},
   "outputs": [],
   "source": [
    "words = dict(count.most_common())"
   ]
  },
  {
   "cell_type": "code",
   "execution_count": 246,
   "metadata": {},
   "outputs": [
    {
     "data": {
      "text/plain": [
       "{'말파이트': 23,\n",
       " '니달리': 12,\n",
       " '블라디미르': 11,\n",
       " '베인': 9,\n",
       " '직스': 8,\n",
       " '진': 7,\n",
       " '아이': 3,\n",
       " '번': 3,\n",
       " '리신': 3,\n",
       " '잭스': 3,\n",
       " '아트록스': 3,\n",
       " '시비르': 2,\n",
       " '이즈리얼': 2,\n",
       " '블리츠크랭크': 2,\n",
       " '카서스': 2,\n",
       " '피즈': 2,\n",
       " '레넥톤': 2,\n",
       " '르블랑': 2,\n",
       " '쓰레쉬': 1,\n",
       " '카직스': 1,\n",
       " '카사딘': 1,\n",
       " '카이': 1,\n",
       " '사': 1}"
      ]
     },
     "execution_count": 246,
     "metadata": {},
     "output_type": "execute_result"
    }
   ],
   "source": [
    "words"
   ]
  },
  {
   "cell_type": "code",
   "execution_count": 295,
   "metadata": {},
   "outputs": [
    {
     "data": {
      "image/png": "[encoded data removed]",
      "text/plain": [
       "<Figure size 432x288 with 1 Axes>"
      ]
     },
     "metadata": {
      "needs_background": "light"
     },
     "output_type": "display_data"
    }
   ],
   "source": [
    "wordcloud = WordCloud(font_path='C:/Users/KOH/Anaconda3/Lib/site-packages/matplotlib/mpl-data/fonts/ttf/NanumBarunGothic.ttf',background_color='white',width=1500, height = 1100).generate_from_frequencies(words)\n",
    "plt.imshow(wordcloud)\n",
    "plt.axis('off')\n",
    "plt.show()"
   ]
  },
  {
   "cell_type": "code",
   "execution_count": null,
   "metadata": {},
   "outputs": [],
   "source": []
  },
  {
   "cell_type": "code",
   "execution_count": null,
   "metadata": {},
   "outputs": [],
   "source": []
  },
  {
   "cell_type": "code",
   "execution_count": null,
   "metadata": {},
   "outputs": [],
   "source": []
  },
  {
   "cell_type": "code",
   "execution_count": null,
   "metadata": {},
   "outputs": [],
   "source": []
  },
  {
   "cell_type": "code",
   "execution_count": null,
   "metadata": {},
   "outputs": [],
   "source": []
  },
  {
   "cell_type": "code",
   "execution_count": null,
   "metadata": {},
   "outputs": [],
   "source": []
  },
  {
   "cell_type": "code",
   "execution_count": null,
   "metadata": {},
   "outputs": [],
   "source": []
  },
  {
   "cell_type": "code",
   "execution_count": null,
   "metadata": {},
   "outputs": [],
   "source": []
  },
  {
   "cell_type": "code",
   "execution_count": null,
   "metadata": {},
   "outputs": [],
   "source": []
  },
  {
   "cell_type": "code",
   "execution_count": null,
   "metadata": {},
   "outputs": [],
   "source": []
  },
  {
   "cell_type": "code",
   "execution_count": null,
   "metadata": {},
   "outputs": [],
   "source": []
  },
  {
   "cell_type": "code",
   "execution_count": null,
   "metadata": {},
   "outputs": [],
   "source": []
  },
  {
   "cell_type": "code",
   "execution_count": null,
   "metadata": {},
   "outputs": [],
   "source": []
  },
  {
   "cell_type": "code",
   "execution_count": null,
   "metadata": {},
   "outputs": [],
   "source": []
  },
  {
   "cell_type": "code",
   "execution_count": null,
   "metadata": {},
   "outputs": [],
   "source": []
  },
  {
   "cell_type": "code",
   "execution_count": null,
   "metadata": {},
   "outputs": [],
   "source": []
  },
  {
   "cell_type": "code",
   "execution_count": null,
   "metadata": {},
   "outputs": [],
   "source": []
  },
  {
   "cell_type": "code",
   "execution_count": null,
   "metadata": {},
   "outputs": [],
   "source": []
  },
  {
   "cell_type": "code",
   "execution_count": null,
   "metadata": {},
   "outputs": [],
   "source": []
  },
  {
   "cell_type": "code",
   "execution_count": null,
   "metadata": {},
   "outputs": [],
   "source": []
  },
  {
   "cell_type": "code",
   "execution_count": null,
   "metadata": {},
   "outputs": [],
   "source": []
  },
  {
   "cell_type": "code",
   "execution_count": null,
   "metadata": {},
   "outputs": [],
   "source": []
  },
  {
   "cell_type": "code",
   "execution_count": null,
   "metadata": {},
   "outputs": [],
   "source": []
  },
  {
   "cell_type": "code",
   "execution_count": null,
   "metadata": {},
   "outputs": [],
   "source": []
  },
  {
   "cell_type": "code",
   "execution_count": null,
   "metadata": {},
   "outputs": [],
   "source": []
  },
  {
   "cell_type": "code",
   "execution_count": null,
   "metadata": {},
   "outputs": [],
   "source": []
  },
  {
   "cell_type": "code",
   "execution_count": null,
   "metadata": {},
   "outputs": [],
   "source": []
  },
  {
   "cell_type": "code",
   "execution_count": null,
   "metadata": {},
   "outputs": [],
   "source": []
  },
  {
   "cell_type": "code",
   "execution_count": null,
   "metadata": {},
   "outputs": [],
   "source": []
  },
  {
   "cell_type": "code",
   "execution_count": null,
   "metadata": {},
   "outputs": [],
   "source": []
  },
  {
   "cell_type": "code",
   "execution_count": null,
   "metadata": {},
   "outputs": [],
   "source": []
  },
  {
   "cell_type": "code",
   "execution_count": null,
   "metadata": {},
   "outputs": [],
   "source": []
  },
  {
   "cell_type": "code",
   "execution_count": null,
   "metadata": {},
   "outputs": [],
   "source": []
  },
  {
   "cell_type": "code",
   "execution_count": null,
   "metadata": {},
   "outputs": [],
   "source": []
  },
  {
   "cell_type": "code",
   "execution_count": null,
   "metadata": {},
   "outputs": [],
   "source": []
  },
  {
   "cell_type": "code",
   "execution_count": null,
   "metadata": {},
   "outputs": [],
   "source": []
  },
  {
   "cell_type": "code",
   "execution_count": null,
   "metadata": {},
   "outputs": [],
   "source": []
  },
  {
   "cell_type": "code",
   "execution_count": null,
   "metadata": {},
   "outputs": [],
   "source": []
  },
  {
   "cell_type": "code",
   "execution_count": null,
   "metadata": {},
   "outputs": [],
   "source": []
  },
  {
   "cell_type": "code",
   "execution_count": null,
   "metadata": {},
   "outputs": [],
   "source": []
  },
  {
   "cell_type": "code",
   "execution_count": null,
   "metadata": {},
   "outputs": [],
   "source": []
  },
  {
   "cell_type": "code",
   "execution_count": null,
   "metadata": {},
   "outputs": [],
   "source": []
  },
  {
   "cell_type": "code",
   "execution_count": null,
   "metadata": {},
   "outputs": [],
   "source": []
  },
  {
   "cell_type": "code",
   "execution_count": null,
   "metadata": {},
   "outputs": [],
   "source": []
  },
  {
   "cell_type": "code",
   "execution_count": null,
   "metadata": {},
   "outputs": [],
   "source": []
  },
  {
   "cell_type": "code",
   "execution_count": null,
   "metadata": {},
   "outputs": [],
   "source": []
  },
  {
   "cell_type": "code",
   "execution_count": null,
   "metadata": {},
   "outputs": [],
   "source": []
  },
  {
   "cell_type": "code",
   "execution_count": null,
   "metadata": {},
   "outputs": [],
   "source": []
  },
  {
   "cell_type": "code",
   "execution_count": null,
   "metadata": {},
   "outputs": [],
   "source": []
  },
  {
   "cell_type": "code",
   "execution_count": null,
   "metadata": {},
   "outputs": [],
   "source": []
  },
  {
   "cell_type": "code",
   "execution_count": null,
   "metadata": {},
   "outputs": [],
   "source": []
  },
  {
   "cell_type": "code",
   "execution_count": null,
   "metadata": {},
   "outputs": [],
   "source": []
  },
  {
   "cell_type": "code",
   "execution_count": null,
   "metadata": {},
   "outputs": [],
   "source": []
  },
  {
   "cell_type": "code",
   "execution_count": null,
   "metadata": {},
   "outputs": [],
   "source": []
  },
  {
   "cell_type": "code",
   "execution_count": null,
   "metadata": {},
   "outputs": [],
   "source": []
  },
  {
   "cell_type": "code",
   "execution_count": null,
   "metadata": {},
   "outputs": [],
   "source": []
  },
  {
   "cell_type": "code",
   "execution_count": null,
   "metadata": {},
   "outputs": [],
   "source": []
  },
  {
   "cell_type": "code",
   "execution_count": null,
   "metadata": {},
   "outputs": [],
   "source": []
  },
  {
   "cell_type": "code",
   "execution_count": null,
   "metadata": {},
   "outputs": [],
   "source": []
  },
  {
   "cell_type": "code",
   "execution_count": null,
   "metadata": {},
   "outputs": [],
   "source": []
  },
  {
   "cell_type": "code",
   "execution_count": null,
   "metadata": {},
   "outputs": [],
   "source": []
  },
  {
   "cell_type": "code",
   "execution_count": null,
   "metadata": {},
   "outputs": [],
   "source": []
  },
  {
   "cell_type": "code",
   "execution_count": null,
   "metadata": {},
   "outputs": [],
   "source": []
  },
  {
   "cell_type": "code",
   "execution_count": null,
   "metadata": {},
   "outputs": [],
   "source": []
  },
  {
   "cell_type": "code",
   "execution_count": null,
   "metadata": {},
   "outputs": [],
   "source": []
  },
  {
   "cell_type": "code",
   "execution_count": null,
   "metadata": {},
   "outputs": [],
   "source": []
  },
  {
   "cell_type": "code",
   "execution_count": null,
   "metadata": {},
   "outputs": [],
   "source": []
  },
  {
   "cell_type": "code",
   "execution_count": null,
   "metadata": {},
   "outputs": [],
   "source": []
  },
  {
   "cell_type": "code",
   "execution_count": null,
   "metadata": {},
   "outputs": [],
   "source": []
  },
  {
   "cell_type": "code",
   "execution_count": null,
   "metadata": {},
   "outputs": [],
   "source": []
  },
  {
   "cell_type": "code",
   "execution_count": null,
   "metadata": {},
   "outputs": [],
   "source": []
  },
  {
   "cell_type": "code",
   "execution_count": null,
   "metadata": {},
   "outputs": [],
   "source": []
  },
  {
   "cell_type": "code",
   "execution_count": null,
   "metadata": {},
   "outputs": [],
   "source": []
  },
  {
   "cell_type": "code",
   "execution_count": null,
   "metadata": {},
   "outputs": [],
   "source": []
  },
  {
   "cell_type": "code",
   "execution_count": null,
   "metadata": {},
   "outputs": [],
   "source": []
  },
  {
   "cell_type": "code",
   "execution_count": null,
   "metadata": {},
   "outputs": [],
   "source": []
  },
  {
   "cell_type": "code",
   "execution_count": null,
   "metadata": {},
   "outputs": [],
   "source": []
  },
  {
   "cell_type": "code",
   "execution_count": null,
   "metadata": {},
   "outputs": [],
   "source": []
  },
  {
   "cell_type": "code",
   "execution_count": null,
   "metadata": {},
   "outputs": [],
   "source": []
  },
  {
   "cell_type": "code",
   "execution_count": null,
   "metadata": {},
   "outputs": [],
   "source": []
  },
  {
   "cell_type": "code",
   "execution_count": null,
   "metadata": {},
   "outputs": [],
   "source": []
  },
  {
   "cell_type": "code",
   "execution_count": null,
   "metadata": {},
   "outputs": [],
   "source": []
  },
  {
   "cell_type": "code",
   "execution_count": null,
   "metadata": {},
   "outputs": [],
   "source": []
  },
  {
   "cell_type": "code",
   "execution_count": null,
   "metadata": {},
   "outputs": [],
   "source": []
  },
  {
   "cell_type": "code",
   "execution_count": null,
   "metadata": {},
   "outputs": [],
   "source": []
  }
 ],
 "metadata": {
  "kernelspec": {
   "display_name": "Python 3",
   "language": "python",
   "name": "python3"
  }
 },
 "nbformat": 4,
 "nbformat_minor": 2
}
